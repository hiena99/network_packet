{
 "metadata": {
  "language_info": {
   "codemirror_mode": {
    "name": "ipython",
    "version": 3
   },
   "file_extension": ".py",
   "mimetype": "text/x-python",
   "name": "python",
   "nbconvert_exporter": "python",
   "pygments_lexer": "ipython3",
   "version": "3.7.7-final"
  },
  "orig_nbformat": 2,
  "kernelspec": {
   "name": "Python 3.7.7 64-bit ('tensorflow': conda)",
   "display_name": "Python 3.7.7 64-bit ('tensorflow': conda)",
   "metadata": {
    "interpreter": {
     "hash": "8e734cf78999c412d74fcef1f761966c6eed0bb870d5a6444a853b596a36df4d"
    }
   }
  }
 },
 "nbformat": 4,
 "nbformat_minor": 2,
 "cells": [
  {
   "cell_type": "code",
   "execution_count": null,
   "metadata": {},
   "outputs": [],
   "source": [
    "import numpy as np\n",
    "import pandas as pd\n",
    "import matplotlib\n",
    "import seaborn as sns\n",
    "import sklearn\n",
    "import imblearn\n",
    "import matplotlib.pyplot as plt\n",
    "import time\n",
    "import sklearn.metrics as m\n",
    "import warnings\n",
    "\n",
    "warnings.filterwarnings('ignore')\n"
   ]
  },
  {
   "cell_type": "code",
   "execution_count": 8,
   "metadata": {},
   "outputs": [],
   "source": [
    "#Load Data"
   ]
  },
  {
   "cell_type": "code",
   "execution_count": 7,
   "metadata": {},
   "outputs": [],
   "source": [
    "pd.set_option('display.max_columns',None)\n",
    "pd.set_option('display.max_rows',None)\n",
    "\n",
    "#Probably can`t be finished because of huge amount of data with kaggle hardware, add nrows parameter to run here"
   ]
  },
  {
   "cell_type": "code",
   "execution_count": 6,
   "metadata": {},
   "outputs": [],
   "source": [
    "#Setting"
   ]
  },
  {
   "cell_type": "code",
   "execution_count": 12,
   "metadata": {},
   "outputs": [],
   "source": [
    "df1=pd.read_csv(\"./archive/Friday-WorkingHours-Afternoon-DDos.csv\")#,nrows = 50000\n",
    "df2=pd.read_csv(\"./archive/Friday-WorkingHours-Afternoon-PortScan.csv\")\n",
    "df3=pd.read_csv(\"./archive/Friday-WorkingHours-Morning.csv\")\n",
    "df4=pd.read_csv(\"./archive/Monday-WorkingHours.csv\")\n",
    "df5=pd.read_csv(\"./archive/Thursday-WorkingHours-Afternoon-Infilteration.csv\")\n",
    "df6=pd.read_csv(\"./archive/Thursday-WorkingHours-Morning-WebAttacks.csv\")\n",
    "df7=pd.read_csv(\"./archive/Tuesday-WorkingHours.csv\")\n",
    "df8=pd.read_csv(\"./archive/Wednesday-workingHours.csv\")"
   ]
  },
  {
   "cell_type": "code",
   "execution_count": 14,
   "metadata": {},
   "outputs": [
    {
     "output_type": "error",
     "ename": "NameError",
     "evalue": "name 'df1' is not defined",
     "traceback": [
      "\u001b[1;31m---------------------------------------------------------------------------\u001b[0m",
      "\u001b[1;31mNameError\u001b[0m                                 Traceback (most recent call last)",
      "\u001b[1;32m<ipython-input-14-a89f96d9cc70>\u001b[0m in \u001b[0;36m<module>\u001b[1;34m\u001b[0m\n\u001b[0;32m      1\u001b[0m \u001b[1;32mimport\u001b[0m \u001b[0mxgboost\u001b[0m \u001b[1;32mas\u001b[0m \u001b[0mxgb\u001b[0m\u001b[1;33m\u001b[0m\u001b[1;33m\u001b[0m\u001b[0m\n\u001b[0;32m      2\u001b[0m \u001b[1;33m\u001b[0m\u001b[0m\n\u001b[1;32m----> 3\u001b[1;33m \u001b[0mdf\u001b[0m \u001b[1;33m=\u001b[0m \u001b[0mpd\u001b[0m\u001b[1;33m.\u001b[0m\u001b[0mconcat\u001b[0m\u001b[1;33m(\u001b[0m\u001b[1;33m[\u001b[0m\u001b[0mdf1\u001b[0m\u001b[1;33m,\u001b[0m\u001b[0mdf2\u001b[0m\u001b[1;33m]\u001b[0m\u001b[1;33m)\u001b[0m\u001b[1;33m\u001b[0m\u001b[1;33m\u001b[0m\u001b[0m\n\u001b[0m\u001b[0;32m      4\u001b[0m \u001b[1;32mdel\u001b[0m \u001b[0mdf1\u001b[0m\u001b[1;33m,\u001b[0m\u001b[0mdf2\u001b[0m\u001b[1;33m\u001b[0m\u001b[1;33m\u001b[0m\u001b[0m\n\u001b[0;32m      5\u001b[0m \u001b[0mdf\u001b[0m \u001b[1;33m=\u001b[0m \u001b[0mpd\u001b[0m\u001b[1;33m.\u001b[0m\u001b[0mconcat\u001b[0m\u001b[1;33m(\u001b[0m\u001b[1;33m[\u001b[0m\u001b[0mdf\u001b[0m\u001b[1;33m,\u001b[0m\u001b[0mdf3\u001b[0m\u001b[1;33m]\u001b[0m\u001b[1;33m)\u001b[0m\u001b[1;33m\u001b[0m\u001b[1;33m\u001b[0m\u001b[0m\n",
      "\u001b[1;31mNameError\u001b[0m: name 'df1' is not defined"
     ]
    }
   ],
   "source": [
    "import xgboost as xgb\n",
    "\n",
    "df = pd.concat([df1,df2])\n",
    "del df1,df2\n",
    "df = pd.concat([df,df3])\n",
    "del df3\n",
    "df = pd.concat([df,df4])\n",
    "del df4\n",
    "df = pd.concat([df,df5])\n",
    "del df5\n",
    "df = pd.concat([df,df6])\n",
    "del df6\n",
    "df = pd.concat([df,df7])\n",
    "del df7\n",
    "df = pd.concat([df,df8])\n",
    "del df8\n",
    "\n",
    "print(df.info())\n",
    "print(df.head())"
   ]
  },
  {
   "cell_type": "code",
   "execution_count": null,
   "metadata": {},
   "outputs": [],
   "source": [
    "for i in df.coulms:\n",
    "    df  = df[df[i]!=\"Infinity\"]\n",
    "    df  = df[df[i]!= np.nan]\n",
    "    df = df[df[[i]!= \", ,\"]\n",
    "    df[['Flow Byte/s', ' Flow Packets/s']] = df[['Flow Byte/s', ' Flow Packets/s']].apply(pd.to_numeric)"
   ]
  },
  {
   "cell_type": "code",
   "execution_count": null,
   "metadata": {},
   "outputs": [],
   "source": [
    "print(df[' Bwd PSH Flags'].value_counts())\n",
    "print(df[' Bwd URG Flags'].value_counts())\n",
    "print(df['Fwd Avg Bytes/Bulk'].value_counts())\n",
    "print(df[' Fwd Avg Packets/Bulk'].value_counts())\n",
    "print(df[' Fwd Avg Bulk Rate'].value_counts())\n",
    "print(df[' Bwd Avg Bytes/Bulk'].value_counts())\n",
    "print(df[' Bwd Avg Packets/Bulk'].value_counts())\n",
    "print(df['Bwd Avg Bulk Rate'].value_counts())\n",
    "    \n",
    "#Date preprocesing\n",
    "df.drop([' Bwd PSH Flags'], axis=1, inplace=True)\n",
    "df.drop([' Bwd URG Flags'], axis=1, inplace=True)\n",
    "df.drop(['Fwd Avg Bytes/Bulk'], axis=1, inplace=True)\n",
    "df.drop([' Fwd Avg Packets/Bulk'], axis=1, inplace=True)\n",
    "df.drop([' Fwd Avg Bulk Rate'], axis=1, inplace=True)\n",
    "df.drop([' Bwd Avg Bytes/Bulk'], axis=1, inplace=True)\n",
    "df.drop([' Bwd Avg Packets/Bulk'], axis=1, inplace=True)\n",
    "df.drop(['Bwd Avg Bulk Rate'], axis=1, inplace=True)\n",
    "\n",
    "df.info()\n",
    "df.head()"
   ]
  },
  {
   "cell_type": "code",
   "execution_count": null,
   "metadata": {},
   "outputs": [],
   "source": [
    "from sklearn.model_selection import train_test_split\n",
    "train, test = train_test_split(df,test_size=0.3,random_state=10)\n",
    "\n",
    "train.describe()\n",
    "test.describe()\n",
    "\n",
    "train[' Label'].value_counts()\n",
    "test[' Label'].value_counts()\n"
   ]
  },
  {
   "cell_type": "code",
   "execution_count": null,
   "metadata": {},
   "outputs": [],
   "source": [
    "from sklearn.preprocessing import StandardScaler\n",
    "scaler = StandardScaler()\n",
    "\n",
    "#숫자 속성과 스케일을 제로민과 유닛 분산을 취한다.\n",
    "cols = train.select_dtypes(include=['float64','int64']).colums\n",
    "sc_train = scaler.fit_transform(train.selct_dtypes(include=['float64','int64']))\n",
    "sc_test = scaler.fit_transform(test.selct_dtypes(include=['float64','int64']))\n",
    "\n",
    "# 그결과를 데이터 프레임으로 리턴\n",
    "sc_traindf = pd.DataFrame(sc_train,colums = cols)\n",
    "sc_test = pd.DataFrame(sc_test,colums = cols)\n"
   ]
  },
  {
   "cell_type": "code",
   "execution_count": null,
   "metadata": {},
   "outputs": [],
   "source": [
    "from sklearn.preprocessing import OneHotEncoder\n",
    "onehotencoder = OneHotEncoder()\n",
    "\n",
    "trainDep = train[' Label'].value.reshape(-1,1)\n",
    "trainDep = onehotencoder.fit_transform(trainDep).toarray()\n",
    "testDep = test[' Label'].value.reshape(-1,1)\n",
    "testDep = onehotencoder.fit_transform(testDep).toarray()\n"
   ]
  }
 ]
}