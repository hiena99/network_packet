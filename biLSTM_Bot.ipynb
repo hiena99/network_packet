{
 "metadata": {
  "language_info": {
   "codemirror_mode": {
    "name": "ipython",
    "version": 3
   },
   "file_extension": ".py",
   "mimetype": "text/x-python",
   "name": "python",
   "nbconvert_exporter": "python",
   "pygments_lexer": "ipython3",
   "version": "3.7.7-final"
  },
  "orig_nbformat": 2,
  "kernelspec": {
   "name": "python3",
   "display_name": "Python 3"
  }
 },
 "nbformat": 4,
 "nbformat_minor": 2,
 "cells": [
  {
   "cell_type": "code",
   "execution_count": 17,
   "metadata": {},
   "outputs": [],
   "source": [
    "import numpy as np\n",
    "import pandas as pd\n",
    "import matplotlib\n",
    "import seaborn as sns\n",
    "import sklearn\n",
    "import imblearn\n",
    "import matplotlib.pyplot as plt\n",
    "import time\n",
    "import sklearn.metrics as m\n",
    "import warnings\n",
    "import os\n",
    "os.environ[\"CUDA_VISIBLE_DEVICES\"] = \"0,1\"\n",
    "warnings.filterwarnings('ignore')\n",
    "\n",
    "from mpl_toolkits.mplot3d import Axes3D\n",
    "from sklearn.preprocessing import StandardScaler, LabelEncoder\n",
    "import matplotlib.pyplot as plt # plotting\n",
    "import numpy as np # linear algebra\n",
    "import os # accessing directory structure\n",
    "import pandas as pd # data processing, CSV file I/O (e.g. pd.read_csv)\n",
    "import time\n",
    "from sklearn.naive_bayes import BernoulliNB \n",
    "from sklearn import tree\n",
    "from sklearn.model_selection import cross_val_score\n",
    "from sklearn.neighbors import KNeighborsClassifier\n",
    "from sklearn.linear_model import LogisticRegression\n",
    "\n",
    "from sklearn import metrics"
   ]
  },
  {
   "cell_type": "code",
   "execution_count": 18,
   "metadata": {},
   "outputs": [],
   "source": [
    "df1=pd.read_csv(\"./archive/Friday-WorkingHours-Afternoon-DDos.csv\")\n",
    "df2=pd.read_csv(\"./archive/Friday-WorkingHours-Afternoon-PortScan.csv\")\n",
    "df3=pd.read_csv(\"./archive/Friday-WorkingHours-Morning.csv\")\n",
    "df4=pd.read_csv(\"./archive/Monday-WorkingHours.csv\")\n",
    "df5=pd.read_csv(\"./archive/Thursday-WorkingHours-Afternoon-Infilteration.csv\")\n",
    "df6=pd.read_csv(\"./archive/Thursday-WorkingHours-Morning-WebAttacks.csv\")\n",
    "df7=pd.read_csv(\"./archive/Tuesday-WorkingHours.csv\")\n",
    "df8=pd.read_csv(\"./archive/Wednesday-workingHours.csv\")"
   ]
  },
  {
   "cell_type": "code",
   "execution_count": 19,
   "metadata": {},
   "outputs": [
    {
     "output_type": "stream",
     "name": "stdout",
     "text": [
      "DDoS      128027\nBENIGN     97718\nName:  Label, dtype: int64\n\nPortScan    158930\nBENIGN      127537\nName:  Label, dtype: int64\n\nBENIGN    189067\nBot         1966\nName:  Label, dtype: int64\n\nBENIGN    529918\nName:  Label, dtype: int64\n\nBENIGN          288566\nInfiltration        36\nName:  Label, dtype: int64\n\nBENIGN                        168186\nWeb Attack � Brute Force        1507\nWeb Attack � XSS                 652\nWeb Attack � Sql Injection        21\nName:  Label, dtype: int64\n\nBENIGN         432074\nFTP-Patator      7938\nSSH-Patator      5897\nName:  Label, dtype: int64\n\nBENIGN              440031\nDoS Hulk            231073\nDoS GoldenEye        10293\nDoS slowloris         5796\nDoS Slowhttptest      5499\nHeartbleed              11\nName:  Label, dtype: int64\n"
     ]
    }
   ],
   "source": [
    "print(df1[' Label'].value_counts())\n",
    "print()\n",
    "print(df2[' Label'].value_counts())\n",
    "print()\n",
    "print(df3[' Label'].value_counts())\n",
    "print()\n",
    "print(df4[' Label'].value_counts())\n",
    "print()\n",
    "print(df5[' Label'].value_counts())\n",
    "print()\n",
    "print(df6[' Label'].value_counts())\n",
    "print()\n",
    "print(df7[' Label'].value_counts())\n",
    "print()\n",
    "print(df8[' Label'].value_counts())\n"
   ]
  },
  {
   "cell_type": "code",
   "execution_count": 20,
   "metadata": {},
   "outputs": [],
   "source": [
    "one_variable_list = []\n",
    "for i in df3.columns:\n",
    "    if df3[i].value_counts().nunique() < 2:\n",
    "        one_variable_list.append(i)\n",
    "df3.drop(one_variable_list,axis=1,inplace=True)\n",
    "df3.columns =  df3.columns.str.strip()"
   ]
  },
  {
   "cell_type": "code",
   "execution_count": 21,
   "metadata": {},
   "outputs": [
    {
     "output_type": "execute_result",
     "data": {
      "text/plain": [
       "(191033, 26)"
      ]
     },
     "metadata": {},
     "execution_count": 21
    }
   ],
   "source": [
    "corr_matrix = df3.corr().abs()\n",
    "\n",
    "# Select upper triangle of correlation matrix\n",
    "upper = corr_matrix.where(np.triu(np.ones(corr_matrix.shape), k=1).astype(np.bool))\n",
    "\n",
    "# Find features with correlation greater than 0.95\n",
    "to_drop = [column for column in upper.columns if any(upper[column] > 0.75)]\n",
    "\n",
    "# Drop features \n",
    "df3 =  df3.drop(to_drop, axis=1)\n",
    "df3.shape"
   ]
  },
  {
   "cell_type": "code",
   "execution_count": 22,
   "metadata": {},
   "outputs": [],
   "source": [
    "df3 = df3[~df3.isin([np.nan, np.inf, -np.inf]).any(1)]\n",
    "\n",
    "df3.loc[df3['Label']=='BENIGN','Label']=0\n",
    "df3.loc[df3['Label']=='Bot','Label']=1"
   ]
  },
  {
   "cell_type": "code",
   "execution_count": 23,
   "metadata": {},
   "outputs": [],
   "source": [
    "x = df3.drop([\"Label\"],axis=1)\n",
    "y = df3[\"Label\"]"
   ]
  },
  {
   "cell_type": "code",
   "execution_count": 24,
   "metadata": {},
   "outputs": [
    {
     "output_type": "execute_result",
     "data": {
      "text/plain": [
       "0    0\n",
       "1    0\n",
       "2    0\n",
       "3    0\n",
       "4    0\n",
       "Name: Label, dtype: object"
      ]
     },
     "metadata": {},
     "execution_count": 24
    }
   ],
   "source": [
    "y.head()"
   ]
  },
  {
   "cell_type": "code",
   "execution_count": 25,
   "metadata": {},
   "outputs": [
    {
     "output_type": "execute_result",
     "data": {
      "text/plain": [
       "0    188955\n",
       "1      1956\n",
       "Name: Label, dtype: int64"
      ]
     },
     "metadata": {},
     "execution_count": 25
    }
   ],
   "source": [
    "df3['Label'].value_counts()"
   ]
  },
  {
   "cell_type": "code",
   "execution_count": 26,
   "metadata": {},
   "outputs": [
    {
     "output_type": "stream",
     "name": "stdout",
     "text": [
      "(190911, 25)\n(190911,)\n"
     ]
    }
   ],
   "source": [
    "x_train_ori = np.array(x)\n",
    "y_train_ori=np.array(y.astype(int))\n",
    "\n",
    "print(x_train_ori.shape)\n",
    "print(y_train_ori.shape)"
   ]
  },
  {
   "cell_type": "code",
   "execution_count": 27,
   "metadata": {},
   "outputs": [
    {
     "output_type": "stream",
     "name": "stdout",
     "text": [
      "(190880, 32, 25)\n(190880, 32)\n"
     ]
    }
   ],
   "source": [
    "TIME_STEPS = 32\n",
    "\n",
    "x_train_reshaped = []\n",
    "y_train_reshaped = []\n",
    "\n",
    "for i in range(y_train_ori.shape[0] - TIME_STEPS + 1):\n",
    "    x_train_reshaped.append(x_train_ori[i : i + TIME_STEPS])\n",
    "    y_train_reshaped.append(y_train_ori[i : i + TIME_STEPS])\n",
    "\n",
    "x_train_reshaped = np.array(x_train_reshaped)\n",
    "y_train_reshaped = np.array(y_train_reshaped)\n",
    "\n",
    "print(x_train_reshaped.shape)\n",
    "print(y_train_reshaped.shape)"
   ]
  },
  {
   "cell_type": "code",
   "execution_count": 28,
   "metadata": {},
   "outputs": [],
   "source": [
    "from sklearn.model_selection import train_test_split\n",
    "\n",
    "x_train, x_val, y_train, y_val = train_test_split(\n",
    "    x_train_reshaped, y_train_reshaped, test_size=0.15\n",
    ")"
   ]
  },
  {
   "cell_type": "code",
   "execution_count": 29,
   "metadata": {},
   "outputs": [
    {
     "output_type": "stream",
     "name": "stdout",
     "text": [
      "y_train - True: 52923 | False:109325\ny_val - True: 9634 | False:18998\n"
     ]
    }
   ],
   "source": [
    "print(\n",
    "    f\"y_train - True: {np.count_nonzero(y_train)} | \"\n",
    "    + f\"False:{ len(y_train) - np.count_nonzero(y_train)}\"\n",
    ")\n",
    "print(\n",
    "    f\"y_val - True: {np.count_nonzero(y_val)} | \"\n",
    "    + f\"False:{ len(y_val) - np.count_nonzero(y_val)}\"\n",
    ")"
   ]
  },
  {
   "cell_type": "code",
   "execution_count": 30,
   "metadata": {},
   "outputs": [],
   "source": [
    "input_shape = (None, TIME_STEPS, 25) "
   ]
  },
  {
   "cell_type": "code",
   "execution_count": 31,
   "metadata": {},
   "outputs": [
    {
     "output_type": "stream",
     "name": "stdout",
     "text": [
      "Model: \"sequential_1\"\n_________________________________________________________________\nLayer (type)                 Output Shape              Param #   \n=================================================================\nbidirectional_2 (Bidirection multiple                  46080     \n_________________________________________________________________\nbidirectional_3 (Bidirection multiple                  41216     \n_________________________________________________________________\ndense_3 (Dense)              multiple                  8320      \n_________________________________________________________________\ndense_4 (Dense)              multiple                  8256      \n_________________________________________________________________\ndense_5 (Dense)              multiple                  2080      \n=================================================================\nTotal params: 105,952\nTrainable params: 105,952\nNon-trainable params: 0\n_________________________________________________________________\n"
     ]
    }
   ],
   "source": [
    "import tensorflow as tf\n",
    "\n",
    "bi_lstm_model = tf.keras.models.Sequential(\n",
    "    [\n",
    "        tf.keras.layers.Bidirectional(tf.keras.layers.LSTM(64, return_sequences=True)),\n",
    "        tf.keras.layers.Bidirectional(\n",
    "            tf.keras.layers.LSTM(\n",
    "                32,\n",
    "            )\n",
    "        ),\n",
    "        tf.keras.layers.Dense(128, activation=\"relu\"),\n",
    "        tf.keras.layers.Dense(64, activation=\"relu\"),\n",
    "        tf.keras.layers.Dense(TIME_STEPS, activation=\"sigmoid\"),\n",
    "    ]\n",
    ")\n",
    "\n",
    "bi_lstm_model.compile(\n",
    "    loss=\"binary_crossentropy\",\n",
    "    optimizer=\"adam\",\n",
    "    metrics=[\n",
    "        tf.keras.metrics.BinaryAccuracy(),\n",
    "        tf.keras.metrics.Precision(),\n",
    "        tf.keras.metrics.Recall(),\n",
    "        tf.keras.metrics.AUC(),\n",
    "    ],\n",
    ")\n",
    "\n",
    "\n",
    "bi_lstm_model.build(input_shape)\n",
    "bi_lstm_model.summary()"
   ]
  },
  {
   "cell_type": "code",
   "execution_count": 32,
   "metadata": {
    "tags": [
     "outputPrepend"
    ]
   },
   "outputs": [
    {
     "output_type": "stream",
     "name": "stdout",
     "text": [
      "recision_1: 0.6576 - recall_1: 0.2233 - auc_1: 0.9546 - val_loss: 0.0294 - val_binary_accuracy: 0.9906 - val_precision_1: 0.7036 - val_recall_1: 0.1833 - val_auc_1: 0.9460\n",
      "Epoch 11/50\n",
      "2530/2536 [============================>.] - ETA: 0s - loss: 0.0285 - binary_accuracy: 0.9909 - precision_1: 0.6663 - recall_1: 0.2216 - auc_1: 0.9559\n",
      "Epoch 00011: loss did not improve from 0.02838\n",
      "2536/2536 [==============================] - 20s 8ms/step - loss: 0.0285 - binary_accuracy: 0.9909 - precision_1: 0.6657 - recall_1: 0.2219 - auc_1: 0.9560 - val_loss: 0.0258 - val_binary_accuracy: 0.9909 - val_precision_1: 0.6871 - val_recall_1: 0.2457 - val_auc_1: 0.9676\n",
      "Epoch 12/50\n",
      "2530/2536 [============================>.] - ETA: 0s - loss: 0.0258 - binary_accuracy: 0.9912 - precision_1: 0.6664 - recall_1: 0.2643 - auc_1: 0.9669\n",
      "Epoch 00012: loss improved from 0.02838 to 0.02576, saving model to ./model/bi_lstm_model_32_32.h5\n",
      "2536/2536 [==============================] - 20s 8ms/step - loss: 0.0258 - binary_accuracy: 0.9912 - precision_1: 0.6665 - recall_1: 0.2646 - auc_1: 0.9669 - val_loss: 0.0291 - val_binary_accuracy: 0.9908 - val_precision_1: 0.6854 - val_recall_1: 0.2339 - val_auc_1: 0.9480\n",
      "Epoch 13/50\n",
      "2531/2536 [============================>.] - ETA: 0s - loss: 0.0266 - binary_accuracy: 0.9912 - precision_1: 0.6694 - recall_1: 0.2600 - auc_1: 0.9628\n",
      "Epoch 00013: loss did not improve from 0.02576\n",
      "2536/2536 [==============================] - 20s 8ms/step - loss: 0.0266 - binary_accuracy: 0.9911 - precision_1: 0.6694 - recall_1: 0.2602 - auc_1: 0.9628 - val_loss: 0.0246 - val_binary_accuracy: 0.9913 - val_precision_1: 0.6834 - val_recall_1: 0.3201 - val_auc_1: 0.9726\n",
      "Epoch 14/50\n",
      "2529/2536 [============================>.] - ETA: 0s - loss: 0.0253 - binary_accuracy: 0.9913 - precision_1: 0.6763 - recall_1: 0.2838 - auc_1: 0.9683\n",
      "Epoch 00014: loss improved from 0.02576 to 0.02527, saving model to ./model/bi_lstm_model_32_32.h5\n",
      "2536/2536 [==============================] - 20s 8ms/step - loss: 0.0253 - binary_accuracy: 0.9913 - precision_1: 0.6762 - recall_1: 0.2837 - auc_1: 0.9682 - val_loss: 0.0289 - val_binary_accuracy: 0.9907 - val_precision_1: 0.6637 - val_recall_1: 0.2298 - val_auc_1: 0.9544\n",
      "Epoch 15/50\n",
      "2529/2536 [============================>.] - ETA: 0s - loss: 0.0283 - binary_accuracy: 0.9912 - precision_1: 0.6817 - recall_1: 0.2474 - auc_1: 0.9523\n",
      "Epoch 00015: loss did not improve from 0.02527\n",
      "2536/2536 [==============================] - 20s 8ms/step - loss: 0.0283 - binary_accuracy: 0.9912 - precision_1: 0.6813 - recall_1: 0.2476 - auc_1: 0.9523 - val_loss: 0.0317 - val_binary_accuracy: 0.9906 - val_precision_1: 0.6000 - val_recall_1: 0.3067 - val_auc_1: 0.9506\n",
      "Epoch 16/50\n",
      "2536/2536 [==============================] - ETA: 0s - loss: 0.0264 - binary_accuracy: 0.9914 - precision_1: 0.6902 - recall_1: 0.2850 - auc_1: 0.9614\n",
      "Epoch 00016: loss did not improve from 0.02527\n",
      "2536/2536 [==============================] - 20s 8ms/step - loss: 0.0264 - binary_accuracy: 0.9914 - precision_1: 0.6902 - recall_1: 0.2850 - auc_1: 0.9614 - val_loss: 0.0298 - val_binary_accuracy: 0.9908 - val_precision_1: 0.7226 - val_recall_1: 0.2042 - val_auc_1: 0.9439\n",
      "Epoch 17/50\n",
      "2531/2536 [============================>.] - ETA: 0s - loss: 0.0272 - binary_accuracy: 0.9913 - precision_1: 0.6869 - recall_1: 0.2749 - auc_1: 0.9540\n",
      "Epoch 00017: loss did not improve from 0.02527\n",
      "2536/2536 [==============================] - 20s 8ms/step - loss: 0.0272 - binary_accuracy: 0.9913 - precision_1: 0.6866 - recall_1: 0.2749 - auc_1: 0.9540 - val_loss: 0.0304 - val_binary_accuracy: 0.9908 - val_precision_1: 0.6222 - val_recall_1: 0.3103 - val_auc_1: 0.9529\n",
      "Epoch 18/50\n",
      "2530/2536 [============================>.] - ETA: 0s - loss: 0.0257 - binary_accuracy: 0.9914 - precision_1: 0.6877 - recall_1: 0.2938 - auc_1: 0.9635\n",
      "Epoch 00018: loss did not improve from 0.02527\n",
      "2536/2536 [==============================] - 20s 8ms/step - loss: 0.0257 - binary_accuracy: 0.9914 - precision_1: 0.6878 - recall_1: 0.2940 - auc_1: 0.9635 - val_loss: 0.0272 - val_binary_accuracy: 0.9910 - val_precision_1: 0.6617 - val_recall_1: 0.2980 - val_auc_1: 0.9545\n",
      "Epoch 19/50\n",
      "2530/2536 [============================>.] - ETA: 0s - loss: 0.0237 - binary_accuracy: 0.9917 - precision_1: 0.6890 - recall_1: 0.3320 - auc_1: 0.9730\n",
      "Epoch 00019: loss improved from 0.02527 to 0.02367, saving model to ./model/bi_lstm_model_32_32.h5\n",
      "2536/2536 [==============================] - 20s 8ms/step - loss: 0.0237 - binary_accuracy: 0.9917 - precision_1: 0.6890 - recall_1: 0.3323 - auc_1: 0.9730 - val_loss: 0.0218 - val_binary_accuracy: 0.9916 - val_precision_1: 0.6705 - val_recall_1: 0.3992 - val_auc_1: 0.9804\n",
      "Epoch 20/50\n",
      "2530/2536 [============================>.] - ETA: 0s - loss: 0.0241 - binary_accuracy: 0.9917 - precision_1: 0.6977 - recall_1: 0.3321 - auc_1: 0.9705\n",
      "Epoch 00020: loss did not improve from 0.02367\n",
      "2536/2536 [==============================] - 20s 8ms/step - loss: 0.0241 - binary_accuracy: 0.9917 - precision_1: 0.6978 - recall_1: 0.3322 - auc_1: 0.9705 - val_loss: 0.0224 - val_binary_accuracy: 0.9919 - val_precision_1: 0.7170 - val_recall_1: 0.3842 - val_auc_1: 0.9738\n",
      "Epoch 21/50\n",
      "2534/2536 [============================>.] - ETA: 0s - loss: 0.0285 - binary_accuracy: 0.9913 - precision_1: 0.6880 - recall_1: 0.2658 - auc_1: 0.9490\n",
      "Epoch 00021: loss did not improve from 0.02367\n",
      "2536/2536 [==============================] - 20s 8ms/step - loss: 0.0285 - binary_accuracy: 0.9913 - precision_1: 0.6880 - recall_1: 0.2657 - auc_1: 0.9490 - val_loss: 0.0341 - val_binary_accuracy: 0.9902 - val_precision_1: 0.6074 - val_recall_1: 0.2004 - val_auc_1: 0.9434\n",
      "Epoch 22/50\n",
      "2536/2536 [==============================] - ETA: 0s - loss: 0.0248 - binary_accuracy: 0.9917 - precision_1: 0.6972 - recall_1: 0.3221 - auc_1: 0.9678\n",
      "Epoch 00022: loss did not improve from 0.02367\n",
      "2536/2536 [==============================] - 20s 8ms/step - loss: 0.0248 - binary_accuracy: 0.9917 - precision_1: 0.6972 - recall_1: 0.3221 - auc_1: 0.9678 - val_loss: 0.0249 - val_binary_accuracy: 0.9914 - val_precision_1: 0.6747 - val_recall_1: 0.3507 - val_auc_1: 0.9705\n",
      "Epoch 23/50\n",
      "2532/2536 [============================>.] - ETA: 0s - loss: 0.0217 - binary_accuracy: 0.9921 - precision_1: 0.7064 - recall_1: 0.3880 - auc_1: 0.9773\n",
      "Epoch 00023: loss improved from 0.02367 to 0.02172, saving model to ./model/bi_lstm_model_32_32.h5\n",
      "2536/2536 [==============================] - 20s 8ms/step - loss: 0.0217 - binary_accuracy: 0.9921 - precision_1: 0.7063 - recall_1: 0.3880 - auc_1: 0.9773 - val_loss: 0.0253 - val_binary_accuracy: 0.9909 - val_precision_1: 0.6494 - val_recall_1: 0.3018 - val_auc_1: 0.9773\n",
      "Epoch 24/50\n",
      "2530/2536 [============================>.] - ETA: 0s - loss: 0.0256 - binary_accuracy: 0.9916 - precision_1: 0.6961 - recall_1: 0.3070 - auc_1: 0.9645\n",
      "Epoch 00024: loss did not improve from 0.02172\n",
      "2536/2536 [==============================] - 20s 8ms/step - loss: 0.0256 - binary_accuracy: 0.9916 - precision_1: 0.6962 - recall_1: 0.3069 - auc_1: 0.9645 - val_loss: 0.0238 - val_binary_accuracy: 0.9915 - val_precision_1: 0.6933 - val_recall_1: 0.3515 - val_auc_1: 0.9731\n",
      "Epoch 25/50\n",
      "2532/2536 [============================>.] - ETA: 0s - loss: 0.0232 - binary_accuracy: 0.9921 - precision_1: 0.7155 - recall_1: 0.3679 - auc_1: 0.9712\n",
      "Epoch 00025: loss did not improve from 0.02172\n",
      "2536/2536 [==============================] - 20s 8ms/step - loss: 0.0232 - binary_accuracy: 0.9921 - precision_1: 0.7156 - recall_1: 0.3681 - auc_1: 0.9712 - val_loss: 0.0231 - val_binary_accuracy: 0.9918 - val_precision_1: 0.6961 - val_recall_1: 0.3909 - val_auc_1: 0.9734\n",
      "Epoch 26/50\n",
      "2532/2536 [============================>.] - ETA: 0s - loss: 0.0240 - binary_accuracy: 0.9920 - precision_1: 0.7152 - recall_1: 0.3580 - auc_1: 0.9658\n",
      "Epoch 00026: loss did not improve from 0.02172\n",
      "2536/2536 [==============================] - 20s 8ms/step - loss: 0.0240 - binary_accuracy: 0.9920 - precision_1: 0.7151 - recall_1: 0.3582 - auc_1: 0.9659 - val_loss: 0.0204 - val_binary_accuracy: 0.9923 - val_precision_1: 0.7063 - val_recall_1: 0.4641 - val_auc_1: 0.9819\n",
      "Epoch 27/50\n",
      "2533/2536 [============================>.] - ETA: 0s - loss: 0.0186 - binary_accuracy: 0.9930 - precision_1: 0.7417 - recall_1: 0.4883 - auc_1: 0.9821\n",
      "Epoch 00027: loss improved from 0.02172 to 0.01863, saving model to ./model/bi_lstm_model_32_32.h5\n",
      "2536/2536 [==============================] - 20s 8ms/step - loss: 0.0186 - binary_accuracy: 0.9931 - precision_1: 0.7417 - recall_1: 0.4884 - auc_1: 0.9821 - val_loss: 0.0197 - val_binary_accuracy: 0.9928 - val_precision_1: 0.7428 - val_recall_1: 0.4811 - val_auc_1: 0.9776\n",
      "Epoch 28/50\n",
      "2534/2536 [============================>.] - ETA: 0s - loss: 0.0207 - binary_accuracy: 0.9928 - precision_1: 0.7354 - recall_1: 0.4578 - auc_1: 0.9725\n",
      "Epoch 00028: loss did not improve from 0.01863\n",
      "2536/2536 [==============================] - 20s 8ms/step - loss: 0.0207 - binary_accuracy: 0.9928 - precision_1: 0.7354 - recall_1: 0.4578 - auc_1: 0.9725 - val_loss: 0.0246 - val_binary_accuracy: 0.9919 - val_precision_1: 0.7072 - val_recall_1: 0.3913 - val_auc_1: 0.9611\n",
      "Epoch 29/50\n",
      "2529/2536 [============================>.] - ETA: 0s - loss: 0.0222 - binary_accuracy: 0.9924 - precision_1: 0.7279 - recall_1: 0.4134 - auc_1: 0.9697\n",
      "Epoch 00029: loss did not improve from 0.01863\n",
      "2536/2536 [==============================] - 20s 8ms/step - loss: 0.0222 - binary_accuracy: 0.9924 - precision_1: 0.7279 - recall_1: 0.4137 - auc_1: 0.9697 - val_loss: 0.0198 - val_binary_accuracy: 0.9925 - val_precision_1: 0.7309 - val_recall_1: 0.4517 - val_auc_1: 0.9804\n",
      "Epoch 30/50\n",
      "2535/2536 [============================>.] - ETA: 0s - loss: 0.0180 - binary_accuracy: 0.9933 - precision_1: 0.7480 - recall_1: 0.5160 - auc_1: 0.9820\n",
      "Epoch 00030: loss improved from 0.01863 to 0.01801, saving model to ./model/bi_lstm_model_32_32.h5\n",
      "2536/2536 [==============================] - 20s 8ms/step - loss: 0.0180 - binary_accuracy: 0.9933 - precision_1: 0.7480 - recall_1: 0.5160 - auc_1: 0.9820 - val_loss: 0.0210 - val_binary_accuracy: 0.9925 - val_precision_1: 0.7118 - val_recall_1: 0.4895 - val_auc_1: 0.9769\n",
      "Epoch 31/50\n",
      "2534/2536 [============================>.] - ETA: 0s - loss: 0.0201 - binary_accuracy: 0.9928 - precision_1: 0.7317 - recall_1: 0.4620 - auc_1: 0.9763\n",
      "Epoch 00031: loss did not improve from 0.01801\n",
      "2536/2536 [==============================] - 20s 8ms/step - loss: 0.0201 - binary_accuracy: 0.9928 - precision_1: 0.7318 - recall_1: 0.4620 - auc_1: 0.9763 - val_loss: 0.0188 - val_binary_accuracy: 0.9931 - val_precision_1: 0.7764 - val_recall_1: 0.4884 - val_auc_1: 0.9784\n",
      "Epoch 32/50\n",
      "2532/2536 [============================>.] - ETA: 0s - loss: 0.0223 - binary_accuracy: 0.9924 - precision_1: 0.7231 - recall_1: 0.4070 - auc_1: 0.9721\n",
      "Epoch 00032: loss did not improve from 0.01801\n",
      "2536/2536 [==============================] - 20s 8ms/step - loss: 0.0223 - binary_accuracy: 0.9924 - precision_1: 0.7231 - recall_1: 0.4068 - auc_1: 0.9721 - val_loss: 0.0234 - val_binary_accuracy: 0.9920 - val_precision_1: 0.7094 - val_recall_1: 0.4014 - val_auc_1: 0.9745\n",
      "Epoch 33/50\n",
      "2532/2536 [============================>.] - ETA: 0s - loss: 0.0236 - binary_accuracy: 0.9924 - precision_1: 0.7378 - recall_1: 0.3998 - auc_1: 0.9632\n",
      "Epoch 00033: loss did not improve from 0.01801\n",
      "2536/2536 [==============================] - 20s 8ms/step - loss: 0.0236 - binary_accuracy: 0.9924 - precision_1: 0.7378 - recall_1: 0.3998 - auc_1: 0.9631 - val_loss: 0.0239 - val_binary_accuracy: 0.9922 - val_precision_1: 0.6966 - val_recall_1: 0.4659 - val_auc_1: 0.9747\n",
      "Epoch 34/50\n",
      "2531/2536 [============================>.] - ETA: 0s - loss: 0.0224 - binary_accuracy: 0.9926 - precision_1: 0.7449 - recall_1: 0.4223 - auc_1: 0.9681\n",
      "Epoch 00034: loss did not improve from 0.01801\n",
      "2536/2536 [==============================] - 20s 8ms/step - loss: 0.0224 - binary_accuracy: 0.9926 - precision_1: 0.7450 - recall_1: 0.4220 - auc_1: 0.9681 - val_loss: 0.0265 - val_binary_accuracy: 0.9917 - val_precision_1: 0.7540 - val_recall_1: 0.3165 - val_auc_1: 0.9452\n",
      "Epoch 35/50\n",
      "2529/2536 [============================>.] - ETA: 0s - loss: 0.0247 - binary_accuracy: 0.9922 - precision_1: 0.7283 - recall_1: 0.3682 - auc_1: 0.9611\n",
      "Epoch 00035: loss did not improve from 0.01801\n",
      "2536/2536 [==============================] - 20s 8ms/step - loss: 0.0247 - binary_accuracy: 0.9922 - precision_1: 0.7285 - recall_1: 0.3686 - auc_1: 0.9612 - val_loss: 0.0226 - val_binary_accuracy: 0.9923 - val_precision_1: 0.7455 - val_recall_1: 0.4072 - val_auc_1: 0.9711\n",
      "Epoch 36/50\n",
      "2534/2536 [============================>.] - ETA: 0s - loss: 0.0224 - binary_accuracy: 0.9926 - precision_1: 0.7405 - recall_1: 0.4238 - auc_1: 0.9684\n",
      "Epoch 00036: loss did not improve from 0.01801\n",
      "2536/2536 [==============================] - 20s 8ms/step - loss: 0.0224 - binary_accuracy: 0.9926 - precision_1: 0.7405 - recall_1: 0.4238 - auc_1: 0.9684 - val_loss: 0.0272 - val_binary_accuracy: 0.9912 - val_precision_1: 0.6237 - val_recall_1: 0.4174 - val_auc_1: 0.9597\n",
      "Epoch 37/50\n",
      "2531/2536 [============================>.] - ETA: 0s - loss: 0.0233 - binary_accuracy: 0.9924 - precision_1: 0.7300 - recall_1: 0.3972 - auc_1: 0.9650\n",
      "Epoch 00037: loss did not improve from 0.01801\n",
      "2536/2536 [==============================] - 20s 8ms/step - loss: 0.0233 - binary_accuracy: 0.9924 - precision_1: 0.7299 - recall_1: 0.3974 - auc_1: 0.9650 - val_loss: 0.0206 - val_binary_accuracy: 0.9927 - val_precision_1: 0.7483 - val_recall_1: 0.4641 - val_auc_1: 0.9733\n",
      "Epoch 38/50\n",
      "2531/2536 [============================>.] - ETA: 0s - loss: 0.0178 - binary_accuracy: 0.9934 - precision_1: 0.7534 - recall_1: 0.5275 - auc_1: 0.9822\n",
      "Epoch 00038: loss improved from 0.01801 to 0.01781, saving model to ./model/bi_lstm_model_32_32.h5\n",
      "2536/2536 [==============================] - 20s 8ms/step - loss: 0.0178 - binary_accuracy: 0.9934 - precision_1: 0.7533 - recall_1: 0.5272 - auc_1: 0.9822 - val_loss: 0.0228 - val_binary_accuracy: 0.9922 - val_precision_1: 0.7499 - val_recall_1: 0.3928 - val_auc_1: 0.9671\n",
      "Epoch 39/50\n",
      "2533/2536 [============================>.] - ETA: 0s - loss: 0.0216 - binary_accuracy: 0.9926 - precision_1: 0.7370 - recall_1: 0.4313 - auc_1: 0.9734\n",
      "Epoch 00039: loss did not improve from 0.01781\n",
      "2536/2536 [==============================] - 20s 8ms/step - loss: 0.0216 - binary_accuracy: 0.9926 - precision_1: 0.7370 - recall_1: 0.4313 - auc_1: 0.9733 - val_loss: 0.0237 - val_binary_accuracy: 0.9920 - val_precision_1: 0.7172 - val_recall_1: 0.3904 - val_auc_1: 0.9649\n",
      "Epoch 40/50\n",
      "2536/2536 [==============================] - ETA: 0s - loss: 0.0218 - binary_accuracy: 0.9925 - precision_1: 0.7294 - recall_1: 0.4223 - auc_1: 0.9735\n",
      "Epoch 00040: loss did not improve from 0.01781\n",
      "2536/2536 [==============================] - 20s 8ms/step - loss: 0.0218 - binary_accuracy: 0.9925 - precision_1: 0.7294 - recall_1: 0.4223 - auc_1: 0.9735 - val_loss: 0.0223 - val_binary_accuracy: 0.9923 - val_precision_1: 0.7379 - val_recall_1: 0.4192 - val_auc_1: 0.9694\n",
      "Epoch 41/50\n",
      "2534/2536 [============================>.] - ETA: 0s - loss: 0.0208 - binary_accuracy: 0.9928 - precision_1: 0.7409 - recall_1: 0.4496 - auc_1: 0.9756\n",
      "Epoch 00041: loss did not improve from 0.01781\n",
      "2536/2536 [==============================] - 20s 8ms/step - loss: 0.0208 - binary_accuracy: 0.9928 - precision_1: 0.7410 - recall_1: 0.4497 - auc_1: 0.9756 - val_loss: 0.0223 - val_binary_accuracy: 0.9923 - val_precision_1: 0.7509 - val_recall_1: 0.4017 - val_auc_1: 0.9711\n",
      "Epoch 42/50\n",
      "2531/2536 [============================>.] - ETA: 0s - loss: 0.0210 - binary_accuracy: 0.9926 - precision_1: 0.7268 - recall_1: 0.4369 - auc_1: 0.9770\n",
      "Epoch 00042: loss did not improve from 0.01781\n",
      "2536/2536 [==============================] - 20s 8ms/step - loss: 0.0210 - binary_accuracy: 0.9926 - precision_1: 0.7267 - recall_1: 0.4368 - auc_1: 0.9770 - val_loss: 0.0239 - val_binary_accuracy: 0.9914 - val_precision_1: 0.6731 - val_recall_1: 0.3562 - val_auc_1: 0.9735\n",
      "Epoch 43/50\n",
      "2530/2536 [============================>.] - ETA: 0s - loss: 0.0201 - binary_accuracy: 0.9927 - precision_1: 0.7256 - recall_1: 0.4508 - auc_1: 0.9807\n",
      "Epoch 00043: loss did not improve from 0.01781\n",
      "2536/2536 [==============================] - 20s 8ms/step - loss: 0.0201 - binary_accuracy: 0.9927 - precision_1: 0.7258 - recall_1: 0.4513 - auc_1: 0.9808 - val_loss: 0.0197 - val_binary_accuracy: 0.9927 - val_precision_1: 0.7241 - val_recall_1: 0.4915 - val_auc_1: 0.9821\n",
      "Epoch 44/50\n",
      "2529/2536 [============================>.] - ETA: 0s - loss: 0.0196 - binary_accuracy: 0.9929 - precision_1: 0.7352 - recall_1: 0.4708 - auc_1: 0.9796\n",
      "Epoch 00044: loss did not improve from 0.01781\n",
      "2536/2536 [==============================] - 20s 8ms/step - loss: 0.0196 - binary_accuracy: 0.9929 - precision_1: 0.7354 - recall_1: 0.4714 - auc_1: 0.9796 - val_loss: 0.0193 - val_binary_accuracy: 0.9928 - val_precision_1: 0.7275 - val_recall_1: 0.5026 - val_auc_1: 0.9797\n",
      "Epoch 45/50\n",
      "2530/2536 [============================>.] - ETA: 0s - loss: 0.0178 - binary_accuracy: 0.9934 - precision_1: 0.7554 - recall_1: 0.5262 - auc_1: 0.9827\n",
      "Epoch 00045: loss improved from 0.01781 to 0.01778, saving model to ./model/bi_lstm_model_32_32.h5\n",
      "2536/2536 [==============================] - 20s 8ms/step - loss: 0.0178 - binary_accuracy: 0.9934 - precision_1: 0.7555 - recall_1: 0.5263 - auc_1: 0.9827 - val_loss: 0.0171 - val_binary_accuracy: 0.9935 - val_precision_1: 0.7550 - val_recall_1: 0.5613 - val_auc_1: 0.9862\n",
      "Epoch 46/50\n",
      "2535/2536 [============================>.] - ETA: 0s - loss: 0.0169 - binary_accuracy: 0.9937 - precision_1: 0.7666 - recall_1: 0.5558 - auc_1: 0.9832\n",
      "Epoch 00046: loss improved from 0.01778 to 0.01686, saving model to ./model/bi_lstm_model_32_32.h5\n",
      "2536/2536 [==============================] - 20s 8ms/step - loss: 0.0169 - binary_accuracy: 0.9937 - precision_1: 0.7666 - recall_1: 0.5559 - auc_1: 0.9832 - val_loss: 0.0183 - val_binary_accuracy: 0.9933 - val_precision_1: 0.7320 - val_recall_1: 0.5655 - val_auc_1: 0.9798\n",
      "Epoch 47/50\n",
      "2529/2536 [============================>.] - ETA: 0s - loss: 0.0196 - binary_accuracy: 0.9933 - precision_1: 0.7606 - recall_1: 0.4988 - auc_1: 0.9750\n",
      "Epoch 00047: loss did not improve from 0.01686\n",
      "2536/2536 [==============================] - 20s 8ms/step - loss: 0.0196 - binary_accuracy: 0.9933 - precision_1: 0.7609 - recall_1: 0.4992 - auc_1: 0.9750 - val_loss: 0.0189 - val_binary_accuracy: 0.9932 - val_precision_1: 0.7938 - val_recall_1: 0.4779 - val_auc_1: 0.9742\n",
      "Epoch 48/50\n",
      "2530/2536 [============================>.] - ETA: 0s - loss: 0.0177 - binary_accuracy: 0.9936 - precision_1: 0.7623 - recall_1: 0.5407 - auc_1: 0.9815\n",
      "Epoch 00048: loss did not improve from 0.01686\n",
      "2536/2536 [==============================] - 20s 8ms/step - loss: 0.0177 - binary_accuracy: 0.9936 - precision_1: 0.7623 - recall_1: 0.5411 - auc_1: 0.9816 - val_loss: 0.0164 - val_binary_accuracy: 0.9938 - val_precision_1: 0.7569 - val_recall_1: 0.5976 - val_auc_1: 0.9876\n",
      "Epoch 49/50\n",
      "2536/2536 [==============================] - ETA: 0s - loss: 0.0201 - binary_accuracy: 0.9931 - precision_1: 0.7555 - recall_1: 0.4809 - auc_1: 0.9753\n",
      "Epoch 00049: loss did not improve from 0.01686\n",
      "2536/2536 [==============================] - 20s 8ms/step - loss: 0.0201 - binary_accuracy: 0.9931 - precision_1: 0.7555 - recall_1: 0.4809 - auc_1: 0.9753 - val_loss: 0.0229 - val_binary_accuracy: 0.9926 - val_precision_1: 0.7631 - val_recall_1: 0.4309 - val_auc_1: 0.9600\n",
      "Epoch 50/50\n",
      "2533/2536 [============================>.] - ETA: 0s - loss: 0.0200 - binary_accuracy: 0.9932 - precision_1: 0.7581 - recall_1: 0.4843 - auc_1: 0.9748\n",
      "Epoch 00050: loss did not improve from 0.01686\n",
      "2536/2536 [==============================] - 20s 8ms/step - loss: 0.0200 - binary_accuracy: 0.9932 - precision_1: 0.7581 - recall_1: 0.4842 - auc_1: 0.9748 - val_loss: 0.0215 - val_binary_accuracy: 0.9926 - val_precision_1: 0.7274 - val_recall_1: 0.4769 - val_auc_1: 0.9721\n"
     ]
    }
   ],
   "source": [
    "import datetime\n",
    "\n",
    "checkpoint = tf.keras.callbacks.ModelCheckpoint(\n",
    "    f\"./model/bi_lstm_model_{TIME_STEPS}_{TIME_STEPS}.h5\",\n",
    "    monitor=\"loss\",\n",
    "    verbose=1,\n",
    "    save_best_only=True,\n",
    "    mode=\"auto\",\n",
    "    period=1,\n",
    ")\n",
    "\n",
    "log_dir = f\"./logs/lstm{TIME_STEPS}seq/\" + datetime.datetime.now().strftime(\n",
    "    \"%Y%m%d-%H%M%S\"\n",
    ")\n",
    "tensorboard_callback = tf.keras.callbacks.TensorBoard(\n",
    "    log_dir=log_dir, histogram_freq=1, profile_batch=0\n",
    ")\n",
    "\n",
    "history = bi_lstm_model.fit(\n",
    "    x_train,\n",
    "    y_train,\n",
    "    batch_size=64,\n",
    "    epochs=50,\n",
    "    validation_data=(x_val, y_val),\n",
    "    callbacks=[checkpoint, tensorboard_callback],\n",
    ")"
   ]
  },
  {
   "cell_type": "code",
   "execution_count": 33,
   "metadata": {},
   "outputs": [],
   "source": [
    "def plot_metrics(history):\n",
    "    metrics = [\"loss\", \"auc\", \"precision\", \"recall\"]\n",
    "\n",
    "    plt.figure(figsize=(20, 10))\n",
    "\n",
    "    for n, metric in enumerate(metrics):\n",
    "        name = metric.replace(\"_\", \" \").capitalize()\n",
    "        plt.subplot(2, 2, n + 1)\n",
    "        plt.plot(history.epoch, history.history[metric], label=\"Train\")\n",
    "        plt.plot(\n",
    "            history.epoch, history.history[\"val_\" + metric], linestyle=\"--\", label=\"Val\"\n",
    "        )\n",
    "        plt.xlabel(\"Epoch\")\n",
    "        plt.ylabel(name)\n",
    "        if metric == \"loss\":\n",
    "            plt.ylim([0, plt.ylim()[1]])\n",
    "        elif metric == \"auc\":\n",
    "            plt.ylim([0.8, 1])\n",
    "        else:\n",
    "            plt.ylim([0, 1])\n",
    "\n",
    "    plt.legend()\n",
    "    plt.show()"
   ]
  },
  {
   "cell_type": "code",
   "execution_count": 34,
   "metadata": {},
   "outputs": [
    {
     "output_type": "stream",
     "name": "stdout",
     "text": [
      "5965/5965 [==============================] - 22s 4ms/step - loss: 0.0195 - binary_accuracy: 0.9932 - precision_1: 0.7520 - recall_1: 0.5072 - auc_1: 0.9780\n",
      "[0.019496846944093704, 0.99323970079422, 0.7520028352737427, 0.5071694850921631, 0.9779912233352661]\n"
     ]
    }
   ],
   "source": [
    "eval_result_training = bi_lstm_model.evaluate(x_train_reshaped, y_train_reshaped)\n",
    "print(eval_result_training)"
   ]
  },
  {
   "cell_type": "code",
   "execution_count": 35,
   "metadata": {},
   "outputs": [],
   "source": [
    "y_train_predicted = bi_lstm_model.predict(x_train_reshaped)"
   ]
  },
  {
   "cell_type": "code",
   "execution_count": 36,
   "metadata": {},
   "outputs": [
    {
     "output_type": "stream",
     "name": "stdout",
     "text": [
      "Grouping same packet\n",
      "190879/190880 | 100 %     \n"
     ]
    }
   ],
   "source": [
    "print(\"Grouping same packet\")\n",
    "y_train_predicted_grouped = {}\n",
    "for i in range(y_train_predicted.shape[0]):\n",
    "    for j in range(y_train_predicted.shape[1]):\n",
    "        if i + j not in y_train_predicted_grouped:\n",
    "            y_train_predicted_grouped[i + j] = []\n",
    "        y_train_predicted_grouped[i + j].append(y_train_predicted[i][j])\n",
    "    print(\n",
    "        f\"{i}/{y_train_predicted.shape[0]} | {i/y_train_predicted.shape[0]*100.0:3.0f} %     \",\n",
    "        end=\"\\r\",\n",
    "    )\n",
    "print(\"\")"
   ]
  },
  {
   "source": [
    "y_train_predicted_mean = []\n",
    "# y_train_predicted_any = []\n",
    "\n",
    "# treshold = 0.5\n",
    "\n",
    "for i in range(len(y_train_predicted_grouped)):\n",
    "    y_train_predicted_mean.append(np.mean(y_train_predicted_grouped[i]))\n",
    "    #     y_train_predicted_any.append(\n",
    "    #         1.0\n",
    "    #         if np.any(np.where(np.array(y_train_predicted_grouped[i]) > treshold))\n",
    "    #         else 0.0\n",
    "    #     )\n",
    "    print(\n",
    "        f\"{i}/{y_train_predicted.shape[0]} | {i/y_train_predicted.shape[0]*100.0:3.0f} %     \",\n",
    "        end=\"\\r\",\n",
    "    )\n",
    "print(\"\")\n",
    "\n",
    "y_train_predicted_mean = np.array(y_train_predicted_mean)"
   ],
   "cell_type": "code",
   "metadata": {},
   "execution_count": 37,
   "outputs": [
    {
     "output_type": "stream",
     "name": "stdout",
     "text": [
      "190910/190880 | 100 %     \n"
     ]
    }
   ]
  },
  {
   "cell_type": "code",
   "execution_count": 38,
   "metadata": {},
   "outputs": [],
   "source": [
    "import sklearn\n",
    "\n",
    "\n",
    "def plot_roc(name, labels, predictions, **kwargs):\n",
    "    fp, tp, _ = sklearn.metrics.roc_curve(labels, predictions)\n",
    "\n",
    "    plt.plot(100 * fp, 100 * tp, label=name, linewidth=2, **kwargs)\n",
    "    plt.xlabel(\"False positives [%]\")\n",
    "    plt.ylabel(\"True positives [%]\")\n",
    "    plt.xlim([-0.5, 20])\n",
    "    plt.ylim([80, 100.5])\n",
    "    plt.grid(True)\n",
    "    ax = plt.gca()\n",
    "    ax.set_aspect(\"equal\")"
   ]
  },
  {
   "cell_type": "code",
   "execution_count": 39,
   "metadata": {},
   "outputs": [
    {
     "output_type": "display_data",
     "data": {
      "text/plain": "<Figure size 432x288 with 1 Axes>",
      "image/svg+xml": "<?xml version=\"1.0\" encoding=\"utf-8\" standalone=\"no\"?>\r\n<!DOCTYPE svg PUBLIC \"-//W3C//DTD SVG 1.1//EN\"\r\n  \"http://www.w3.org/Graphics/SVG/1.1/DTD/svg11.dtd\">\r\n<!-- Created with matplotlib (https://matplotlib.org/) -->\r\n<svg height=\"262.19625pt\" version=\"1.1\" viewBox=\"0 0 287.50875 262.19625\" width=\"287.50875pt\" xmlns=\"http://www.w3.org/2000/svg\" xmlns:xlink=\"http://www.w3.org/1999/xlink\">\r\n <defs>\r\n  <style type=\"text/css\">\r\n*{stroke-linecap:butt;stroke-linejoin:round;}\r\n  </style>\r\n </defs>\r\n <g id=\"figure_1\">\r\n  <g id=\"patch_1\">\r\n   <path d=\"M 0 262.19625 \r\nL 287.50875 262.19625 \r\nL 287.50875 0 \r\nL 0 0 \r\nz\r\n\" style=\"fill:none;\"/>\r\n  </g>\r\n  <g id=\"axes_1\">\r\n   <g id=\"patch_2\">\r\n    <path d=\"M 56.50625 224.64 \r\nL 273.94625 224.64 \r\nL 273.94625 7.2 \r\nL 56.50625 7.2 \r\nz\r\n\" style=\"fill:#ffffff;\"/>\r\n   </g>\r\n   <g id=\"matplotlib.axis_1\">\r\n    <g id=\"xtick_1\">\r\n     <g id=\"line2d_1\">\r\n      <path clip-path=\"url(#p62da126862)\" d=\"M 61.809665 224.64 \r\nL 61.809665 7.2 \r\n\" style=\"fill:none;stroke:#b0b0b0;stroke-linecap:square;stroke-width:0.8;\"/>\r\n     </g>\r\n     <g id=\"line2d_2\">\r\n      <defs>\r\n       <path d=\"M 0 0 \r\nL 0 3.5 \r\n\" id=\"m7659d18075\" style=\"stroke:#000000;stroke-width:0.8;\"/>\r\n      </defs>\r\n      <g>\r\n       <use style=\"stroke:#000000;stroke-width:0.8;\" x=\"61.809665\" xlink:href=\"#m7659d18075\" y=\"224.64\"/>\r\n      </g>\r\n     </g>\r\n     <g id=\"text_1\">\r\n      <!-- 0 -->\r\n      <defs>\r\n       <path d=\"M 31.78125 66.40625 \r\nQ 24.171875 66.40625 20.328125 58.90625 \r\nQ 16.5 51.421875 16.5 36.375 \r\nQ 16.5 21.390625 20.328125 13.890625 \r\nQ 24.171875 6.390625 31.78125 6.390625 \r\nQ 39.453125 6.390625 43.28125 13.890625 \r\nQ 47.125 21.390625 47.125 36.375 \r\nQ 47.125 51.421875 43.28125 58.90625 \r\nQ 39.453125 66.40625 31.78125 66.40625 \r\nz\r\nM 31.78125 74.21875 \r\nQ 44.046875 74.21875 50.515625 64.515625 \r\nQ 56.984375 54.828125 56.984375 36.375 \r\nQ 56.984375 17.96875 50.515625 8.265625 \r\nQ 44.046875 -1.421875 31.78125 -1.421875 \r\nQ 19.53125 -1.421875 13.0625 8.265625 \r\nQ 6.59375 17.96875 6.59375 36.375 \r\nQ 6.59375 54.828125 13.0625 64.515625 \r\nQ 19.53125 74.21875 31.78125 74.21875 \r\nz\r\n\" id=\"DejaVuSans-48\"/>\r\n      </defs>\r\n      <g transform=\"translate(58.628415 239.238438)scale(0.1 -0.1)\">\r\n       <use xlink:href=\"#DejaVuSans-48\"/>\r\n      </g>\r\n     </g>\r\n    </g>\r\n    <g id=\"xtick_2\">\r\n     <g id=\"line2d_3\">\r\n      <path clip-path=\"url(#p62da126862)\" d=\"M 114.843811 224.64 \r\nL 114.843811 7.2 \r\n\" style=\"fill:none;stroke:#b0b0b0;stroke-linecap:square;stroke-width:0.8;\"/>\r\n     </g>\r\n     <g id=\"line2d_4\">\r\n      <g>\r\n       <use style=\"stroke:#000000;stroke-width:0.8;\" x=\"114.843811\" xlink:href=\"#m7659d18075\" y=\"224.64\"/>\r\n      </g>\r\n     </g>\r\n     <g id=\"text_2\">\r\n      <!-- 5 -->\r\n      <defs>\r\n       <path d=\"M 10.796875 72.90625 \r\nL 49.515625 72.90625 \r\nL 49.515625 64.59375 \r\nL 19.828125 64.59375 \r\nL 19.828125 46.734375 \r\nQ 21.96875 47.46875 24.109375 47.828125 \r\nQ 26.265625 48.1875 28.421875 48.1875 \r\nQ 40.625 48.1875 47.75 41.5 \r\nQ 54.890625 34.8125 54.890625 23.390625 \r\nQ 54.890625 11.625 47.5625 5.09375 \r\nQ 40.234375 -1.421875 26.90625 -1.421875 \r\nQ 22.3125 -1.421875 17.546875 -0.640625 \r\nQ 12.796875 0.140625 7.71875 1.703125 \r\nL 7.71875 11.625 \r\nQ 12.109375 9.234375 16.796875 8.0625 \r\nQ 21.484375 6.890625 26.703125 6.890625 \r\nQ 35.15625 6.890625 40.078125 11.328125 \r\nQ 45.015625 15.765625 45.015625 23.390625 \r\nQ 45.015625 31 40.078125 35.4375 \r\nQ 35.15625 39.890625 26.703125 39.890625 \r\nQ 22.75 39.890625 18.8125 39.015625 \r\nQ 14.890625 38.140625 10.796875 36.28125 \r\nz\r\n\" id=\"DejaVuSans-53\"/>\r\n      </defs>\r\n      <g transform=\"translate(111.662561 239.238438)scale(0.1 -0.1)\">\r\n       <use xlink:href=\"#DejaVuSans-53\"/>\r\n      </g>\r\n     </g>\r\n    </g>\r\n    <g id=\"xtick_3\">\r\n     <g id=\"line2d_5\">\r\n      <path clip-path=\"url(#p62da126862)\" d=\"M 167.877957 224.64 \r\nL 167.877957 7.2 \r\n\" style=\"fill:none;stroke:#b0b0b0;stroke-linecap:square;stroke-width:0.8;\"/>\r\n     </g>\r\n     <g id=\"line2d_6\">\r\n      <g>\r\n       <use style=\"stroke:#000000;stroke-width:0.8;\" x=\"167.877957\" xlink:href=\"#m7659d18075\" y=\"224.64\"/>\r\n      </g>\r\n     </g>\r\n     <g id=\"text_3\">\r\n      <!-- 10 -->\r\n      <defs>\r\n       <path d=\"M 12.40625 8.296875 \r\nL 28.515625 8.296875 \r\nL 28.515625 63.921875 \r\nL 10.984375 60.40625 \r\nL 10.984375 69.390625 \r\nL 28.421875 72.90625 \r\nL 38.28125 72.90625 \r\nL 38.28125 8.296875 \r\nL 54.390625 8.296875 \r\nL 54.390625 0 \r\nL 12.40625 0 \r\nz\r\n\" id=\"DejaVuSans-49\"/>\r\n      </defs>\r\n      <g transform=\"translate(161.515457 239.238438)scale(0.1 -0.1)\">\r\n       <use xlink:href=\"#DejaVuSans-49\"/>\r\n       <use x=\"63.623047\" xlink:href=\"#DejaVuSans-48\"/>\r\n      </g>\r\n     </g>\r\n    </g>\r\n    <g id=\"xtick_4\">\r\n     <g id=\"line2d_7\">\r\n      <path clip-path=\"url(#p62da126862)\" d=\"M 220.912104 224.64 \r\nL 220.912104 7.2 \r\n\" style=\"fill:none;stroke:#b0b0b0;stroke-linecap:square;stroke-width:0.8;\"/>\r\n     </g>\r\n     <g id=\"line2d_8\">\r\n      <g>\r\n       <use style=\"stroke:#000000;stroke-width:0.8;\" x=\"220.912104\" xlink:href=\"#m7659d18075\" y=\"224.64\"/>\r\n      </g>\r\n     </g>\r\n     <g id=\"text_4\">\r\n      <!-- 15 -->\r\n      <g transform=\"translate(214.549604 239.238438)scale(0.1 -0.1)\">\r\n       <use xlink:href=\"#DejaVuSans-49\"/>\r\n       <use x=\"63.623047\" xlink:href=\"#DejaVuSans-53\"/>\r\n      </g>\r\n     </g>\r\n    </g>\r\n    <g id=\"xtick_5\">\r\n     <g id=\"line2d_9\">\r\n      <path clip-path=\"url(#p62da126862)\" d=\"M 273.94625 224.64 \r\nL 273.94625 7.2 \r\n\" style=\"fill:none;stroke:#b0b0b0;stroke-linecap:square;stroke-width:0.8;\"/>\r\n     </g>\r\n     <g id=\"line2d_10\">\r\n      <g>\r\n       <use style=\"stroke:#000000;stroke-width:0.8;\" x=\"273.94625\" xlink:href=\"#m7659d18075\" y=\"224.64\"/>\r\n      </g>\r\n     </g>\r\n     <g id=\"text_5\">\r\n      <!-- 20 -->\r\n      <defs>\r\n       <path d=\"M 19.1875 8.296875 \r\nL 53.609375 8.296875 \r\nL 53.609375 0 \r\nL 7.328125 0 \r\nL 7.328125 8.296875 \r\nQ 12.9375 14.109375 22.625 23.890625 \r\nQ 32.328125 33.6875 34.8125 36.53125 \r\nQ 39.546875 41.84375 41.421875 45.53125 \r\nQ 43.3125 49.21875 43.3125 52.78125 \r\nQ 43.3125 58.59375 39.234375 62.25 \r\nQ 35.15625 65.921875 28.609375 65.921875 \r\nQ 23.96875 65.921875 18.8125 64.3125 \r\nQ 13.671875 62.703125 7.8125 59.421875 \r\nL 7.8125 69.390625 \r\nQ 13.765625 71.78125 18.9375 73 \r\nQ 24.125 74.21875 28.421875 74.21875 \r\nQ 39.75 74.21875 46.484375 68.546875 \r\nQ 53.21875 62.890625 53.21875 53.421875 \r\nQ 53.21875 48.921875 51.53125 44.890625 \r\nQ 49.859375 40.875 45.40625 35.40625 \r\nQ 44.1875 33.984375 37.640625 27.21875 \r\nQ 31.109375 20.453125 19.1875 8.296875 \r\nz\r\n\" id=\"DejaVuSans-50\"/>\r\n      </defs>\r\n      <g transform=\"translate(267.58375 239.238438)scale(0.1 -0.1)\">\r\n       <use xlink:href=\"#DejaVuSans-50\"/>\r\n       <use x=\"63.623047\" xlink:href=\"#DejaVuSans-48\"/>\r\n      </g>\r\n     </g>\r\n    </g>\r\n    <g id=\"text_6\">\r\n     <!-- False positives [%] -->\r\n     <defs>\r\n      <path d=\"M 9.8125 72.90625 \r\nL 51.703125 72.90625 \r\nL 51.703125 64.59375 \r\nL 19.671875 64.59375 \r\nL 19.671875 43.109375 \r\nL 48.578125 43.109375 \r\nL 48.578125 34.8125 \r\nL 19.671875 34.8125 \r\nL 19.671875 0 \r\nL 9.8125 0 \r\nz\r\n\" id=\"DejaVuSans-70\"/>\r\n      <path d=\"M 34.28125 27.484375 \r\nQ 23.390625 27.484375 19.1875 25 \r\nQ 14.984375 22.515625 14.984375 16.5 \r\nQ 14.984375 11.71875 18.140625 8.90625 \r\nQ 21.296875 6.109375 26.703125 6.109375 \r\nQ 34.1875 6.109375 38.703125 11.40625 \r\nQ 43.21875 16.703125 43.21875 25.484375 \r\nL 43.21875 27.484375 \r\nz\r\nM 52.203125 31.203125 \r\nL 52.203125 0 \r\nL 43.21875 0 \r\nL 43.21875 8.296875 \r\nQ 40.140625 3.328125 35.546875 0.953125 \r\nQ 30.953125 -1.421875 24.3125 -1.421875 \r\nQ 15.921875 -1.421875 10.953125 3.296875 \r\nQ 6 8.015625 6 15.921875 \r\nQ 6 25.140625 12.171875 29.828125 \r\nQ 18.359375 34.515625 30.609375 34.515625 \r\nL 43.21875 34.515625 \r\nL 43.21875 35.40625 \r\nQ 43.21875 41.609375 39.140625 45 \r\nQ 35.0625 48.390625 27.6875 48.390625 \r\nQ 23 48.390625 18.546875 47.265625 \r\nQ 14.109375 46.140625 10.015625 43.890625 \r\nL 10.015625 52.203125 \r\nQ 14.9375 54.109375 19.578125 55.046875 \r\nQ 24.21875 56 28.609375 56 \r\nQ 40.484375 56 46.34375 49.84375 \r\nQ 52.203125 43.703125 52.203125 31.203125 \r\nz\r\n\" id=\"DejaVuSans-97\"/>\r\n      <path d=\"M 9.421875 75.984375 \r\nL 18.40625 75.984375 \r\nL 18.40625 0 \r\nL 9.421875 0 \r\nz\r\n\" id=\"DejaVuSans-108\"/>\r\n      <path d=\"M 44.28125 53.078125 \r\nL 44.28125 44.578125 \r\nQ 40.484375 46.53125 36.375 47.5 \r\nQ 32.28125 48.484375 27.875 48.484375 \r\nQ 21.1875 48.484375 17.84375 46.4375 \r\nQ 14.5 44.390625 14.5 40.28125 \r\nQ 14.5 37.15625 16.890625 35.375 \r\nQ 19.28125 33.59375 26.515625 31.984375 \r\nL 29.59375 31.296875 \r\nQ 39.15625 29.25 43.1875 25.515625 \r\nQ 47.21875 21.78125 47.21875 15.09375 \r\nQ 47.21875 7.46875 41.1875 3.015625 \r\nQ 35.15625 -1.421875 24.609375 -1.421875 \r\nQ 20.21875 -1.421875 15.453125 -0.5625 \r\nQ 10.6875 0.296875 5.421875 2 \r\nL 5.421875 11.28125 \r\nQ 10.40625 8.6875 15.234375 7.390625 \r\nQ 20.0625 6.109375 24.8125 6.109375 \r\nQ 31.15625 6.109375 34.5625 8.28125 \r\nQ 37.984375 10.453125 37.984375 14.40625 \r\nQ 37.984375 18.0625 35.515625 20.015625 \r\nQ 33.0625 21.96875 24.703125 23.78125 \r\nL 21.578125 24.515625 \r\nQ 13.234375 26.265625 9.515625 29.90625 \r\nQ 5.8125 33.546875 5.8125 39.890625 \r\nQ 5.8125 47.609375 11.28125 51.796875 \r\nQ 16.75 56 26.8125 56 \r\nQ 31.78125 56 36.171875 55.265625 \r\nQ 40.578125 54.546875 44.28125 53.078125 \r\nz\r\n\" id=\"DejaVuSans-115\"/>\r\n      <path d=\"M 56.203125 29.59375 \r\nL 56.203125 25.203125 \r\nL 14.890625 25.203125 \r\nQ 15.484375 15.921875 20.484375 11.0625 \r\nQ 25.484375 6.203125 34.421875 6.203125 \r\nQ 39.59375 6.203125 44.453125 7.46875 \r\nQ 49.3125 8.734375 54.109375 11.28125 \r\nL 54.109375 2.78125 \r\nQ 49.265625 0.734375 44.1875 -0.34375 \r\nQ 39.109375 -1.421875 33.890625 -1.421875 \r\nQ 20.796875 -1.421875 13.15625 6.1875 \r\nQ 5.515625 13.8125 5.515625 26.8125 \r\nQ 5.515625 40.234375 12.765625 48.109375 \r\nQ 20.015625 56 32.328125 56 \r\nQ 43.359375 56 49.78125 48.890625 \r\nQ 56.203125 41.796875 56.203125 29.59375 \r\nz\r\nM 47.21875 32.234375 \r\nQ 47.125 39.59375 43.09375 43.984375 \r\nQ 39.0625 48.390625 32.421875 48.390625 \r\nQ 24.90625 48.390625 20.390625 44.140625 \r\nQ 15.875 39.890625 15.1875 32.171875 \r\nz\r\n\" id=\"DejaVuSans-101\"/>\r\n      <path id=\"DejaVuSans-32\"/>\r\n      <path d=\"M 18.109375 8.203125 \r\nL 18.109375 -20.796875 \r\nL 9.078125 -20.796875 \r\nL 9.078125 54.6875 \r\nL 18.109375 54.6875 \r\nL 18.109375 46.390625 \r\nQ 20.953125 51.265625 25.265625 53.625 \r\nQ 29.59375 56 35.59375 56 \r\nQ 45.5625 56 51.78125 48.09375 \r\nQ 58.015625 40.1875 58.015625 27.296875 \r\nQ 58.015625 14.40625 51.78125 6.484375 \r\nQ 45.5625 -1.421875 35.59375 -1.421875 \r\nQ 29.59375 -1.421875 25.265625 0.953125 \r\nQ 20.953125 3.328125 18.109375 8.203125 \r\nz\r\nM 48.6875 27.296875 \r\nQ 48.6875 37.203125 44.609375 42.84375 \r\nQ 40.53125 48.484375 33.40625 48.484375 \r\nQ 26.265625 48.484375 22.1875 42.84375 \r\nQ 18.109375 37.203125 18.109375 27.296875 \r\nQ 18.109375 17.390625 22.1875 11.75 \r\nQ 26.265625 6.109375 33.40625 6.109375 \r\nQ 40.53125 6.109375 44.609375 11.75 \r\nQ 48.6875 17.390625 48.6875 27.296875 \r\nz\r\n\" id=\"DejaVuSans-112\"/>\r\n      <path d=\"M 30.609375 48.390625 \r\nQ 23.390625 48.390625 19.1875 42.75 \r\nQ 14.984375 37.109375 14.984375 27.296875 \r\nQ 14.984375 17.484375 19.15625 11.84375 \r\nQ 23.34375 6.203125 30.609375 6.203125 \r\nQ 37.796875 6.203125 41.984375 11.859375 \r\nQ 46.1875 17.53125 46.1875 27.296875 \r\nQ 46.1875 37.015625 41.984375 42.703125 \r\nQ 37.796875 48.390625 30.609375 48.390625 \r\nz\r\nM 30.609375 56 \r\nQ 42.328125 56 49.015625 48.375 \r\nQ 55.71875 40.765625 55.71875 27.296875 \r\nQ 55.71875 13.875 49.015625 6.21875 \r\nQ 42.328125 -1.421875 30.609375 -1.421875 \r\nQ 18.84375 -1.421875 12.171875 6.21875 \r\nQ 5.515625 13.875 5.515625 27.296875 \r\nQ 5.515625 40.765625 12.171875 48.375 \r\nQ 18.84375 56 30.609375 56 \r\nz\r\n\" id=\"DejaVuSans-111\"/>\r\n      <path d=\"M 9.421875 54.6875 \r\nL 18.40625 54.6875 \r\nL 18.40625 0 \r\nL 9.421875 0 \r\nz\r\nM 9.421875 75.984375 \r\nL 18.40625 75.984375 \r\nL 18.40625 64.59375 \r\nL 9.421875 64.59375 \r\nz\r\n\" id=\"DejaVuSans-105\"/>\r\n      <path d=\"M 18.3125 70.21875 \r\nL 18.3125 54.6875 \r\nL 36.8125 54.6875 \r\nL 36.8125 47.703125 \r\nL 18.3125 47.703125 \r\nL 18.3125 18.015625 \r\nQ 18.3125 11.328125 20.140625 9.421875 \r\nQ 21.96875 7.515625 27.59375 7.515625 \r\nL 36.8125 7.515625 \r\nL 36.8125 0 \r\nL 27.59375 0 \r\nQ 17.1875 0 13.234375 3.875 \r\nQ 9.28125 7.765625 9.28125 18.015625 \r\nL 9.28125 47.703125 \r\nL 2.6875 47.703125 \r\nL 2.6875 54.6875 \r\nL 9.28125 54.6875 \r\nL 9.28125 70.21875 \r\nz\r\n\" id=\"DejaVuSans-116\"/>\r\n      <path d=\"M 2.984375 54.6875 \r\nL 12.5 54.6875 \r\nL 29.59375 8.796875 \r\nL 46.6875 54.6875 \r\nL 56.203125 54.6875 \r\nL 35.6875 0 \r\nL 23.484375 0 \r\nz\r\n\" id=\"DejaVuSans-118\"/>\r\n      <path d=\"M 8.59375 75.984375 \r\nL 29.296875 75.984375 \r\nL 29.296875 69 \r\nL 17.578125 69 \r\nL 17.578125 -6.203125 \r\nL 29.296875 -6.203125 \r\nL 29.296875 -13.1875 \r\nL 8.59375 -13.1875 \r\nz\r\n\" id=\"DejaVuSans-91\"/>\r\n      <path d=\"M 72.703125 32.078125 \r\nQ 68.453125 32.078125 66.03125 28.46875 \r\nQ 63.625 24.859375 63.625 18.40625 \r\nQ 63.625 12.0625 66.03125 8.421875 \r\nQ 68.453125 4.78125 72.703125 4.78125 \r\nQ 76.859375 4.78125 79.265625 8.421875 \r\nQ 81.6875 12.0625 81.6875 18.40625 \r\nQ 81.6875 24.8125 79.265625 28.4375 \r\nQ 76.859375 32.078125 72.703125 32.078125 \r\nz\r\nM 72.703125 38.28125 \r\nQ 80.421875 38.28125 84.953125 32.90625 \r\nQ 89.5 27.546875 89.5 18.40625 \r\nQ 89.5 9.28125 84.9375 3.921875 \r\nQ 80.375 -1.421875 72.703125 -1.421875 \r\nQ 64.890625 -1.421875 60.34375 3.921875 \r\nQ 55.8125 9.28125 55.8125 18.40625 \r\nQ 55.8125 27.59375 60.375 32.9375 \r\nQ 64.9375 38.28125 72.703125 38.28125 \r\nz\r\nM 22.3125 68.015625 \r\nQ 18.109375 68.015625 15.6875 64.375 \r\nQ 13.28125 60.75 13.28125 54.390625 \r\nQ 13.28125 47.953125 15.671875 44.328125 \r\nQ 18.0625 40.71875 22.3125 40.71875 \r\nQ 26.5625 40.71875 28.96875 44.328125 \r\nQ 31.390625 47.953125 31.390625 54.390625 \r\nQ 31.390625 60.6875 28.953125 64.34375 \r\nQ 26.515625 68.015625 22.3125 68.015625 \r\nz\r\nM 66.40625 74.21875 \r\nL 74.21875 74.21875 \r\nL 28.609375 -1.421875 \r\nL 20.796875 -1.421875 \r\nz\r\nM 22.3125 74.21875 \r\nQ 30.03125 74.21875 34.609375 68.875 \r\nQ 39.203125 63.53125 39.203125 54.390625 \r\nQ 39.203125 45.171875 34.640625 39.84375 \r\nQ 30.078125 34.515625 22.3125 34.515625 \r\nQ 14.546875 34.515625 10.03125 39.859375 \r\nQ 5.515625 45.21875 5.515625 54.390625 \r\nQ 5.515625 63.484375 10.046875 68.84375 \r\nQ 14.59375 74.21875 22.3125 74.21875 \r\nz\r\n\" id=\"DejaVuSans-37\"/>\r\n      <path d=\"M 30.421875 75.984375 \r\nL 30.421875 -13.1875 \r\nL 9.71875 -13.1875 \r\nL 9.71875 -6.203125 \r\nL 21.390625 -6.203125 \r\nL 21.390625 69 \r\nL 9.71875 69 \r\nL 9.71875 75.984375 \r\nz\r\n\" id=\"DejaVuSans-93\"/>\r\n     </defs>\r\n     <g transform=\"translate(118.624687 252.916563)scale(0.1 -0.1)\">\r\n      <use xlink:href=\"#DejaVuSans-70\"/>\r\n      <use x=\"48.394531\" xlink:href=\"#DejaVuSans-97\"/>\r\n      <use x=\"109.673828\" xlink:href=\"#DejaVuSans-108\"/>\r\n      <use x=\"137.457031\" xlink:href=\"#DejaVuSans-115\"/>\r\n      <use x=\"189.556641\" xlink:href=\"#DejaVuSans-101\"/>\r\n      <use x=\"251.080078\" xlink:href=\"#DejaVuSans-32\"/>\r\n      <use x=\"282.867188\" xlink:href=\"#DejaVuSans-112\"/>\r\n      <use x=\"346.34375\" xlink:href=\"#DejaVuSans-111\"/>\r\n      <use x=\"407.525391\" xlink:href=\"#DejaVuSans-115\"/>\r\n      <use x=\"459.625\" xlink:href=\"#DejaVuSans-105\"/>\r\n      <use x=\"487.408203\" xlink:href=\"#DejaVuSans-116\"/>\r\n      <use x=\"526.617188\" xlink:href=\"#DejaVuSans-105\"/>\r\n      <use x=\"554.400391\" xlink:href=\"#DejaVuSans-118\"/>\r\n      <use x=\"613.580078\" xlink:href=\"#DejaVuSans-101\"/>\r\n      <use x=\"675.103516\" xlink:href=\"#DejaVuSans-115\"/>\r\n      <use x=\"727.203125\" xlink:href=\"#DejaVuSans-32\"/>\r\n      <use x=\"758.990234\" xlink:href=\"#DejaVuSans-91\"/>\r\n      <use x=\"798.003906\" xlink:href=\"#DejaVuSans-37\"/>\r\n      <use x=\"893.023438\" xlink:href=\"#DejaVuSans-93\"/>\r\n     </g>\r\n    </g>\r\n   </g>\r\n   <g id=\"matplotlib.axis_2\">\r\n    <g id=\"ytick_1\">\r\n     <g id=\"line2d_11\">\r\n      <path clip-path=\"url(#p62da126862)\" d=\"M 56.50625 224.64 \r\nL 273.94625 224.64 \r\n\" style=\"fill:none;stroke:#b0b0b0;stroke-linecap:square;stroke-width:0.8;\"/>\r\n     </g>\r\n     <g id=\"line2d_12\">\r\n      <defs>\r\n       <path d=\"M 0 0 \r\nL -3.5 0 \r\n\" id=\"m37409e9137\" style=\"stroke:#000000;stroke-width:0.8;\"/>\r\n      </defs>\r\n      <g>\r\n       <use style=\"stroke:#000000;stroke-width:0.8;\" x=\"56.50625\" xlink:href=\"#m37409e9137\" y=\"224.64\"/>\r\n      </g>\r\n     </g>\r\n     <g id=\"text_7\">\r\n      <!-- 80.0 -->\r\n      <defs>\r\n       <path d=\"M 31.78125 34.625 \r\nQ 24.75 34.625 20.71875 30.859375 \r\nQ 16.703125 27.09375 16.703125 20.515625 \r\nQ 16.703125 13.921875 20.71875 10.15625 \r\nQ 24.75 6.390625 31.78125 6.390625 \r\nQ 38.8125 6.390625 42.859375 10.171875 \r\nQ 46.921875 13.96875 46.921875 20.515625 \r\nQ 46.921875 27.09375 42.890625 30.859375 \r\nQ 38.875 34.625 31.78125 34.625 \r\nz\r\nM 21.921875 38.8125 \r\nQ 15.578125 40.375 12.03125 44.71875 \r\nQ 8.5 49.078125 8.5 55.328125 \r\nQ 8.5 64.0625 14.71875 69.140625 \r\nQ 20.953125 74.21875 31.78125 74.21875 \r\nQ 42.671875 74.21875 48.875 69.140625 \r\nQ 55.078125 64.0625 55.078125 55.328125 \r\nQ 55.078125 49.078125 51.53125 44.71875 \r\nQ 48 40.375 41.703125 38.8125 \r\nQ 48.828125 37.15625 52.796875 32.3125 \r\nQ 56.78125 27.484375 56.78125 20.515625 \r\nQ 56.78125 9.90625 50.3125 4.234375 \r\nQ 43.84375 -1.421875 31.78125 -1.421875 \r\nQ 19.734375 -1.421875 13.25 4.234375 \r\nQ 6.78125 9.90625 6.78125 20.515625 \r\nQ 6.78125 27.484375 10.78125 32.3125 \r\nQ 14.796875 37.15625 21.921875 38.8125 \r\nz\r\nM 18.3125 54.390625 \r\nQ 18.3125 48.734375 21.84375 45.5625 \r\nQ 25.390625 42.390625 31.78125 42.390625 \r\nQ 38.140625 42.390625 41.71875 45.5625 \r\nQ 45.3125 48.734375 45.3125 54.390625 \r\nQ 45.3125 60.0625 41.71875 63.234375 \r\nQ 38.140625 66.40625 31.78125 66.40625 \r\nQ 25.390625 66.40625 21.84375 63.234375 \r\nQ 18.3125 60.0625 18.3125 54.390625 \r\nz\r\n\" id=\"DejaVuSans-56\"/>\r\n       <path d=\"M 10.6875 12.40625 \r\nL 21 12.40625 \r\nL 21 0 \r\nL 10.6875 0 \r\nz\r\n\" id=\"DejaVuSans-46\"/>\r\n      </defs>\r\n      <g transform=\"translate(27.240625 228.439219)scale(0.1 -0.1)\">\r\n       <use xlink:href=\"#DejaVuSans-56\"/>\r\n       <use x=\"63.623047\" xlink:href=\"#DejaVuSans-48\"/>\r\n       <use x=\"127.246094\" xlink:href=\"#DejaVuSans-46\"/>\r\n       <use x=\"159.033203\" xlink:href=\"#DejaVuSans-48\"/>\r\n      </g>\r\n     </g>\r\n    </g>\r\n    <g id=\"ytick_2\">\r\n     <g id=\"line2d_13\">\r\n      <path clip-path=\"url(#p62da126862)\" d=\"M 56.50625 198.122927 \r\nL 273.94625 198.122927 \r\n\" style=\"fill:none;stroke:#b0b0b0;stroke-linecap:square;stroke-width:0.8;\"/>\r\n     </g>\r\n     <g id=\"line2d_14\">\r\n      <g>\r\n       <use style=\"stroke:#000000;stroke-width:0.8;\" x=\"56.50625\" xlink:href=\"#m37409e9137\" y=\"198.122927\"/>\r\n      </g>\r\n     </g>\r\n     <g id=\"text_8\">\r\n      <!-- 82.5 -->\r\n      <g transform=\"translate(27.240625 201.922146)scale(0.1 -0.1)\">\r\n       <use xlink:href=\"#DejaVuSans-56\"/>\r\n       <use x=\"63.623047\" xlink:href=\"#DejaVuSans-50\"/>\r\n       <use x=\"127.246094\" xlink:href=\"#DejaVuSans-46\"/>\r\n       <use x=\"159.033203\" xlink:href=\"#DejaVuSans-53\"/>\r\n      </g>\r\n     </g>\r\n    </g>\r\n    <g id=\"ytick_3\">\r\n     <g id=\"line2d_15\">\r\n      <path clip-path=\"url(#p62da126862)\" d=\"M 56.50625 171.605854 \r\nL 273.94625 171.605854 \r\n\" style=\"fill:none;stroke:#b0b0b0;stroke-linecap:square;stroke-width:0.8;\"/>\r\n     </g>\r\n     <g id=\"line2d_16\">\r\n      <g>\r\n       <use style=\"stroke:#000000;stroke-width:0.8;\" x=\"56.50625\" xlink:href=\"#m37409e9137\" y=\"171.605854\"/>\r\n      </g>\r\n     </g>\r\n     <g id=\"text_9\">\r\n      <!-- 85.0 -->\r\n      <g transform=\"translate(27.240625 175.405072)scale(0.1 -0.1)\">\r\n       <use xlink:href=\"#DejaVuSans-56\"/>\r\n       <use x=\"63.623047\" xlink:href=\"#DejaVuSans-53\"/>\r\n       <use x=\"127.246094\" xlink:href=\"#DejaVuSans-46\"/>\r\n       <use x=\"159.033203\" xlink:href=\"#DejaVuSans-48\"/>\r\n      </g>\r\n     </g>\r\n    </g>\r\n    <g id=\"ytick_4\">\r\n     <g id=\"line2d_17\">\r\n      <path clip-path=\"url(#p62da126862)\" d=\"M 56.50625 145.08878 \r\nL 273.94625 145.08878 \r\n\" style=\"fill:none;stroke:#b0b0b0;stroke-linecap:square;stroke-width:0.8;\"/>\r\n     </g>\r\n     <g id=\"line2d_18\">\r\n      <g>\r\n       <use style=\"stroke:#000000;stroke-width:0.8;\" x=\"56.50625\" xlink:href=\"#m37409e9137\" y=\"145.08878\"/>\r\n      </g>\r\n     </g>\r\n     <g id=\"text_10\">\r\n      <!-- 87.5 -->\r\n      <defs>\r\n       <path d=\"M 8.203125 72.90625 \r\nL 55.078125 72.90625 \r\nL 55.078125 68.703125 \r\nL 28.609375 0 \r\nL 18.3125 0 \r\nL 43.21875 64.59375 \r\nL 8.203125 64.59375 \r\nz\r\n\" id=\"DejaVuSans-55\"/>\r\n      </defs>\r\n      <g transform=\"translate(27.240625 148.887999)scale(0.1 -0.1)\">\r\n       <use xlink:href=\"#DejaVuSans-56\"/>\r\n       <use x=\"63.623047\" xlink:href=\"#DejaVuSans-55\"/>\r\n       <use x=\"127.246094\" xlink:href=\"#DejaVuSans-46\"/>\r\n       <use x=\"159.033203\" xlink:href=\"#DejaVuSans-53\"/>\r\n      </g>\r\n     </g>\r\n    </g>\r\n    <g id=\"ytick_5\">\r\n     <g id=\"line2d_19\">\r\n      <path clip-path=\"url(#p62da126862)\" d=\"M 56.50625 118.571707 \r\nL 273.94625 118.571707 \r\n\" style=\"fill:none;stroke:#b0b0b0;stroke-linecap:square;stroke-width:0.8;\"/>\r\n     </g>\r\n     <g id=\"line2d_20\">\r\n      <g>\r\n       <use style=\"stroke:#000000;stroke-width:0.8;\" x=\"56.50625\" xlink:href=\"#m37409e9137\" y=\"118.571707\"/>\r\n      </g>\r\n     </g>\r\n     <g id=\"text_11\">\r\n      <!-- 90.0 -->\r\n      <defs>\r\n       <path d=\"M 10.984375 1.515625 \r\nL 10.984375 10.5 \r\nQ 14.703125 8.734375 18.5 7.8125 \r\nQ 22.3125 6.890625 25.984375 6.890625 \r\nQ 35.75 6.890625 40.890625 13.453125 \r\nQ 46.046875 20.015625 46.78125 33.40625 \r\nQ 43.953125 29.203125 39.59375 26.953125 \r\nQ 35.25 24.703125 29.984375 24.703125 \r\nQ 19.046875 24.703125 12.671875 31.3125 \r\nQ 6.296875 37.9375 6.296875 49.421875 \r\nQ 6.296875 60.640625 12.9375 67.421875 \r\nQ 19.578125 74.21875 30.609375 74.21875 \r\nQ 43.265625 74.21875 49.921875 64.515625 \r\nQ 56.59375 54.828125 56.59375 36.375 \r\nQ 56.59375 19.140625 48.40625 8.859375 \r\nQ 40.234375 -1.421875 26.421875 -1.421875 \r\nQ 22.703125 -1.421875 18.890625 -0.6875 \r\nQ 15.09375 0.046875 10.984375 1.515625 \r\nz\r\nM 30.609375 32.421875 \r\nQ 37.25 32.421875 41.125 36.953125 \r\nQ 45.015625 41.5 45.015625 49.421875 \r\nQ 45.015625 57.28125 41.125 61.84375 \r\nQ 37.25 66.40625 30.609375 66.40625 \r\nQ 23.96875 66.40625 20.09375 61.84375 \r\nQ 16.21875 57.28125 16.21875 49.421875 \r\nQ 16.21875 41.5 20.09375 36.953125 \r\nQ 23.96875 32.421875 30.609375 32.421875 \r\nz\r\n\" id=\"DejaVuSans-57\"/>\r\n      </defs>\r\n      <g transform=\"translate(27.240625 122.370926)scale(0.1 -0.1)\">\r\n       <use xlink:href=\"#DejaVuSans-57\"/>\r\n       <use x=\"63.623047\" xlink:href=\"#DejaVuSans-48\"/>\r\n       <use x=\"127.246094\" xlink:href=\"#DejaVuSans-46\"/>\r\n       <use x=\"159.033203\" xlink:href=\"#DejaVuSans-48\"/>\r\n      </g>\r\n     </g>\r\n    </g>\r\n    <g id=\"ytick_6\">\r\n     <g id=\"line2d_21\">\r\n      <path clip-path=\"url(#p62da126862)\" d=\"M 56.50625 92.054634 \r\nL 273.94625 92.054634 \r\n\" style=\"fill:none;stroke:#b0b0b0;stroke-linecap:square;stroke-width:0.8;\"/>\r\n     </g>\r\n     <g id=\"line2d_22\">\r\n      <g>\r\n       <use style=\"stroke:#000000;stroke-width:0.8;\" x=\"56.50625\" xlink:href=\"#m37409e9137\" y=\"92.054634\"/>\r\n      </g>\r\n     </g>\r\n     <g id=\"text_12\">\r\n      <!-- 92.5 -->\r\n      <g transform=\"translate(27.240625 95.853853)scale(0.1 -0.1)\">\r\n       <use xlink:href=\"#DejaVuSans-57\"/>\r\n       <use x=\"63.623047\" xlink:href=\"#DejaVuSans-50\"/>\r\n       <use x=\"127.246094\" xlink:href=\"#DejaVuSans-46\"/>\r\n       <use x=\"159.033203\" xlink:href=\"#DejaVuSans-53\"/>\r\n      </g>\r\n     </g>\r\n    </g>\r\n    <g id=\"ytick_7\">\r\n     <g id=\"line2d_23\">\r\n      <path clip-path=\"url(#p62da126862)\" d=\"M 56.50625 65.537561 \r\nL 273.94625 65.537561 \r\n\" style=\"fill:none;stroke:#b0b0b0;stroke-linecap:square;stroke-width:0.8;\"/>\r\n     </g>\r\n     <g id=\"line2d_24\">\r\n      <g>\r\n       <use style=\"stroke:#000000;stroke-width:0.8;\" x=\"56.50625\" xlink:href=\"#m37409e9137\" y=\"65.537561\"/>\r\n      </g>\r\n     </g>\r\n     <g id=\"text_13\">\r\n      <!-- 95.0 -->\r\n      <g transform=\"translate(27.240625 69.33678)scale(0.1 -0.1)\">\r\n       <use xlink:href=\"#DejaVuSans-57\"/>\r\n       <use x=\"63.623047\" xlink:href=\"#DejaVuSans-53\"/>\r\n       <use x=\"127.246094\" xlink:href=\"#DejaVuSans-46\"/>\r\n       <use x=\"159.033203\" xlink:href=\"#DejaVuSans-48\"/>\r\n      </g>\r\n     </g>\r\n    </g>\r\n    <g id=\"ytick_8\">\r\n     <g id=\"line2d_25\">\r\n      <path clip-path=\"url(#p62da126862)\" d=\"M 56.50625 39.020488 \r\nL 273.94625 39.020488 \r\n\" style=\"fill:none;stroke:#b0b0b0;stroke-linecap:square;stroke-width:0.8;\"/>\r\n     </g>\r\n     <g id=\"line2d_26\">\r\n      <g>\r\n       <use style=\"stroke:#000000;stroke-width:0.8;\" x=\"56.50625\" xlink:href=\"#m37409e9137\" y=\"39.020488\"/>\r\n      </g>\r\n     </g>\r\n     <g id=\"text_14\">\r\n      <!-- 97.5 -->\r\n      <g transform=\"translate(27.240625 42.819707)scale(0.1 -0.1)\">\r\n       <use xlink:href=\"#DejaVuSans-57\"/>\r\n       <use x=\"63.623047\" xlink:href=\"#DejaVuSans-55\"/>\r\n       <use x=\"127.246094\" xlink:href=\"#DejaVuSans-46\"/>\r\n       <use x=\"159.033203\" xlink:href=\"#DejaVuSans-53\"/>\r\n      </g>\r\n     </g>\r\n    </g>\r\n    <g id=\"ytick_9\">\r\n     <g id=\"line2d_27\">\r\n      <path clip-path=\"url(#p62da126862)\" d=\"M 56.50625 12.503415 \r\nL 273.94625 12.503415 \r\n\" style=\"fill:none;stroke:#b0b0b0;stroke-linecap:square;stroke-width:0.8;\"/>\r\n     </g>\r\n     <g id=\"line2d_28\">\r\n      <g>\r\n       <use style=\"stroke:#000000;stroke-width:0.8;\" x=\"56.50625\" xlink:href=\"#m37409e9137\" y=\"12.503415\"/>\r\n      </g>\r\n     </g>\r\n     <g id=\"text_15\">\r\n      <!-- 100.0 -->\r\n      <g transform=\"translate(20.878125 16.302633)scale(0.1 -0.1)\">\r\n       <use xlink:href=\"#DejaVuSans-49\"/>\r\n       <use x=\"63.623047\" xlink:href=\"#DejaVuSans-48\"/>\r\n       <use x=\"127.246094\" xlink:href=\"#DejaVuSans-48\"/>\r\n       <use x=\"190.869141\" xlink:href=\"#DejaVuSans-46\"/>\r\n       <use x=\"222.65625\" xlink:href=\"#DejaVuSans-48\"/>\r\n      </g>\r\n     </g>\r\n    </g>\r\n    <g id=\"text_16\">\r\n     <!-- True positives [%] -->\r\n     <defs>\r\n      <path d=\"M -0.296875 72.90625 \r\nL 61.375 72.90625 \r\nL 61.375 64.59375 \r\nL 35.5 64.59375 \r\nL 35.5 0 \r\nL 25.59375 0 \r\nL 25.59375 64.59375 \r\nL -0.296875 64.59375 \r\nz\r\n\" id=\"DejaVuSans-84\"/>\r\n      <path d=\"M 41.109375 46.296875 \r\nQ 39.59375 47.171875 37.8125 47.578125 \r\nQ 36.03125 48 33.890625 48 \r\nQ 26.265625 48 22.1875 43.046875 \r\nQ 18.109375 38.09375 18.109375 28.8125 \r\nL 18.109375 0 \r\nL 9.078125 0 \r\nL 9.078125 54.6875 \r\nL 18.109375 54.6875 \r\nL 18.109375 46.1875 \r\nQ 20.953125 51.171875 25.484375 53.578125 \r\nQ 30.03125 56 36.53125 56 \r\nQ 37.453125 56 38.578125 55.875 \r\nQ 39.703125 55.765625 41.0625 55.515625 \r\nz\r\n\" id=\"DejaVuSans-114\"/>\r\n      <path d=\"M 8.5 21.578125 \r\nL 8.5 54.6875 \r\nL 17.484375 54.6875 \r\nL 17.484375 21.921875 \r\nQ 17.484375 14.15625 20.5 10.265625 \r\nQ 23.53125 6.390625 29.59375 6.390625 \r\nQ 36.859375 6.390625 41.078125 11.03125 \r\nQ 45.3125 15.671875 45.3125 23.6875 \r\nL 45.3125 54.6875 \r\nL 54.296875 54.6875 \r\nL 54.296875 0 \r\nL 45.3125 0 \r\nL 45.3125 8.40625 \r\nQ 42.046875 3.421875 37.71875 1 \r\nQ 33.40625 -1.421875 27.6875 -1.421875 \r\nQ 18.265625 -1.421875 13.375 4.4375 \r\nQ 8.5 10.296875 8.5 21.578125 \r\nz\r\nM 31.109375 56 \r\nz\r\n\" id=\"DejaVuSans-117\"/>\r\n     </defs>\r\n     <g transform=\"translate(14.798438 160.584844)rotate(-90)scale(0.1 -0.1)\">\r\n      <use xlink:href=\"#DejaVuSans-84\"/>\r\n      <use x=\"46.333984\" xlink:href=\"#DejaVuSans-114\"/>\r\n      <use x=\"87.447266\" xlink:href=\"#DejaVuSans-117\"/>\r\n      <use x=\"150.826172\" xlink:href=\"#DejaVuSans-101\"/>\r\n      <use x=\"212.349609\" xlink:href=\"#DejaVuSans-32\"/>\r\n      <use x=\"244.136719\" xlink:href=\"#DejaVuSans-112\"/>\r\n      <use x=\"307.613281\" xlink:href=\"#DejaVuSans-111\"/>\r\n      <use x=\"368.794922\" xlink:href=\"#DejaVuSans-115\"/>\r\n      <use x=\"420.894531\" xlink:href=\"#DejaVuSans-105\"/>\r\n      <use x=\"448.677734\" xlink:href=\"#DejaVuSans-116\"/>\r\n      <use x=\"487.886719\" xlink:href=\"#DejaVuSans-105\"/>\r\n      <use x=\"515.669922\" xlink:href=\"#DejaVuSans-118\"/>\r\n      <use x=\"574.849609\" xlink:href=\"#DejaVuSans-101\"/>\r\n      <use x=\"636.373047\" xlink:href=\"#DejaVuSans-115\"/>\r\n      <use x=\"688.472656\" xlink:href=\"#DejaVuSans-32\"/>\r\n      <use x=\"720.259766\" xlink:href=\"#DejaVuSans-91\"/>\r\n      <use x=\"759.273438\" xlink:href=\"#DejaVuSans-37\"/>\r\n      <use x=\"854.292969\" xlink:href=\"#DejaVuSans-93\"/>\r\n     </g>\r\n    </g>\r\n   </g>\r\n   <g id=\"line2d_29\">\r\n    <path clip-path=\"url(#p62da126862)\" d=\"M 65.160874 263.19625 \r\nL 65.267529 260.32146 \r\nL 65.273142 260.32146 \r\nL 65.362957 255.441018 \r\nL 65.391024 255.441018 \r\nL 65.497679 246.764675 \r\nL 65.520132 246.764675 \r\nL 65.61556 241.34196 \r\nL 65.649241 241.34196 \r\nL 65.716602 233.75016 \r\nL 65.761509 233.75016 \r\nL 65.851324 231.038803 \r\nL 65.879391 231.038803 \r\nL 65.963592 227.785174 \r\nL 66.036567 227.785174 \r\nL 66.131995 225.073817 \r\nL 66.154448 225.073817 \r\nL 66.244263 223.447003 \r\nL 66.27233 223.447003 \r\nL 66.345304 220.193374 \r\nL 66.412665 220.193374 \r\nL 66.4688 218.56656 \r\nL 66.530547 218.56656 \r\nL 66.631589 216.939746 \r\nL 66.642815 216.939746 \r\nL 66.738243 214.228388 \r\nL 66.788764 214.228388 \r\nL 66.884192 212.059303 \r\nL 66.934713 212.059303 \r\nL 67.041368 210.97476 \r\nL 67.052595 210.97476 \r\nL 67.103115 208.263403 \r\nL 67.170476 208.263403 \r\nL 67.277131 203.38296 \r\nL 67.310812 203.38296 \r\nL 67.400626 200.129331 \r\nL 67.467987 200.129331 \r\nL 67.563416 196.875703 \r\nL 67.597096 196.875703 \r\nL 67.692524 192.537531 \r\nL 67.731818 192.537531 \r\nL 67.782339 190.368445 \r\nL 67.88338 190.368445 \r\nL 67.984422 186.030274 \r\nL 68.006875 186.030274 \r\nL 68.06301 184.40346 \r\nL 68.13037 184.40346 \r\nL 68.237025 179.523017 \r\nL 68.253866 179.523017 \r\nL 68.34368 176.811659 \r\nL 68.366134 176.811659 \r\nL 68.472789 174.642574 \r\nL 68.478402 174.642574 \r\nL 68.568217 173.015759 \r\nL 68.601897 173.015759 \r\nL 68.669258 170.846674 \r\nL 68.714166 170.846674 \r\nL 68.714166 170.304402 \r\nL 68.837661 170.304402 \r\nL 68.944316 168.677588 \r\nL 68.966769 168.677588 \r\nL 69.006063 165.966231 \r\nL 69.101491 165.966231 \r\nL 69.163239 164.339416 \r\nL 69.2306 164.339416 \r\nL 69.320415 161.085788 \r\nL 69.382162 161.085788 \r\nL 69.382162 160.543516 \r\nL 69.49443 160.543516 \r\nL 69.550565 158.916702 \r\nL 69.645993 158.916702 \r\nL 69.668446 157.832159 \r\nL 69.836849 157.832159 \r\nL 69.836849 157.289888 \r\nL 69.988411 157.289888 \r\nL 70.022092 155.120802 \r\nL 70.128746 155.120802 \r\nL 70.201721 152.951716 \r\nL 70.269082 152.951716 \r\nL 70.36451 148.071273 \r\nL 70.386964 148.071273 \r\nL 70.426257 146.986731 \r\nL 70.504845 146.986731 \r\nL 70.544139 144.817645 \r\nL 70.734995 144.817645 \r\nL 70.80797 142.106288 \r\nL 70.903398 142.106288 \r\nL 71.004439 139.937202 \r\nL 71.127934 139.937202 \r\nL 71.234589 138.310388 \r\nL 71.257043 138.310388 \r\nL 71.257043 137.768116 \r\nL 71.436672 137.768116 \r\nL 71.509647 136.683573 \r\nL 71.582621 136.683573 \r\nL 71.621915 133.972216 \r\nL 71.71173 133.972216 \r\nL 71.807158 131.260859 \r\nL 71.885745 131.260859 \r\nL 71.9924 130.176316 \r\nL 72.093442 130.176316 \r\nL 72.115896 128.549502 \r\nL 72.250617 128.549502 \r\nL 72.334819 126.922687 \r\nL 72.390953 126.922687 \r\nL 72.475154 125.295873 \r\nL 72.503221 125.295873 \r\nL 72.581809 123.669059 \r\nL 72.654783 123.669059 \r\nL 72.755825 121.499973 \r\nL 72.868093 121.499973 \r\nL 72.868093 120.957702 \r\nL 73.002815 120.957702 \r\nL 73.036496 119.330887 \r\nL 73.159991 119.330887 \r\nL 73.255419 118.246344 \r\nL 73.665198 118.246344 \r\nL 73.738173 117.161802 \r\nL 73.777466 117.161802 \r\nL 73.777466 116.61953 \r\nL 73.895348 116.61953 \r\nL 74.002003 114.992716 \r\nL 74.01323 114.992716 \r\nL 74.058137 113.908173 \r\nL 74.271447 113.908173 \r\nL 74.350035 110.654544 \r\nL 74.535278 110.654544 \r\nL 74.597025 109.02773 \r\nL 74.681226 109.02773 \r\nL 74.754201 107.943187 \r\nL 74.872083 107.943187 \r\nL 74.894536 106.858644 \r\nL 75.023645 106.858644 \r\nL 75.1303 105.23183 \r\nL 75.14714 105.23183 \r\nL 75.18082 103.605016 \r\nL 75.287475 103.605016 \r\nL 75.321156 102.520473 \r\nL 75.489558 102.520473 \r\nL 75.562533 100.893659 \r\nL 75.601827 100.893659 \r\nL 75.601827 100.351387 \r\nL 75.759002 100.351387 \r\nL 75.815136 99.266844 \r\nL 75.876884 99.266844 \r\nL 75.904951 98.182301 \r\nL 76.533654 98.182301 \r\nL 76.617855 96.555487 \r\nL 76.657149 96.555487 \r\nL 76.673989 95.470944 \r\nL 76.842391 95.470944 \r\nL 76.920979 92.759587 \r\nL 77.061315 92.759587 \r\nL 77.156743 91.132773 \r\nL 77.179196 91.132773 \r\nL 77.207263 90.04823 \r\nL 77.622656 90.04823 \r\nL 77.718084 88.963687 \r\nL 77.869646 88.963687 \r\nL 77.914554 87.879144 \r\nL 78.133477 87.879144 \r\nL 78.178384 86.794601 \r\nL 78.307493 86.794601 \r\nL 78.307493 86.25233 \r\nL 78.616231 86.25233 \r\nL 78.722886 84.083244 \r\nL 78.846381 84.083244 \r\nL 78.851994 82.45643 \r\nL 78.992329 82.45643 \r\nL 79.065304 80.829615 \r\nL 79.127051 80.829615 \r\nL 79.155119 79.745073 \r\nL 79.25616 79.745073 \r\nL 79.25616 78.66053 \r\nL 79.480697 78.66053 \r\nL 79.525604 77.575987 \r\nL 79.626645 77.575987 \r\nL 79.626645 77.033715 \r\nL 79.800661 77.033715 \r\nL 79.800661 76.491444 \r\nL 80.350776 76.491444 \r\nL 80.40691 74.86463 \r\nL 80.491111 74.86463 \r\nL 80.580926 73.780087 \r\nL 80.687581 73.780087 \r\nL 80.788622 71.611001 \r\nL 80.822303 71.611001 \r\nL 80.900891 70.526458 \r\nL 81.108587 70.526458 \r\nL 81.108587 69.984187 \r\nL 81.333124 69.984187 \r\nL 81.411712 68.899644 \r\nL 81.484686 68.899644 \r\nL 81.518366 67.815101 \r\nL 81.669929 67.815101 \r\nL 81.776584 66.730558 \r\nL 82.377219 66.730558 \r\nL 82.455807 65.646015 \r\nL 82.764545 65.646015 \r\nL 82.831906 64.019201 \r\nL 82.88804 64.019201 \r\nL 82.88804 63.47693 \r\nL 83.039602 63.47693 \r\nL 83.039602 62.934658 \r\nL 83.174324 62.934658 \r\nL 83.174324 62.392387 \r\nL 83.426928 62.392387 \r\nL 83.426928 61.850115 \r\nL 83.567263 61.850115 \r\nL 83.567263 61.307844 \r\nL 83.758119 61.307844 \r\nL 83.758119 60.765572 \r\nL 84.100538 60.765572 \r\nL 84.100538 60.223301 \r\nL 84.319461 60.223301 \r\nL 84.336301 59.138758 \r\nL 84.521544 59.138758 \r\nL 84.555224 58.054215 \r\nL 84.790988 58.054215 \r\nL 84.790988 57.511944 \r\nL 85.15586 57.511944 \r\nL 85.228834 56.427401 \r\nL 85.279355 56.427401 \r\nL 85.279355 55.885129 \r\nL 85.537572 55.885129 \r\nL 85.59932 54.800587 \r\nL 85.913671 54.800587 \r\nL 85.952965 53.173772 \r\nL 86.390811 53.173772 \r\nL 86.402038 52.089229 \r\nL 86.542373 52.089229 \r\nL 86.542373 51.546958 \r\nL 86.974606 51.546958 \r\nL 86.974606 51.004687 \r\nL 87.45736 51.004687 \r\nL 87.45736 50.462415 \r\nL 87.771711 50.462415 \r\nL 87.771711 49.920144 \r\nL 87.9345 49.920144 \r\nL 87.9345 49.377872 \r\nL 88.293759 49.377872 \r\nL 88.293759 48.835601 \r\nL 89.551164 48.835601 \r\nL 89.640979 47.751058 \r\nL 89.669046 47.751058 \r\nL 89.669046 47.208786 \r\nL 89.843062 47.208786 \r\nL 89.843062 46.666515 \r\nL 90.20232 46.666515 \r\nL 90.258454 45.581972 \r\nL 90.539125 45.581972 \r\nL 90.539125 45.039701 \r\nL 90.66262 45.039701 \r\nL 90.66262 44.497429 \r\nL 90.853476 44.497429 \r\nL 90.853476 43.955158 \r\nL 91.268869 43.955158 \r\nL 91.268869 43.412886 \r\nL 91.543927 43.412886 \r\nL 91.543927 42.870615 \r\nL 93.065162 42.870615 \r\nL 93.065162 42.328344 \r\nL 93.738772 42.328344 \r\nL 93.738772 41.786072 \r\nL 94.221526 41.786072 \r\nL 94.221526 41.243801 \r\nL 94.945656 41.243801 \r\nL 94.945656 40.701529 \r\nL 95.310528 40.701529 \r\nL 95.310528 40.159258 \r\nL 95.770828 40.159258 \r\nL 95.770828 39.616986 \r\nL 96.433211 39.616986 \r\nL 96.433211 39.074715 \r\nL 96.635294 39.074715 \r\nL 96.635294 38.532444 \r\nL 96.893512 38.532444 \r\nL 96.893512 37.990172 \r\nL 97.359425 37.990172 \r\nL 97.359425 37.447901 \r\nL 98.033035 37.447901 \r\nL 98.033035 36.905629 \r\nL 98.257572 36.905629 \r\nL 98.257572 36.363358 \r\nL 99.711446 36.363358 \r\nL 99.711446 35.821086 \r\nL 99.96405 35.821086 \r\nL 99.96405 35.278815 \r\nL 101.109187 35.278815 \r\nL 101.109187 34.736543 \r\nL 104.589504 34.736543 \r\nL 104.589504 34.194272 \r\nL 106.352117 34.194272 \r\nL 106.391411 33.109729 \r\nL 108.816406 33.109729 \r\nL 108.861313 32.025186 \r\nL 109.181278 32.025186 \r\nL 109.181278 31.482915 \r\nL 112.448286 31.482915 \r\nL 112.448286 30.940643 \r\nL 112.841225 30.940643 \r\nL 112.841225 30.398372 \r\nL 113.340819 30.398372 \r\nL 113.340819 29.856101 \r\nL 113.896547 29.856101 \r\nL 113.896547 29.313829 \r\nL 114.042496 29.313829 \r\nL 114.042496 28.771558 \r\nL 115.647933 28.771558 \r\nL 115.647933 28.229286 \r\nL 116.692028 28.229286 \r\nL 116.692028 27.687015 \r\nL 117.230916 27.687015 \r\nL 117.230916 27.144743 \r\nL 121.227668 27.144743 \r\nL 121.227668 26.602472 \r\nL 123.843519 26.602472 \r\nL 123.843519 26.060201 \r\nL 124.12419 26.060201 \r\nL 124.12419 25.517929 \r\nL 126.425691 25.517929 \r\nL 126.425691 24.975658 \r\nL 130.489803 24.975658 \r\nL 130.489803 24.433386 \r\nL 134.615664 24.433386 \r\nL 134.615664 23.891115 \r\nL 135.670986 23.891115 \r\nL 135.670986 23.348843 \r\nL 136.193033 23.348843 \r\nL 136.193033 22.806572 \r\nL 137.07434 22.806572 \r\nL 137.07434 22.2643 \r\nL 137.843378 22.2643 \r\nL 137.843378 21.722029 \r\nL 141.542618 21.722029 \r\nL 141.542618 21.179758 \r\nL 142.81125 21.179758 \r\nL 142.81125 20.637486 \r\nL 151.147172 20.637486 \r\nL 151.147172 20.095215 \r\nL 164.035574 20.095215 \r\nL 164.035574 19.552943 \r\nL 164.529555 19.552943 \r\nL 164.529555 19.010672 \r\nL 172.955292 19.010672 \r\nL 172.955292 18.4684 \r\nL 173.320164 18.4684 \r\nL 173.320164 17.926129 \r\nL 174.027454 17.926129 \r\nL 174.027454 17.383858 \r\nL 175.464488 17.383858 \r\nL 175.464488 16.841586 \r\nL 176.053897 16.841586 \r\nL 176.053897 16.299315 \r\nL 178.579934 16.299315 \r\nL 178.579934 15.757043 \r\nL 186.966377 15.757043 \r\nL 186.966377 15.214772 \r\nL 200.011954 15.214772 \r\nL 200.011954 14.6725 \r\nL 207.107312 14.6725 \r\nL 207.107312 14.130229 \r\nL 223.520939 14.130229 \r\nL 223.520939 13.587958 \r\nL 248.163833 13.587958 \r\nL 248.163833 13.045686 \r\nL 288.50875 13.045686 \r\nL 288.50875 13.045686 \r\n\" style=\"fill:none;stroke:#1f77b4;stroke-linecap:square;stroke-width:2;\"/>\r\n   </g>\r\n   <g id=\"patch_3\">\r\n    <path d=\"M 56.50625 224.64 \r\nL 56.50625 7.2 \r\n\" style=\"fill:none;stroke:#000000;stroke-linecap:square;stroke-linejoin:miter;stroke-width:0.8;\"/>\r\n   </g>\r\n   <g id=\"patch_4\">\r\n    <path d=\"M 273.94625 224.64 \r\nL 273.94625 7.2 \r\n\" style=\"fill:none;stroke:#000000;stroke-linecap:square;stroke-linejoin:miter;stroke-width:0.8;\"/>\r\n   </g>\r\n   <g id=\"patch_5\">\r\n    <path d=\"M 56.50625 224.64 \r\nL 273.94625 224.64 \r\n\" style=\"fill:none;stroke:#000000;stroke-linecap:square;stroke-linejoin:miter;stroke-width:0.8;\"/>\r\n   </g>\r\n   <g id=\"patch_6\">\r\n    <path d=\"M 56.50625 7.2 \r\nL 273.94625 7.2 \r\n\" style=\"fill:none;stroke:#000000;stroke-linecap:square;stroke-linejoin:miter;stroke-width:0.8;\"/>\r\n   </g>\r\n   <g id=\"legend_1\">\r\n    <g id=\"patch_7\">\r\n     <path d=\"M 164.95875 219.64 \r\nL 266.94625 219.64 \r\nQ 268.94625 219.64 268.94625 217.64 \r\nL 268.94625 203.961875 \r\nQ 268.94625 201.961875 266.94625 201.961875 \r\nL 164.95875 201.961875 \r\nQ 162.95875 201.961875 162.95875 203.961875 \r\nL 162.95875 217.64 \r\nQ 162.95875 219.64 164.95875 219.64 \r\nz\r\n\" style=\"fill:#ffffff;opacity:0.8;stroke:#cccccc;stroke-linejoin:miter;\"/>\r\n    </g>\r\n    <g id=\"line2d_30\">\r\n     <path d=\"M 166.95875 210.060313 \r\nL 186.95875 210.060313 \r\n\" style=\"fill:none;stroke:#1f77b4;stroke-linecap:square;stroke-width:2;\"/>\r\n    </g>\r\n    <g id=\"line2d_31\"/>\r\n    <g id=\"text_17\">\r\n     <!-- All Train Mean -->\r\n     <defs>\r\n      <path d=\"M 34.1875 63.1875 \r\nL 20.796875 26.90625 \r\nL 47.609375 26.90625 \r\nz\r\nM 28.609375 72.90625 \r\nL 39.796875 72.90625 \r\nL 67.578125 0 \r\nL 57.328125 0 \r\nL 50.6875 18.703125 \r\nL 17.828125 18.703125 \r\nL 11.1875 0 \r\nL 0.78125 0 \r\nz\r\n\" id=\"DejaVuSans-65\"/>\r\n      <path d=\"M 54.890625 33.015625 \r\nL 54.890625 0 \r\nL 45.90625 0 \r\nL 45.90625 32.71875 \r\nQ 45.90625 40.484375 42.875 44.328125 \r\nQ 39.84375 48.1875 33.796875 48.1875 \r\nQ 26.515625 48.1875 22.3125 43.546875 \r\nQ 18.109375 38.921875 18.109375 30.90625 \r\nL 18.109375 0 \r\nL 9.078125 0 \r\nL 9.078125 54.6875 \r\nL 18.109375 54.6875 \r\nL 18.109375 46.1875 \r\nQ 21.34375 51.125 25.703125 53.5625 \r\nQ 30.078125 56 35.796875 56 \r\nQ 45.21875 56 50.046875 50.171875 \r\nQ 54.890625 44.34375 54.890625 33.015625 \r\nz\r\n\" id=\"DejaVuSans-110\"/>\r\n      <path d=\"M 9.8125 72.90625 \r\nL 24.515625 72.90625 \r\nL 43.109375 23.296875 \r\nL 61.8125 72.90625 \r\nL 76.515625 72.90625 \r\nL 76.515625 0 \r\nL 66.890625 0 \r\nL 66.890625 64.015625 \r\nL 48.09375 14.015625 \r\nL 38.1875 14.015625 \r\nL 19.390625 64.015625 \r\nL 19.390625 0 \r\nL 9.8125 0 \r\nz\r\n\" id=\"DejaVuSans-77\"/>\r\n     </defs>\r\n     <g transform=\"translate(194.95875 213.560313)scale(0.1 -0.1)\">\r\n      <use xlink:href=\"#DejaVuSans-65\"/>\r\n      <use x=\"68.408203\" xlink:href=\"#DejaVuSans-108\"/>\r\n      <use x=\"96.191406\" xlink:href=\"#DejaVuSans-108\"/>\r\n      <use x=\"123.974609\" xlink:href=\"#DejaVuSans-32\"/>\r\n      <use x=\"155.761719\" xlink:href=\"#DejaVuSans-84\"/>\r\n      <use x=\"202.095703\" xlink:href=\"#DejaVuSans-114\"/>\r\n      <use x=\"243.208984\" xlink:href=\"#DejaVuSans-97\"/>\r\n      <use x=\"304.488281\" xlink:href=\"#DejaVuSans-105\"/>\r\n      <use x=\"332.271484\" xlink:href=\"#DejaVuSans-110\"/>\r\n      <use x=\"395.650391\" xlink:href=\"#DejaVuSans-32\"/>\r\n      <use x=\"427.4375\" xlink:href=\"#DejaVuSans-77\"/>\r\n      <use x=\"513.716797\" xlink:href=\"#DejaVuSans-101\"/>\r\n      <use x=\"575.240234\" xlink:href=\"#DejaVuSans-97\"/>\r\n      <use x=\"636.519531\" xlink:href=\"#DejaVuSans-110\"/>\r\n     </g>\r\n    </g>\r\n   </g>\r\n  </g>\r\n </g>\r\n <defs>\r\n  <clipPath id=\"p62da126862\">\r\n   <rect height=\"217.44\" width=\"217.44\" x=\"56.50625\" y=\"7.2\"/>\r\n  </clipPath>\r\n </defs>\r\n</svg>\r\n",
      "image/png": "[encoded data removed]"
     },
     "metadata": {
      "needs_background": "light"
     }
    }
   ],
   "source": [
    "plot_roc(\"All Train Mean\", y_train_ori, y_train_predicted_mean)\n",
    "# plot_roc(\n",
    "#     \"All Train Any\", y_train_ori, y_train_predicted_any\n",
    "# )\n",
    "\n",
    "plt.legend(loc=\"lower right\")\n",
    "plt.show()"
   ]
  },
  {
   "cell_type": "code",
   "execution_count": 40,
   "metadata": {},
   "outputs": [],
   "source": [
    "from sklearn.metrics import (\n",
    "    accuracy_score,\n",
    "    confusion_matrix,\n",
    "    f1_score,\n",
    "    precision_score,\n",
    "    recall_score,\n",
    "    roc_auc_score,\n",
    ")\n",
    "\n",
    "\n",
    "def plot_cm(labels, predictions, p=0.5):\n",
    "    cm = confusion_matrix(labels, predictions > p)\n",
    "    acc = accuracy_score(labels, predictions > p)\n",
    "    prec = precision_score(labels, predictions > p)\n",
    "    recall = recall_score(labels, predictions > p)\n",
    "    f1 = f1_score(labels, predictions > p)\n",
    "    auc = roc_auc_score(labels, predictions)\n",
    "\n",
    "    plt.figure(figsize=(5, 5))\n",
    "    sns.heatmap(cm, annot=True, fmt=\"d\")\n",
    "    plt.title(\"Confusion matrix @{:.2f}\".format(p))\n",
    "    plt.ylabel(\"Actual label\")\n",
    "    plt.xlabel(\"Predicted label\")\n",
    "\n",
    "    print(\n",
    "        f\"Accuracy: {acc}\\nPrecision: {prec}\\nRecall: {recall}\\nF1: {f1}\\nAUC: {auc}\\n\"\n",
    "    )\n",
    "\n",
    "    print(\"Legitimate Transactions Detected (True Negatives): \", cm[0][0])\n",
    "    print(\"Legitimate Transactions Incorrectly Detected (False Positives): \", cm[0][1])\n",
    "    print(\"Fraudulent Transactions Missed (False Negatives): \", cm[1][0])\n",
    "    print(\"Fraudulent Transactions Detected (True Positives): \", cm[1][1])\n",
    "    print(\"Total Fraudulent Transactions: \", np.sum(cm[1]))"
   ]
  },
  {
   "cell_type": "code",
   "execution_count": 41,
   "metadata": {},
   "outputs": [
    {
     "output_type": "stream",
     "name": "stdout",
     "text": [
      "Accuracy: 0.994641482156607\nPrecision: 0.934762348555452\nRecall: 0.5127811860940695\nF1: 0.6622647738527566\nAUC: 0.9955633067221134\n\nLegitimate Transactions Detected (True Negatives):  188885\nLegitimate Transactions Incorrectly Detected (False Positives):  70\nFraudulent Transactions Missed (False Negatives):  953\nFraudulent Transactions Detected (True Positives):  1003\nTotal Fraudulent Transactions:  1956\n"
     ]
    },
    {
     "output_type": "display_data",
     "data": {
      "text/plain": "<Figure size 360x360 with 2 Axes>",
      "image/svg+xml": "<?xml version=\"1.0\" encoding=\"utf-8\" standalone=\"no\"?>\r\n<!DOCTYPE svg PUBLIC \"-//W3C//DTD SVG 1.1//EN\"\r\n  \"http://www.w3.org/Graphics/SVG/1.1/DTD/svg11.dtd\">\r\n<!-- Created with matplotlib (https://matplotlib.org/) -->\r\n<svg height=\"331.674375pt\" version=\"1.1\" viewBox=\"0 0 340.67125 331.674375\" width=\"340.67125pt\" xmlns=\"http://www.w3.org/2000/svg\" xmlns:xlink=\"http://www.w3.org/1999/xlink\">\r\n <defs>\r\n  <style type=\"text/css\">\r\n*{stroke-linecap:butt;stroke-linejoin:round;}\r\n  </style>\r\n </defs>\r\n <g id=\"figure_1\">\r\n  <g id=\"patch_1\">\r\n   <path d=\"M 0 331.674375 \r\nL 340.67125 331.674375 \r\nL 340.67125 0 \r\nL 0 0 \r\nz\r\n\" style=\"fill:none;\"/>\r\n  </g>\r\n  <g id=\"axes_1\">\r\n   <g id=\"patch_2\">\r\n    <path d=\"M 37.55625 294.118125 \r\nL 260.75625 294.118125 \r\nL 260.75625 22.318125 \r\nL 37.55625 22.318125 \r\nz\r\n\" style=\"fill:#ffffff;\"/>\r\n   </g>\r\n   <g id=\"QuadMesh_1\">\r\n    <path clip-path=\"url(#p58c71f0a32)\" d=\"M 37.55625 22.318125 \r\nL 149.15625 22.318125 \r\nL 149.15625 158.218125 \r\nL 37.55625 158.218125 \r\nL 37.55625 22.318125 \r\n\" style=\"fill:#faebdd;\"/>\r\n    <path clip-path=\"url(#p58c71f0a32)\" d=\"M 149.15625 22.318125 \r\nL 260.75625 22.318125 \r\nL 260.75625 158.218125 \r\nL 149.15625 158.218125 \r\nL 149.15625 22.318125 \r\n\" style=\"fill:#03051a;\"/>\r\n    <path clip-path=\"url(#p58c71f0a32)\" d=\"M 37.55625 158.218125 \r\nL 149.15625 158.218125 \r\nL 149.15625 294.118125 \r\nL 37.55625 294.118125 \r\nL 37.55625 158.218125 \r\n\" style=\"fill:#04051a;\"/>\r\n    <path clip-path=\"url(#p58c71f0a32)\" d=\"M 149.15625 158.218125 \r\nL 260.75625 158.218125 \r\nL 260.75625 294.118125 \r\nL 149.15625 294.118125 \r\nL 149.15625 158.218125 \r\n\" style=\"fill:#04051a;\"/>\r\n   </g>\r\n   <g id=\"matplotlib.axis_1\">\r\n    <g id=\"xtick_1\">\r\n     <g id=\"line2d_1\">\r\n      <defs>\r\n       <path d=\"M 0 0 \r\nL 0 3.5 \r\n\" id=\"m2940642af1\" style=\"stroke:#000000;stroke-width:0.8;\"/>\r\n      </defs>\r\n      <g>\r\n       <use style=\"stroke:#000000;stroke-width:0.8;\" x=\"93.35625\" xlink:href=\"#m2940642af1\" y=\"294.118125\"/>\r\n      </g>\r\n     </g>\r\n     <g id=\"text_1\">\r\n      <!-- 0 -->\r\n      <defs>\r\n       <path d=\"M 31.78125 66.40625 \r\nQ 24.171875 66.40625 20.328125 58.90625 \r\nQ 16.5 51.421875 16.5 36.375 \r\nQ 16.5 21.390625 20.328125 13.890625 \r\nQ 24.171875 6.390625 31.78125 6.390625 \r\nQ 39.453125 6.390625 43.28125 13.890625 \r\nQ 47.125 21.390625 47.125 36.375 \r\nQ 47.125 51.421875 43.28125 58.90625 \r\nQ 39.453125 66.40625 31.78125 66.40625 \r\nz\r\nM 31.78125 74.21875 \r\nQ 44.046875 74.21875 50.515625 64.515625 \r\nQ 56.984375 54.828125 56.984375 36.375 \r\nQ 56.984375 17.96875 50.515625 8.265625 \r\nQ 44.046875 -1.421875 31.78125 -1.421875 \r\nQ 19.53125 -1.421875 13.0625 8.265625 \r\nQ 6.59375 17.96875 6.59375 36.375 \r\nQ 6.59375 54.828125 13.0625 64.515625 \r\nQ 19.53125 74.21875 31.78125 74.21875 \r\nz\r\n\" id=\"DejaVuSans-48\"/>\r\n      </defs>\r\n      <g transform=\"translate(90.175 308.716563)scale(0.1 -0.1)\">\r\n       <use xlink:href=\"#DejaVuSans-48\"/>\r\n      </g>\r\n     </g>\r\n    </g>\r\n    <g id=\"xtick_2\">\r\n     <g id=\"line2d_2\">\r\n      <g>\r\n       <use style=\"stroke:#000000;stroke-width:0.8;\" x=\"204.95625\" xlink:href=\"#m2940642af1\" y=\"294.118125\"/>\r\n      </g>\r\n     </g>\r\n     <g id=\"text_2\">\r\n      <!-- 1 -->\r\n      <defs>\r\n       <path d=\"M 12.40625 8.296875 \r\nL 28.515625 8.296875 \r\nL 28.515625 63.921875 \r\nL 10.984375 60.40625 \r\nL 10.984375 69.390625 \r\nL 28.421875 72.90625 \r\nL 38.28125 72.90625 \r\nL 38.28125 8.296875 \r\nL 54.390625 8.296875 \r\nL 54.390625 0 \r\nL 12.40625 0 \r\nz\r\n\" id=\"DejaVuSans-49\"/>\r\n      </defs>\r\n      <g transform=\"translate(201.775 308.716563)scale(0.1 -0.1)\">\r\n       <use xlink:href=\"#DejaVuSans-49\"/>\r\n      </g>\r\n     </g>\r\n    </g>\r\n    <g id=\"text_3\">\r\n     <!-- Predicted label -->\r\n     <defs>\r\n      <path d=\"M 19.671875 64.796875 \r\nL 19.671875 37.40625 \r\nL 32.078125 37.40625 \r\nQ 38.96875 37.40625 42.71875 40.96875 \r\nQ 46.484375 44.53125 46.484375 51.125 \r\nQ 46.484375 57.671875 42.71875 61.234375 \r\nQ 38.96875 64.796875 32.078125 64.796875 \r\nz\r\nM 9.8125 72.90625 \r\nL 32.078125 72.90625 \r\nQ 44.34375 72.90625 50.609375 67.359375 \r\nQ 56.890625 61.8125 56.890625 51.125 \r\nQ 56.890625 40.328125 50.609375 34.8125 \r\nQ 44.34375 29.296875 32.078125 29.296875 \r\nL 19.671875 29.296875 \r\nL 19.671875 0 \r\nL 9.8125 0 \r\nz\r\n\" id=\"DejaVuSans-80\"/>\r\n      <path d=\"M 41.109375 46.296875 \r\nQ 39.59375 47.171875 37.8125 47.578125 \r\nQ 36.03125 48 33.890625 48 \r\nQ 26.265625 48 22.1875 43.046875 \r\nQ 18.109375 38.09375 18.109375 28.8125 \r\nL 18.109375 0 \r\nL 9.078125 0 \r\nL 9.078125 54.6875 \r\nL 18.109375 54.6875 \r\nL 18.109375 46.1875 \r\nQ 20.953125 51.171875 25.484375 53.578125 \r\nQ 30.03125 56 36.53125 56 \r\nQ 37.453125 56 38.578125 55.875 \r\nQ 39.703125 55.765625 41.0625 55.515625 \r\nz\r\n\" id=\"DejaVuSans-114\"/>\r\n      <path d=\"M 56.203125 29.59375 \r\nL 56.203125 25.203125 \r\nL 14.890625 25.203125 \r\nQ 15.484375 15.921875 20.484375 11.0625 \r\nQ 25.484375 6.203125 34.421875 6.203125 \r\nQ 39.59375 6.203125 44.453125 7.46875 \r\nQ 49.3125 8.734375 54.109375 11.28125 \r\nL 54.109375 2.78125 \r\nQ 49.265625 0.734375 44.1875 -0.34375 \r\nQ 39.109375 -1.421875 33.890625 -1.421875 \r\nQ 20.796875 -1.421875 13.15625 6.1875 \r\nQ 5.515625 13.8125 5.515625 26.8125 \r\nQ 5.515625 40.234375 12.765625 48.109375 \r\nQ 20.015625 56 32.328125 56 \r\nQ 43.359375 56 49.78125 48.890625 \r\nQ 56.203125 41.796875 56.203125 29.59375 \r\nz\r\nM 47.21875 32.234375 \r\nQ 47.125 39.59375 43.09375 43.984375 \r\nQ 39.0625 48.390625 32.421875 48.390625 \r\nQ 24.90625 48.390625 20.390625 44.140625 \r\nQ 15.875 39.890625 15.1875 32.171875 \r\nz\r\n\" id=\"DejaVuSans-101\"/>\r\n      <path d=\"M 45.40625 46.390625 \r\nL 45.40625 75.984375 \r\nL 54.390625 75.984375 \r\nL 54.390625 0 \r\nL 45.40625 0 \r\nL 45.40625 8.203125 \r\nQ 42.578125 3.328125 38.25 0.953125 \r\nQ 33.9375 -1.421875 27.875 -1.421875 \r\nQ 17.96875 -1.421875 11.734375 6.484375 \r\nQ 5.515625 14.40625 5.515625 27.296875 \r\nQ 5.515625 40.1875 11.734375 48.09375 \r\nQ 17.96875 56 27.875 56 \r\nQ 33.9375 56 38.25 53.625 \r\nQ 42.578125 51.265625 45.40625 46.390625 \r\nz\r\nM 14.796875 27.296875 \r\nQ 14.796875 17.390625 18.875 11.75 \r\nQ 22.953125 6.109375 30.078125 6.109375 \r\nQ 37.203125 6.109375 41.296875 11.75 \r\nQ 45.40625 17.390625 45.40625 27.296875 \r\nQ 45.40625 37.203125 41.296875 42.84375 \r\nQ 37.203125 48.484375 30.078125 48.484375 \r\nQ 22.953125 48.484375 18.875 42.84375 \r\nQ 14.796875 37.203125 14.796875 27.296875 \r\nz\r\n\" id=\"DejaVuSans-100\"/>\r\n      <path d=\"M 9.421875 54.6875 \r\nL 18.40625 54.6875 \r\nL 18.40625 0 \r\nL 9.421875 0 \r\nz\r\nM 9.421875 75.984375 \r\nL 18.40625 75.984375 \r\nL 18.40625 64.59375 \r\nL 9.421875 64.59375 \r\nz\r\n\" id=\"DejaVuSans-105\"/>\r\n      <path d=\"M 48.78125 52.59375 \r\nL 48.78125 44.1875 \r\nQ 44.96875 46.296875 41.140625 47.34375 \r\nQ 37.3125 48.390625 33.40625 48.390625 \r\nQ 24.65625 48.390625 19.8125 42.84375 \r\nQ 14.984375 37.3125 14.984375 27.296875 \r\nQ 14.984375 17.28125 19.8125 11.734375 \r\nQ 24.65625 6.203125 33.40625 6.203125 \r\nQ 37.3125 6.203125 41.140625 7.25 \r\nQ 44.96875 8.296875 48.78125 10.40625 \r\nL 48.78125 2.09375 \r\nQ 45.015625 0.34375 40.984375 -0.53125 \r\nQ 36.96875 -1.421875 32.421875 -1.421875 \r\nQ 20.0625 -1.421875 12.78125 6.34375 \r\nQ 5.515625 14.109375 5.515625 27.296875 \r\nQ 5.515625 40.671875 12.859375 48.328125 \r\nQ 20.21875 56 33.015625 56 \r\nQ 37.15625 56 41.109375 55.140625 \r\nQ 45.0625 54.296875 48.78125 52.59375 \r\nz\r\n\" id=\"DejaVuSans-99\"/>\r\n      <path d=\"M 18.3125 70.21875 \r\nL 18.3125 54.6875 \r\nL 36.8125 54.6875 \r\nL 36.8125 47.703125 \r\nL 18.3125 47.703125 \r\nL 18.3125 18.015625 \r\nQ 18.3125 11.328125 20.140625 9.421875 \r\nQ 21.96875 7.515625 27.59375 7.515625 \r\nL 36.8125 7.515625 \r\nL 36.8125 0 \r\nL 27.59375 0 \r\nQ 17.1875 0 13.234375 3.875 \r\nQ 9.28125 7.765625 9.28125 18.015625 \r\nL 9.28125 47.703125 \r\nL 2.6875 47.703125 \r\nL 2.6875 54.6875 \r\nL 9.28125 54.6875 \r\nL 9.28125 70.21875 \r\nz\r\n\" id=\"DejaVuSans-116\"/>\r\n      <path id=\"DejaVuSans-32\"/>\r\n      <path d=\"M 9.421875 75.984375 \r\nL 18.40625 75.984375 \r\nL 18.40625 0 \r\nL 9.421875 0 \r\nz\r\n\" id=\"DejaVuSans-108\"/>\r\n      <path d=\"M 34.28125 27.484375 \r\nQ 23.390625 27.484375 19.1875 25 \r\nQ 14.984375 22.515625 14.984375 16.5 \r\nQ 14.984375 11.71875 18.140625 8.90625 \r\nQ 21.296875 6.109375 26.703125 6.109375 \r\nQ 34.1875 6.109375 38.703125 11.40625 \r\nQ 43.21875 16.703125 43.21875 25.484375 \r\nL 43.21875 27.484375 \r\nz\r\nM 52.203125 31.203125 \r\nL 52.203125 0 \r\nL 43.21875 0 \r\nL 43.21875 8.296875 \r\nQ 40.140625 3.328125 35.546875 0.953125 \r\nQ 30.953125 -1.421875 24.3125 -1.421875 \r\nQ 15.921875 -1.421875 10.953125 3.296875 \r\nQ 6 8.015625 6 15.921875 \r\nQ 6 25.140625 12.171875 29.828125 \r\nQ 18.359375 34.515625 30.609375 34.515625 \r\nL 43.21875 34.515625 \r\nL 43.21875 35.40625 \r\nQ 43.21875 41.609375 39.140625 45 \r\nQ 35.0625 48.390625 27.6875 48.390625 \r\nQ 23 48.390625 18.546875 47.265625 \r\nQ 14.109375 46.140625 10.015625 43.890625 \r\nL 10.015625 52.203125 \r\nQ 14.9375 54.109375 19.578125 55.046875 \r\nQ 24.21875 56 28.609375 56 \r\nQ 40.484375 56 46.34375 49.84375 \r\nQ 52.203125 43.703125 52.203125 31.203125 \r\nz\r\n\" id=\"DejaVuSans-97\"/>\r\n      <path d=\"M 48.6875 27.296875 \r\nQ 48.6875 37.203125 44.609375 42.84375 \r\nQ 40.53125 48.484375 33.40625 48.484375 \r\nQ 26.265625 48.484375 22.1875 42.84375 \r\nQ 18.109375 37.203125 18.109375 27.296875 \r\nQ 18.109375 17.390625 22.1875 11.75 \r\nQ 26.265625 6.109375 33.40625 6.109375 \r\nQ 40.53125 6.109375 44.609375 11.75 \r\nQ 48.6875 17.390625 48.6875 27.296875 \r\nz\r\nM 18.109375 46.390625 \r\nQ 20.953125 51.265625 25.265625 53.625 \r\nQ 29.59375 56 35.59375 56 \r\nQ 45.5625 56 51.78125 48.09375 \r\nQ 58.015625 40.1875 58.015625 27.296875 \r\nQ 58.015625 14.40625 51.78125 6.484375 \r\nQ 45.5625 -1.421875 35.59375 -1.421875 \r\nQ 29.59375 -1.421875 25.265625 0.953125 \r\nQ 20.953125 3.328125 18.109375 8.203125 \r\nL 18.109375 0 \r\nL 9.078125 0 \r\nL 9.078125 75.984375 \r\nL 18.109375 75.984375 \r\nz\r\n\" id=\"DejaVuSans-98\"/>\r\n     </defs>\r\n     <g transform=\"translate(112.003906 322.394687)scale(0.1 -0.1)\">\r\n      <use xlink:href=\"#DejaVuSans-80\"/>\r\n      <use x=\"58.552734\" xlink:href=\"#DejaVuSans-114\"/>\r\n      <use x=\"97.416016\" xlink:href=\"#DejaVuSans-101\"/>\r\n      <use x=\"158.939453\" xlink:href=\"#DejaVuSans-100\"/>\r\n      <use x=\"222.416016\" xlink:href=\"#DejaVuSans-105\"/>\r\n      <use x=\"250.199219\" xlink:href=\"#DejaVuSans-99\"/>\r\n      <use x=\"305.179688\" xlink:href=\"#DejaVuSans-116\"/>\r\n      <use x=\"344.388672\" xlink:href=\"#DejaVuSans-101\"/>\r\n      <use x=\"405.912109\" xlink:href=\"#DejaVuSans-100\"/>\r\n      <use x=\"469.388672\" xlink:href=\"#DejaVuSans-32\"/>\r\n      <use x=\"501.175781\" xlink:href=\"#DejaVuSans-108\"/>\r\n      <use x=\"528.958984\" xlink:href=\"#DejaVuSans-97\"/>\r\n      <use x=\"590.238281\" xlink:href=\"#DejaVuSans-98\"/>\r\n      <use x=\"653.714844\" xlink:href=\"#DejaVuSans-101\"/>\r\n      <use x=\"715.238281\" xlink:href=\"#DejaVuSans-108\"/>\r\n     </g>\r\n    </g>\r\n   </g>\r\n   <g id=\"matplotlib.axis_2\">\r\n    <g id=\"ytick_1\">\r\n     <g id=\"line2d_3\">\r\n      <defs>\r\n       <path d=\"M 0 0 \r\nL -3.5 0 \r\n\" id=\"m7fc93d9dca\" style=\"stroke:#000000;stroke-width:0.8;\"/>\r\n      </defs>\r\n      <g>\r\n       <use style=\"stroke:#000000;stroke-width:0.8;\" x=\"37.55625\" xlink:href=\"#m7fc93d9dca\" y=\"90.268125\"/>\r\n      </g>\r\n     </g>\r\n     <g id=\"text_4\">\r\n      <!-- 0 -->\r\n      <g transform=\"translate(28.476563 92.831406)rotate(-90)scale(0.1 -0.1)\">\r\n       <use xlink:href=\"#DejaVuSans-48\"/>\r\n      </g>\r\n     </g>\r\n    </g>\r\n    <g id=\"ytick_2\">\r\n     <g id=\"line2d_4\">\r\n      <g>\r\n       <use style=\"stroke:#000000;stroke-width:0.8;\" x=\"37.55625\" xlink:href=\"#m7fc93d9dca\" y=\"226.168125\"/>\r\n      </g>\r\n     </g>\r\n     <g id=\"text_5\">\r\n      <!-- 1 -->\r\n      <g transform=\"translate(28.476563 228.731406)rotate(-90)scale(0.1 -0.1)\">\r\n       <use xlink:href=\"#DejaVuSans-49\"/>\r\n      </g>\r\n     </g>\r\n    </g>\r\n    <g id=\"text_6\">\r\n     <!-- Actual label -->\r\n     <defs>\r\n      <path d=\"M 34.1875 63.1875 \r\nL 20.796875 26.90625 \r\nL 47.609375 26.90625 \r\nz\r\nM 28.609375 72.90625 \r\nL 39.796875 72.90625 \r\nL 67.578125 0 \r\nL 57.328125 0 \r\nL 50.6875 18.703125 \r\nL 17.828125 18.703125 \r\nL 11.1875 0 \r\nL 0.78125 0 \r\nz\r\n\" id=\"DejaVuSans-65\"/>\r\n      <path d=\"M 8.5 21.578125 \r\nL 8.5 54.6875 \r\nL 17.484375 54.6875 \r\nL 17.484375 21.921875 \r\nQ 17.484375 14.15625 20.5 10.265625 \r\nQ 23.53125 6.390625 29.59375 6.390625 \r\nQ 36.859375 6.390625 41.078125 11.03125 \r\nQ 45.3125 15.671875 45.3125 23.6875 \r\nL 45.3125 54.6875 \r\nL 54.296875 54.6875 \r\nL 54.296875 0 \r\nL 45.3125 0 \r\nL 45.3125 8.40625 \r\nQ 42.046875 3.421875 37.71875 1 \r\nQ 33.40625 -1.421875 27.6875 -1.421875 \r\nQ 18.265625 -1.421875 13.375 4.4375 \r\nQ 8.5 10.296875 8.5 21.578125 \r\nz\r\nM 31.109375 56 \r\nz\r\n\" id=\"DejaVuSans-117\"/>\r\n     </defs>\r\n     <g transform=\"translate(14.798438 187.564219)rotate(-90)scale(0.1 -0.1)\">\r\n      <use xlink:href=\"#DejaVuSans-65\"/>\r\n      <use x=\"66.658203\" xlink:href=\"#DejaVuSans-99\"/>\r\n      <use x=\"121.638672\" xlink:href=\"#DejaVuSans-116\"/>\r\n      <use x=\"160.847656\" xlink:href=\"#DejaVuSans-117\"/>\r\n      <use x=\"224.226562\" xlink:href=\"#DejaVuSans-97\"/>\r\n      <use x=\"285.505859\" xlink:href=\"#DejaVuSans-108\"/>\r\n      <use x=\"313.289062\" xlink:href=\"#DejaVuSans-32\"/>\r\n      <use x=\"345.076172\" xlink:href=\"#DejaVuSans-108\"/>\r\n      <use x=\"372.859375\" xlink:href=\"#DejaVuSans-97\"/>\r\n      <use x=\"434.138672\" xlink:href=\"#DejaVuSans-98\"/>\r\n      <use x=\"497.615234\" xlink:href=\"#DejaVuSans-101\"/>\r\n      <use x=\"559.138672\" xlink:href=\"#DejaVuSans-108\"/>\r\n     </g>\r\n    </g>\r\n   </g>\r\n   <g id=\"text_7\">\r\n    <!-- 188885 -->\r\n    <defs>\r\n     <path d=\"M 31.78125 34.625 \r\nQ 24.75 34.625 20.71875 30.859375 \r\nQ 16.703125 27.09375 16.703125 20.515625 \r\nQ 16.703125 13.921875 20.71875 10.15625 \r\nQ 24.75 6.390625 31.78125 6.390625 \r\nQ 38.8125 6.390625 42.859375 10.171875 \r\nQ 46.921875 13.96875 46.921875 20.515625 \r\nQ 46.921875 27.09375 42.890625 30.859375 \r\nQ 38.875 34.625 31.78125 34.625 \r\nz\r\nM 21.921875 38.8125 \r\nQ 15.578125 40.375 12.03125 44.71875 \r\nQ 8.5 49.078125 8.5 55.328125 \r\nQ 8.5 64.0625 14.71875 69.140625 \r\nQ 20.953125 74.21875 31.78125 74.21875 \r\nQ 42.671875 74.21875 48.875 69.140625 \r\nQ 55.078125 64.0625 55.078125 55.328125 \r\nQ 55.078125 49.078125 51.53125 44.71875 \r\nQ 48 40.375 41.703125 38.8125 \r\nQ 48.828125 37.15625 52.796875 32.3125 \r\nQ 56.78125 27.484375 56.78125 20.515625 \r\nQ 56.78125 9.90625 50.3125 4.234375 \r\nQ 43.84375 -1.421875 31.78125 -1.421875 \r\nQ 19.734375 -1.421875 13.25 4.234375 \r\nQ 6.78125 9.90625 6.78125 20.515625 \r\nQ 6.78125 27.484375 10.78125 32.3125 \r\nQ 14.796875 37.15625 21.921875 38.8125 \r\nz\r\nM 18.3125 54.390625 \r\nQ 18.3125 48.734375 21.84375 45.5625 \r\nQ 25.390625 42.390625 31.78125 42.390625 \r\nQ 38.140625 42.390625 41.71875 45.5625 \r\nQ 45.3125 48.734375 45.3125 54.390625 \r\nQ 45.3125 60.0625 41.71875 63.234375 \r\nQ 38.140625 66.40625 31.78125 66.40625 \r\nQ 25.390625 66.40625 21.84375 63.234375 \r\nQ 18.3125 60.0625 18.3125 54.390625 \r\nz\r\n\" id=\"DejaVuSans-56\"/>\r\n     <path d=\"M 10.796875 72.90625 \r\nL 49.515625 72.90625 \r\nL 49.515625 64.59375 \r\nL 19.828125 64.59375 \r\nL 19.828125 46.734375 \r\nQ 21.96875 47.46875 24.109375 47.828125 \r\nQ 26.265625 48.1875 28.421875 48.1875 \r\nQ 40.625 48.1875 47.75 41.5 \r\nQ 54.890625 34.8125 54.890625 23.390625 \r\nQ 54.890625 11.625 47.5625 5.09375 \r\nQ 40.234375 -1.421875 26.90625 -1.421875 \r\nQ 22.3125 -1.421875 17.546875 -0.640625 \r\nQ 12.796875 0.140625 7.71875 1.703125 \r\nL 7.71875 11.625 \r\nQ 12.109375 9.234375 16.796875 8.0625 \r\nQ 21.484375 6.890625 26.703125 6.890625 \r\nQ 35.15625 6.890625 40.078125 11.328125 \r\nQ 45.015625 15.765625 45.015625 23.390625 \r\nQ 45.015625 31 40.078125 35.4375 \r\nQ 35.15625 39.890625 26.703125 39.890625 \r\nQ 22.75 39.890625 18.8125 39.015625 \r\nQ 14.890625 38.140625 10.796875 36.28125 \r\nz\r\n\" id=\"DejaVuSans-53\"/>\r\n    </defs>\r\n    <g style=\"fill:#262626;\" transform=\"translate(74.26875 93.0275)scale(0.1 -0.1)\">\r\n     <use xlink:href=\"#DejaVuSans-49\"/>\r\n     <use x=\"63.623047\" xlink:href=\"#DejaVuSans-56\"/>\r\n     <use x=\"127.246094\" xlink:href=\"#DejaVuSans-56\"/>\r\n     <use x=\"190.869141\" xlink:href=\"#DejaVuSans-56\"/>\r\n     <use x=\"254.492188\" xlink:href=\"#DejaVuSans-56\"/>\r\n     <use x=\"318.115234\" xlink:href=\"#DejaVuSans-53\"/>\r\n    </g>\r\n   </g>\r\n   <g id=\"text_8\">\r\n    <!-- 70 -->\r\n    <defs>\r\n     <path d=\"M 8.203125 72.90625 \r\nL 55.078125 72.90625 \r\nL 55.078125 68.703125 \r\nL 28.609375 0 \r\nL 18.3125 0 \r\nL 43.21875 64.59375 \r\nL 8.203125 64.59375 \r\nz\r\n\" id=\"DejaVuSans-55\"/>\r\n    </defs>\r\n    <g style=\"fill:#ffffff;\" transform=\"translate(198.59375 93.0275)scale(0.1 -0.1)\">\r\n     <use xlink:href=\"#DejaVuSans-55\"/>\r\n     <use x=\"63.623047\" xlink:href=\"#DejaVuSans-48\"/>\r\n    </g>\r\n   </g>\r\n   <g id=\"text_9\">\r\n    <!-- 953 -->\r\n    <defs>\r\n     <path d=\"M 10.984375 1.515625 \r\nL 10.984375 10.5 \r\nQ 14.703125 8.734375 18.5 7.8125 \r\nQ 22.3125 6.890625 25.984375 6.890625 \r\nQ 35.75 6.890625 40.890625 13.453125 \r\nQ 46.046875 20.015625 46.78125 33.40625 \r\nQ 43.953125 29.203125 39.59375 26.953125 \r\nQ 35.25 24.703125 29.984375 24.703125 \r\nQ 19.046875 24.703125 12.671875 31.3125 \r\nQ 6.296875 37.9375 6.296875 49.421875 \r\nQ 6.296875 60.640625 12.9375 67.421875 \r\nQ 19.578125 74.21875 30.609375 74.21875 \r\nQ 43.265625 74.21875 49.921875 64.515625 \r\nQ 56.59375 54.828125 56.59375 36.375 \r\nQ 56.59375 19.140625 48.40625 8.859375 \r\nQ 40.234375 -1.421875 26.421875 -1.421875 \r\nQ 22.703125 -1.421875 18.890625 -0.6875 \r\nQ 15.09375 0.046875 10.984375 1.515625 \r\nz\r\nM 30.609375 32.421875 \r\nQ 37.25 32.421875 41.125 36.953125 \r\nQ 45.015625 41.5 45.015625 49.421875 \r\nQ 45.015625 57.28125 41.125 61.84375 \r\nQ 37.25 66.40625 30.609375 66.40625 \r\nQ 23.96875 66.40625 20.09375 61.84375 \r\nQ 16.21875 57.28125 16.21875 49.421875 \r\nQ 16.21875 41.5 20.09375 36.953125 \r\nQ 23.96875 32.421875 30.609375 32.421875 \r\nz\r\n\" id=\"DejaVuSans-57\"/>\r\n     <path d=\"M 40.578125 39.3125 \r\nQ 47.65625 37.796875 51.625 33 \r\nQ 55.609375 28.21875 55.609375 21.1875 \r\nQ 55.609375 10.40625 48.1875 4.484375 \r\nQ 40.765625 -1.421875 27.09375 -1.421875 \r\nQ 22.515625 -1.421875 17.65625 -0.515625 \r\nQ 12.796875 0.390625 7.625 2.203125 \r\nL 7.625 11.71875 \r\nQ 11.71875 9.328125 16.59375 8.109375 \r\nQ 21.484375 6.890625 26.8125 6.890625 \r\nQ 36.078125 6.890625 40.9375 10.546875 \r\nQ 45.796875 14.203125 45.796875 21.1875 \r\nQ 45.796875 27.640625 41.28125 31.265625 \r\nQ 36.765625 34.90625 28.71875 34.90625 \r\nL 20.21875 34.90625 \r\nL 20.21875 43.015625 \r\nL 29.109375 43.015625 \r\nQ 36.375 43.015625 40.234375 45.921875 \r\nQ 44.09375 48.828125 44.09375 54.296875 \r\nQ 44.09375 59.90625 40.109375 62.90625 \r\nQ 36.140625 65.921875 28.71875 65.921875 \r\nQ 24.65625 65.921875 20.015625 65.03125 \r\nQ 15.375 64.15625 9.8125 62.3125 \r\nL 9.8125 71.09375 \r\nQ 15.4375 72.65625 20.34375 73.4375 \r\nQ 25.25 74.21875 29.59375 74.21875 \r\nQ 40.828125 74.21875 47.359375 69.109375 \r\nQ 53.90625 64.015625 53.90625 55.328125 \r\nQ 53.90625 49.265625 50.4375 45.09375 \r\nQ 46.96875 40.921875 40.578125 39.3125 \r\nz\r\n\" id=\"DejaVuSans-51\"/>\r\n    </defs>\r\n    <g style=\"fill:#ffffff;\" transform=\"translate(83.8125 228.9275)scale(0.1 -0.1)\">\r\n     <use xlink:href=\"#DejaVuSans-57\"/>\r\n     <use x=\"63.623047\" xlink:href=\"#DejaVuSans-53\"/>\r\n     <use x=\"127.246094\" xlink:href=\"#DejaVuSans-51\"/>\r\n    </g>\r\n   </g>\r\n   <g id=\"text_10\">\r\n    <!-- 1003 -->\r\n    <g style=\"fill:#ffffff;\" transform=\"translate(192.23125 228.9275)scale(0.1 -0.1)\">\r\n     <use xlink:href=\"#DejaVuSans-49\"/>\r\n     <use x=\"63.623047\" xlink:href=\"#DejaVuSans-48\"/>\r\n     <use x=\"127.246094\" xlink:href=\"#DejaVuSans-48\"/>\r\n     <use x=\"190.869141\" xlink:href=\"#DejaVuSans-51\"/>\r\n    </g>\r\n   </g>\r\n   <g id=\"text_11\">\r\n    <!-- Confusion matrix @0.50 -->\r\n    <defs>\r\n     <path d=\"M 64.40625 67.28125 \r\nL 64.40625 56.890625 \r\nQ 59.421875 61.53125 53.78125 63.8125 \r\nQ 48.140625 66.109375 41.796875 66.109375 \r\nQ 29.296875 66.109375 22.65625 58.46875 \r\nQ 16.015625 50.828125 16.015625 36.375 \r\nQ 16.015625 21.96875 22.65625 14.328125 \r\nQ 29.296875 6.6875 41.796875 6.6875 \r\nQ 48.140625 6.6875 53.78125 8.984375 \r\nQ 59.421875 11.28125 64.40625 15.921875 \r\nL 64.40625 5.609375 \r\nQ 59.234375 2.09375 53.4375 0.328125 \r\nQ 47.65625 -1.421875 41.21875 -1.421875 \r\nQ 24.65625 -1.421875 15.125 8.703125 \r\nQ 5.609375 18.84375 5.609375 36.375 \r\nQ 5.609375 53.953125 15.125 64.078125 \r\nQ 24.65625 74.21875 41.21875 74.21875 \r\nQ 47.75 74.21875 53.53125 72.484375 \r\nQ 59.328125 70.75 64.40625 67.28125 \r\nz\r\n\" id=\"DejaVuSans-67\"/>\r\n     <path d=\"M 30.609375 48.390625 \r\nQ 23.390625 48.390625 19.1875 42.75 \r\nQ 14.984375 37.109375 14.984375 27.296875 \r\nQ 14.984375 17.484375 19.15625 11.84375 \r\nQ 23.34375 6.203125 30.609375 6.203125 \r\nQ 37.796875 6.203125 41.984375 11.859375 \r\nQ 46.1875 17.53125 46.1875 27.296875 \r\nQ 46.1875 37.015625 41.984375 42.703125 \r\nQ 37.796875 48.390625 30.609375 48.390625 \r\nz\r\nM 30.609375 56 \r\nQ 42.328125 56 49.015625 48.375 \r\nQ 55.71875 40.765625 55.71875 27.296875 \r\nQ 55.71875 13.875 49.015625 6.21875 \r\nQ 42.328125 -1.421875 30.609375 -1.421875 \r\nQ 18.84375 -1.421875 12.171875 6.21875 \r\nQ 5.515625 13.875 5.515625 27.296875 \r\nQ 5.515625 40.765625 12.171875 48.375 \r\nQ 18.84375 56 30.609375 56 \r\nz\r\n\" id=\"DejaVuSans-111\"/>\r\n     <path d=\"M 54.890625 33.015625 \r\nL 54.890625 0 \r\nL 45.90625 0 \r\nL 45.90625 32.71875 \r\nQ 45.90625 40.484375 42.875 44.328125 \r\nQ 39.84375 48.1875 33.796875 48.1875 \r\nQ 26.515625 48.1875 22.3125 43.546875 \r\nQ 18.109375 38.921875 18.109375 30.90625 \r\nL 18.109375 0 \r\nL 9.078125 0 \r\nL 9.078125 54.6875 \r\nL 18.109375 54.6875 \r\nL 18.109375 46.1875 \r\nQ 21.34375 51.125 25.703125 53.5625 \r\nQ 30.078125 56 35.796875 56 \r\nQ 45.21875 56 50.046875 50.171875 \r\nQ 54.890625 44.34375 54.890625 33.015625 \r\nz\r\n\" id=\"DejaVuSans-110\"/>\r\n     <path d=\"M 37.109375 75.984375 \r\nL 37.109375 68.5 \r\nL 28.515625 68.5 \r\nQ 23.6875 68.5 21.796875 66.546875 \r\nQ 19.921875 64.59375 19.921875 59.515625 \r\nL 19.921875 54.6875 \r\nL 34.71875 54.6875 \r\nL 34.71875 47.703125 \r\nL 19.921875 47.703125 \r\nL 19.921875 0 \r\nL 10.890625 0 \r\nL 10.890625 47.703125 \r\nL 2.296875 47.703125 \r\nL 2.296875 54.6875 \r\nL 10.890625 54.6875 \r\nL 10.890625 58.5 \r\nQ 10.890625 67.625 15.140625 71.796875 \r\nQ 19.390625 75.984375 28.609375 75.984375 \r\nz\r\n\" id=\"DejaVuSans-102\"/>\r\n     <path d=\"M 44.28125 53.078125 \r\nL 44.28125 44.578125 \r\nQ 40.484375 46.53125 36.375 47.5 \r\nQ 32.28125 48.484375 27.875 48.484375 \r\nQ 21.1875 48.484375 17.84375 46.4375 \r\nQ 14.5 44.390625 14.5 40.28125 \r\nQ 14.5 37.15625 16.890625 35.375 \r\nQ 19.28125 33.59375 26.515625 31.984375 \r\nL 29.59375 31.296875 \r\nQ 39.15625 29.25 43.1875 25.515625 \r\nQ 47.21875 21.78125 47.21875 15.09375 \r\nQ 47.21875 7.46875 41.1875 3.015625 \r\nQ 35.15625 -1.421875 24.609375 -1.421875 \r\nQ 20.21875 -1.421875 15.453125 -0.5625 \r\nQ 10.6875 0.296875 5.421875 2 \r\nL 5.421875 11.28125 \r\nQ 10.40625 8.6875 15.234375 7.390625 \r\nQ 20.0625 6.109375 24.8125 6.109375 \r\nQ 31.15625 6.109375 34.5625 8.28125 \r\nQ 37.984375 10.453125 37.984375 14.40625 \r\nQ 37.984375 18.0625 35.515625 20.015625 \r\nQ 33.0625 21.96875 24.703125 23.78125 \r\nL 21.578125 24.515625 \r\nQ 13.234375 26.265625 9.515625 29.90625 \r\nQ 5.8125 33.546875 5.8125 39.890625 \r\nQ 5.8125 47.609375 11.28125 51.796875 \r\nQ 16.75 56 26.8125 56 \r\nQ 31.78125 56 36.171875 55.265625 \r\nQ 40.578125 54.546875 44.28125 53.078125 \r\nz\r\n\" id=\"DejaVuSans-115\"/>\r\n     <path d=\"M 52 44.1875 \r\nQ 55.375 50.25 60.0625 53.125 \r\nQ 64.75 56 71.09375 56 \r\nQ 79.640625 56 84.28125 50.015625 \r\nQ 88.921875 44.046875 88.921875 33.015625 \r\nL 88.921875 0 \r\nL 79.890625 0 \r\nL 79.890625 32.71875 \r\nQ 79.890625 40.578125 77.09375 44.375 \r\nQ 74.3125 48.1875 68.609375 48.1875 \r\nQ 61.625 48.1875 57.5625 43.546875 \r\nQ 53.515625 38.921875 53.515625 30.90625 \r\nL 53.515625 0 \r\nL 44.484375 0 \r\nL 44.484375 32.71875 \r\nQ 44.484375 40.625 41.703125 44.40625 \r\nQ 38.921875 48.1875 33.109375 48.1875 \r\nQ 26.21875 48.1875 22.15625 43.53125 \r\nQ 18.109375 38.875 18.109375 30.90625 \r\nL 18.109375 0 \r\nL 9.078125 0 \r\nL 9.078125 54.6875 \r\nL 18.109375 54.6875 \r\nL 18.109375 46.1875 \r\nQ 21.1875 51.21875 25.484375 53.609375 \r\nQ 29.78125 56 35.6875 56 \r\nQ 41.65625 56 45.828125 52.96875 \r\nQ 50 49.953125 52 44.1875 \r\nz\r\n\" id=\"DejaVuSans-109\"/>\r\n     <path d=\"M 54.890625 54.6875 \r\nL 35.109375 28.078125 \r\nL 55.90625 0 \r\nL 45.3125 0 \r\nL 29.390625 21.484375 \r\nL 13.484375 0 \r\nL 2.875 0 \r\nL 24.125 28.609375 \r\nL 4.6875 54.6875 \r\nL 15.28125 54.6875 \r\nL 29.78125 35.203125 \r\nL 44.28125 54.6875 \r\nz\r\n\" id=\"DejaVuSans-120\"/>\r\n     <path d=\"M 37.203125 26.21875 \r\nQ 37.203125 19.234375 40.671875 15.25 \r\nQ 44.140625 11.28125 50.203125 11.28125 \r\nQ 56.203125 11.28125 59.640625 15.28125 \r\nQ 63.09375 19.28125 63.09375 26.21875 \r\nQ 63.09375 33.0625 59.578125 37.078125 \r\nQ 56.0625 41.109375 50.09375 41.109375 \r\nQ 44.1875 41.109375 40.6875 37.109375 \r\nQ 37.203125 33.109375 37.203125 26.21875 \r\nz\r\nM 63.8125 11.625 \r\nQ 60.890625 7.859375 57.109375 6.078125 \r\nQ 53.328125 4.296875 48.296875 4.296875 \r\nQ 39.890625 4.296875 34.640625 10.375 \r\nQ 29.390625 16.453125 29.390625 26.21875 \r\nQ 29.390625 35.984375 34.65625 42.078125 \r\nQ 39.9375 48.1875 48.296875 48.1875 \r\nQ 53.328125 48.1875 57.125 46.359375 \r\nQ 60.9375 44.53125 63.8125 40.828125 \r\nL 63.8125 47.21875 \r\nL 70.796875 47.21875 \r\nL 70.796875 11.28125 \r\nQ 77.9375 12.359375 81.953125 17.796875 \r\nQ 85.984375 23.25 85.984375 31.890625 \r\nQ 85.984375 37.109375 84.4375 41.703125 \r\nQ 82.90625 46.296875 79.78125 50.203125 \r\nQ 74.703125 56.59375 67.40625 59.984375 \r\nQ 60.109375 63.375 51.515625 63.375 \r\nQ 45.515625 63.375 39.984375 61.78125 \r\nQ 34.46875 60.203125 29.78125 57.078125 \r\nQ 22.125 52.09375 17.796875 44.015625 \r\nQ 13.484375 35.9375 13.484375 26.515625 \r\nQ 13.484375 18.75 16.28125 11.953125 \r\nQ 19.09375 5.171875 24.421875 0 \r\nQ 29.546875 -5.078125 36.28125 -7.734375 \r\nQ 43.015625 -10.40625 50.6875 -10.40625 \r\nQ 56.984375 -10.40625 63.0625 -8.28125 \r\nQ 69.140625 -6.15625 74.21875 -2.203125 \r\nL 78.609375 -7.625 \r\nQ 72.515625 -12.359375 65.3125 -14.875 \r\nQ 58.109375 -17.390625 50.6875 -17.390625 \r\nQ 41.65625 -17.390625 33.640625 -14.1875 \r\nQ 25.640625 -10.984375 19.390625 -4.890625 \r\nQ 13.140625 1.21875 9.859375 9.25 \r\nQ 6.59375 17.28125 6.59375 26.515625 \r\nQ 6.59375 35.40625 9.90625 43.453125 \r\nQ 13.234375 51.515625 19.390625 57.625 \r\nQ 25.6875 63.8125 33.9375 67.109375 \r\nQ 42.1875 70.40625 51.421875 70.40625 \r\nQ 61.765625 70.40625 70.625 66.15625 \r\nQ 79.5 61.921875 85.5 54.109375 \r\nQ 89.15625 49.3125 91.078125 43.703125 \r\nQ 93.015625 38.09375 93.015625 32.078125 \r\nQ 93.015625 19.234375 85.25 11.8125 \r\nQ 77.484375 4.390625 63.8125 4.109375 \r\nz\r\n\" id=\"DejaVuSans-64\"/>\r\n     <path d=\"M 10.6875 12.40625 \r\nL 21 12.40625 \r\nL 21 0 \r\nL 10.6875 0 \r\nz\r\n\" id=\"DejaVuSans-46\"/>\r\n    </defs>\r\n    <g transform=\"translate(76.580625 16.318125)scale(0.12 -0.12)\">\r\n     <use xlink:href=\"#DejaVuSans-67\"/>\r\n     <use x=\"69.824219\" xlink:href=\"#DejaVuSans-111\"/>\r\n     <use x=\"131.005859\" xlink:href=\"#DejaVuSans-110\"/>\r\n     <use x=\"194.384766\" xlink:href=\"#DejaVuSans-102\"/>\r\n     <use x=\"229.589844\" xlink:href=\"#DejaVuSans-117\"/>\r\n     <use x=\"292.96875\" xlink:href=\"#DejaVuSans-115\"/>\r\n     <use x=\"345.068359\" xlink:href=\"#DejaVuSans-105\"/>\r\n     <use x=\"372.851562\" xlink:href=\"#DejaVuSans-111\"/>\r\n     <use x=\"434.033203\" xlink:href=\"#DejaVuSans-110\"/>\r\n     <use x=\"497.412109\" xlink:href=\"#DejaVuSans-32\"/>\r\n     <use x=\"529.199219\" xlink:href=\"#DejaVuSans-109\"/>\r\n     <use x=\"626.611328\" xlink:href=\"#DejaVuSans-97\"/>\r\n     <use x=\"687.890625\" xlink:href=\"#DejaVuSans-116\"/>\r\n     <use x=\"727.099609\" xlink:href=\"#DejaVuSans-114\"/>\r\n     <use x=\"768.212891\" xlink:href=\"#DejaVuSans-105\"/>\r\n     <use x=\"795.996094\" xlink:href=\"#DejaVuSans-120\"/>\r\n     <use x=\"855.175781\" xlink:href=\"#DejaVuSans-32\"/>\r\n     <use x=\"886.962891\" xlink:href=\"#DejaVuSans-64\"/>\r\n     <use x=\"986.962891\" xlink:href=\"#DejaVuSans-48\"/>\r\n     <use x=\"1050.585938\" xlink:href=\"#DejaVuSans-46\"/>\r\n     <use x=\"1082.373047\" xlink:href=\"#DejaVuSans-53\"/>\r\n     <use x=\"1145.996094\" xlink:href=\"#DejaVuSans-48\"/>\r\n    </g>\r\n   </g>\r\n  </g>\r\n  <g id=\"axes_2\">\r\n   <g id=\"patch_3\">\r\n    <path clip-path=\"url(#p7cb4591b6d)\" d=\"M 274.70625 294.118125 \r\nL 274.70625 293.056406 \r\nL 274.70625 23.379844 \r\nL 274.70625 22.318125 \r\nL 288.29625 22.318125 \r\nL 288.29625 23.379844 \r\nL 288.29625 293.056406 \r\nL 288.29625 294.118125 \r\nz\r\n\" style=\"fill:#ffffff;stroke:#ffffff;stroke-linejoin:miter;stroke-width:0.01;\"/>\r\n   </g>\r\n   <image height=\"271\" id=\"image0bbc2d0b39\" transform=\"scale(1 -1)translate(0 -271)\" width=\"13\" x=\"275\" xlink:href=\"data:image/png;base64,\r\niVBORw0KGgoAAAANSUhEUgAAAA0AAAEPCAYAAACZVE7DAAAABHNCSVQICAgIfAhkiAAAAWdJREFUaIHtm8ENwzAMA6U0XaL779l+soCuwIEQ7D9BiSKdOHX7fn++NVx3d08xFFQW02WVd40RhctDQoRLnt0TMuxGISDTPB3xIfQccZgepnSXHyGqcAhRT4jpzOlhYj3N18qezOHOFwuh53JmIy+EYwjdWEwhopnEOVk9qSFETABkxh2AVpY3/pYj94RAXtznC77DkjmZkhPQwp5ay9NKya3y6EFyXl/8DvslPREmaCNL8kZMcyKsnjcnxDQH0U+qACSqB54A90VA8CBJmLye0HBPeQ8T2PjgQRIJAcpT1RtjYHlQiDGGMqWXR5g8R3ghJOWVKIQFIvotZQJfPsKZijBp5bHkmj1ZIPT7k1deXeCiSPqcyOUX0RGW5DCEonoak9aTNtz4ObF9D/WULDl9EpL7e6KNNJBnoyPEPyBPvewQxtvoMHGm7pfEFC6EGUIiebQQpo2yhQgfLvoXxUL1zHfYfZL/ADHDLdv3EpXIAAAAAElFTkSuQmCC\" y=\"-22\"/>\r\n   <g id=\"matplotlib.axis_3\"/>\r\n   <g id=\"matplotlib.axis_4\">\r\n    <g id=\"ytick_3\">\r\n     <g id=\"line2d_5\">\r\n      <defs>\r\n       <path d=\"M 0 0 \r\nL 3.5 0 \r\n\" id=\"mb446132593\" style=\"stroke:#000000;stroke-width:0.8;\"/>\r\n      </defs>\r\n      <g>\r\n       <use style=\"stroke:#000000;stroke-width:0.8;\" x=\"288.29625\" xlink:href=\"#mb446132593\" y=\"258.231283\"/>\r\n      </g>\r\n     </g>\r\n     <g id=\"text_12\">\r\n      <!-- 25000 -->\r\n      <defs>\r\n       <path d=\"M 19.1875 8.296875 \r\nL 53.609375 8.296875 \r\nL 53.609375 0 \r\nL 7.328125 0 \r\nL 7.328125 8.296875 \r\nQ 12.9375 14.109375 22.625 23.890625 \r\nQ 32.328125 33.6875 34.8125 36.53125 \r\nQ 39.546875 41.84375 41.421875 45.53125 \r\nQ 43.3125 49.21875 43.3125 52.78125 \r\nQ 43.3125 58.59375 39.234375 62.25 \r\nQ 35.15625 65.921875 28.609375 65.921875 \r\nQ 23.96875 65.921875 18.8125 64.3125 \r\nQ 13.671875 62.703125 7.8125 59.421875 \r\nL 7.8125 69.390625 \r\nQ 13.765625 71.78125 18.9375 73 \r\nQ 24.125 74.21875 28.421875 74.21875 \r\nQ 39.75 74.21875 46.484375 68.546875 \r\nQ 53.21875 62.890625 53.21875 53.421875 \r\nQ 53.21875 48.921875 51.53125 44.890625 \r\nQ 49.859375 40.875 45.40625 35.40625 \r\nQ 44.1875 33.984375 37.640625 27.21875 \r\nQ 31.109375 20.453125 19.1875 8.296875 \r\nz\r\n\" id=\"DejaVuSans-50\"/>\r\n      </defs>\r\n      <g transform=\"translate(295.29625 262.030502)scale(0.1 -0.1)\">\r\n       <use xlink:href=\"#DejaVuSans-50\"/>\r\n       <use x=\"63.623047\" xlink:href=\"#DejaVuSans-53\"/>\r\n       <use x=\"127.246094\" xlink:href=\"#DejaVuSans-48\"/>\r\n       <use x=\"190.869141\" xlink:href=\"#DejaVuSans-48\"/>\r\n       <use x=\"254.492188\" xlink:href=\"#DejaVuSans-48\"/>\r\n      </g>\r\n     </g>\r\n    </g>\r\n    <g id=\"ytick_4\">\r\n     <g id=\"line2d_6\">\r\n      <g>\r\n       <use style=\"stroke:#000000;stroke-width:0.8;\" x=\"288.29625\" xlink:href=\"#mb446132593\" y=\"222.243676\"/>\r\n      </g>\r\n     </g>\r\n     <g id=\"text_13\">\r\n      <!-- 50000 -->\r\n      <g transform=\"translate(295.29625 226.042895)scale(0.1 -0.1)\">\r\n       <use xlink:href=\"#DejaVuSans-53\"/>\r\n       <use x=\"63.623047\" xlink:href=\"#DejaVuSans-48\"/>\r\n       <use x=\"127.246094\" xlink:href=\"#DejaVuSans-48\"/>\r\n       <use x=\"190.869141\" xlink:href=\"#DejaVuSans-48\"/>\r\n       <use x=\"254.492188\" xlink:href=\"#DejaVuSans-48\"/>\r\n      </g>\r\n     </g>\r\n    </g>\r\n    <g id=\"ytick_5\">\r\n     <g id=\"line2d_7\">\r\n      <g>\r\n       <use style=\"stroke:#000000;stroke-width:0.8;\" x=\"288.29625\" xlink:href=\"#mb446132593\" y=\"186.25607\"/>\r\n      </g>\r\n     </g>\r\n     <g id=\"text_14\">\r\n      <!-- 75000 -->\r\n      <g transform=\"translate(295.29625 190.055288)scale(0.1 -0.1)\">\r\n       <use xlink:href=\"#DejaVuSans-55\"/>\r\n       <use x=\"63.623047\" xlink:href=\"#DejaVuSans-53\"/>\r\n       <use x=\"127.246094\" xlink:href=\"#DejaVuSans-48\"/>\r\n       <use x=\"190.869141\" xlink:href=\"#DejaVuSans-48\"/>\r\n       <use x=\"254.492188\" xlink:href=\"#DejaVuSans-48\"/>\r\n      </g>\r\n     </g>\r\n    </g>\r\n    <g id=\"ytick_6\">\r\n     <g id=\"line2d_8\">\r\n      <g>\r\n       <use style=\"stroke:#000000;stroke-width:0.8;\" x=\"288.29625\" xlink:href=\"#mb446132593\" y=\"150.268463\"/>\r\n      </g>\r\n     </g>\r\n     <g id=\"text_15\">\r\n      <!-- 100000 -->\r\n      <g transform=\"translate(295.29625 154.067681)scale(0.1 -0.1)\">\r\n       <use xlink:href=\"#DejaVuSans-49\"/>\r\n       <use x=\"63.623047\" xlink:href=\"#DejaVuSans-48\"/>\r\n       <use x=\"127.246094\" xlink:href=\"#DejaVuSans-48\"/>\r\n       <use x=\"190.869141\" xlink:href=\"#DejaVuSans-48\"/>\r\n       <use x=\"254.492188\" xlink:href=\"#DejaVuSans-48\"/>\r\n       <use x=\"318.115234\" xlink:href=\"#DejaVuSans-48\"/>\r\n      </g>\r\n     </g>\r\n    </g>\r\n    <g id=\"ytick_7\">\r\n     <g id=\"line2d_9\">\r\n      <g>\r\n       <use style=\"stroke:#000000;stroke-width:0.8;\" x=\"288.29625\" xlink:href=\"#mb446132593\" y=\"114.280856\"/>\r\n      </g>\r\n     </g>\r\n     <g id=\"text_16\">\r\n      <!-- 125000 -->\r\n      <g transform=\"translate(295.29625 118.080074)scale(0.1 -0.1)\">\r\n       <use xlink:href=\"#DejaVuSans-49\"/>\r\n       <use x=\"63.623047\" xlink:href=\"#DejaVuSans-50\"/>\r\n       <use x=\"127.246094\" xlink:href=\"#DejaVuSans-53\"/>\r\n       <use x=\"190.869141\" xlink:href=\"#DejaVuSans-48\"/>\r\n       <use x=\"254.492188\" xlink:href=\"#DejaVuSans-48\"/>\r\n       <use x=\"318.115234\" xlink:href=\"#DejaVuSans-48\"/>\r\n      </g>\r\n     </g>\r\n    </g>\r\n    <g id=\"ytick_8\">\r\n     <g id=\"line2d_10\">\r\n      <g>\r\n       <use style=\"stroke:#000000;stroke-width:0.8;\" x=\"288.29625\" xlink:href=\"#mb446132593\" y=\"78.293249\"/>\r\n      </g>\r\n     </g>\r\n     <g id=\"text_17\">\r\n      <!-- 150000 -->\r\n      <g transform=\"translate(295.29625 82.092468)scale(0.1 -0.1)\">\r\n       <use xlink:href=\"#DejaVuSans-49\"/>\r\n       <use x=\"63.623047\" xlink:href=\"#DejaVuSans-53\"/>\r\n       <use x=\"127.246094\" xlink:href=\"#DejaVuSans-48\"/>\r\n       <use x=\"190.869141\" xlink:href=\"#DejaVuSans-48\"/>\r\n       <use x=\"254.492188\" xlink:href=\"#DejaVuSans-48\"/>\r\n       <use x=\"318.115234\" xlink:href=\"#DejaVuSans-48\"/>\r\n      </g>\r\n     </g>\r\n    </g>\r\n    <g id=\"ytick_9\">\r\n     <g id=\"line2d_11\">\r\n      <g>\r\n       <use style=\"stroke:#000000;stroke-width:0.8;\" x=\"288.29625\" xlink:href=\"#mb446132593\" y=\"42.305642\"/>\r\n      </g>\r\n     </g>\r\n     <g id=\"text_18\">\r\n      <!-- 175000 -->\r\n      <g transform=\"translate(295.29625 46.104861)scale(0.1 -0.1)\">\r\n       <use xlink:href=\"#DejaVuSans-49\"/>\r\n       <use x=\"63.623047\" xlink:href=\"#DejaVuSans-55\"/>\r\n       <use x=\"127.246094\" xlink:href=\"#DejaVuSans-53\"/>\r\n       <use x=\"190.869141\" xlink:href=\"#DejaVuSans-48\"/>\r\n       <use x=\"254.492188\" xlink:href=\"#DejaVuSans-48\"/>\r\n       <use x=\"318.115234\" xlink:href=\"#DejaVuSans-48\"/>\r\n      </g>\r\n     </g>\r\n    </g>\r\n   </g>\r\n   <g id=\"patch_4\">\r\n    <path d=\"M 274.70625 294.118125 \r\nL 274.70625 293.056406 \r\nL 274.70625 23.379844 \r\nL 274.70625 22.318125 \r\nL 288.29625 22.318125 \r\nL 288.29625 23.379844 \r\nL 288.29625 293.056406 \r\nL 288.29625 294.118125 \r\nz\r\n\" style=\"fill:none;\"/>\r\n   </g>\r\n  </g>\r\n </g>\r\n <defs>\r\n  <clipPath id=\"p58c71f0a32\">\r\n   <rect height=\"271.8\" width=\"223.2\" x=\"37.55625\" y=\"22.318125\"/>\r\n  </clipPath>\r\n  <clipPath id=\"p7cb4591b6d\">\r\n   <rect height=\"271.8\" width=\"13.59\" x=\"274.70625\" y=\"22.318125\"/>\r\n  </clipPath>\r\n </defs>\r\n</svg>\r\n",
      "image/png": "[encoded data removed]"
     },
     "metadata": {
      "needs_background": "light"
     }
    }
   ],
   "source": [
    "plot_cm(y_train_ori[: len(y_train_predicted_mean)], y_train_predicted_mean, p=0.5)"
   ]
  },
  {
   "cell_type": "code",
   "execution_count": null,
   "metadata": {},
   "outputs": [],
   "source": []
  }
 ]
}