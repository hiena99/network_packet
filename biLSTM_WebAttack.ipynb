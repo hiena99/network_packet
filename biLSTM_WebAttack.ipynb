{
 "metadata": {
  "language_info": {
   "codemirror_mode": {
    "name": "ipython",
    "version": 3
   },
   "file_extension": ".py",
   "mimetype": "text/x-python",
   "name": "python",
   "nbconvert_exporter": "python",
   "pygments_lexer": "ipython3",
   "version": "3.7.7-final"
  },
  "orig_nbformat": 2,
  "kernelspec": {
   "name": "python3",
   "display_name": "Python 3"
  }
 },
 "nbformat": 4,
 "nbformat_minor": 2,
 "cells": [
  {
   "cell_type": "code",
   "execution_count": 1,
   "metadata": {},
   "outputs": [],
   "source": [
    "import numpy as np\n",
    "import pandas as pd\n",
    "import matplotlib\n",
    "import seaborn as sns\n",
    "import sklearn\n",
    "import imblearn\n",
    "import matplotlib.pyplot as plt\n",
    "import time\n",
    "import sklearn.metrics as m\n",
    "import warnings\n",
    "import os\n",
    "os.environ[\"CUDA_VISIBLE_DEVICES\"] = \"0,1\"\n",
    "warnings.filterwarnings('ignore')\n",
    "\n",
    "from mpl_toolkits.mplot3d import Axes3D\n",
    "from sklearn.preprocessing import StandardScaler, LabelEncoder\n",
    "import matplotlib.pyplot as plt # plotting\n",
    "import numpy as np # linear algebra\n",
    "import os # accessing directory structure\n",
    "import pandas as pd # data processing, CSV file I/O (e.g. pd.read_csv)\n",
    "import time\n",
    "from sklearn.naive_bayes import BernoulliNB \n",
    "from sklearn import tree\n",
    "from sklearn.model_selection import cross_val_score\n",
    "from sklearn.neighbors import KNeighborsClassifier\n",
    "from sklearn.linear_model import LogisticRegression\n",
    "\n",
    "from sklearn import metrics"
   ]
  },
  {
   "cell_type": "code",
   "execution_count": 2,
   "metadata": {},
   "outputs": [],
   "source": [
    "df1=pd.read_csv(\"./archive/Friday-WorkingHours-Afternoon-DDos.csv\")\n",
    "df2=pd.read_csv(\"./archive/Friday-WorkingHours-Afternoon-PortScan.csv\")\n",
    "df3=pd.read_csv(\"./archive/Friday-WorkingHours-Morning.csv\")\n",
    "df4=pd.read_csv(\"./archive/Monday-WorkingHours.csv\")\n",
    "df5=pd.read_csv(\"./archive/Thursday-WorkingHours-Afternoon-Infilteration.csv\")\n",
    "df6=pd.read_csv(\"./archive/Thursday-WorkingHours-Morning-WebAttacks.csv\")\n",
    "df7=pd.read_csv(\"./archive/Tuesday-WorkingHours.csv\")\n",
    "df8=pd.read_csv(\"./archive/Wednesday-workingHours.csv\")"
   ]
  },
  {
   "cell_type": "code",
   "execution_count": 3,
   "metadata": {},
   "outputs": [
    {
     "output_type": "stream",
     "name": "stdout",
     "text": [
      "DDoS      128027\nBENIGN     97718\nName:  Label, dtype: int64\n\nPortScan    158930\nBENIGN      127537\nName:  Label, dtype: int64\n\nBENIGN    189067\nBot         1966\nName:  Label, dtype: int64\n\nBENIGN    529918\nName:  Label, dtype: int64\n\nBENIGN          288566\nInfiltration        36\nName:  Label, dtype: int64\n\nBENIGN                        168186\nWeb Attack � Brute Force        1507\nWeb Attack � XSS                 652\nWeb Attack � Sql Injection        21\nName:  Label, dtype: int64\n\nBENIGN         432074\nFTP-Patator      7938\nSSH-Patator      5897\nName:  Label, dtype: int64\n\nBENIGN              440031\nDoS Hulk            231073\nDoS GoldenEye        10293\nDoS slowloris         5796\nDoS Slowhttptest      5499\nHeartbleed              11\nName:  Label, dtype: int64\n"
     ]
    }
   ],
   "source": [
    "print(df1[' Label'].value_counts())\n",
    "print()\n",
    "print(df2[' Label'].value_counts())\n",
    "print()\n",
    "print(df3[' Label'].value_counts())\n",
    "print()\n",
    "print(df4[' Label'].value_counts())\n",
    "print()\n",
    "print(df5[' Label'].value_counts())\n",
    "print()\n",
    "print(df6[' Label'].value_counts())\n",
    "print()\n",
    "print(df7[' Label'].value_counts())\n",
    "print()\n",
    "print(df8[' Label'].value_counts())\n"
   ]
  },
  {
   "cell_type": "code",
   "execution_count": 4,
   "metadata": {},
   "outputs": [],
   "source": [
    "one_variable_list = []\n",
    "for i in df6.columns:\n",
    "    if df6[i].value_counts().nunique() < 2:\n",
    "        one_variable_list.append(i)\n",
    "df6.drop(one_variable_list,axis=1,inplace=True)\n",
    "df6.columns =  df6.columns.str.strip()"
   ]
  },
  {
   "cell_type": "code",
   "execution_count": 5,
   "metadata": {},
   "outputs": [
    {
     "output_type": "execute_result",
     "data": {
      "text/plain": [
       "(170366, 27)"
      ]
     },
     "metadata": {},
     "execution_count": 5
    }
   ],
   "source": [
    "corr_matrix = df6.corr().abs()\n",
    "\n",
    "# Select upper triangle of correlation matrix\n",
    "upper = corr_matrix.where(np.triu(np.ones(corr_matrix.shape), k=1).astype(np.bool))\n",
    "\n",
    "# Find features with correlation greater than 0.95\n",
    "to_drop = [column for column in upper.columns if any(upper[column] > 0.75)]\n",
    "\n",
    "# Drop features \n",
    "df6 =  df6.drop(to_drop, axis=1)\n",
    "df6.shape"
   ]
  },
  {
   "cell_type": "code",
   "execution_count": 6,
   "metadata": {},
   "outputs": [],
   "source": [
    "df6 = df6[~df6.isin([np.nan, np.inf, -np.inf]).any(1)]\n",
    "\n",
    "df6.loc[df6['Label']=='BENIGN','Label']=0\n",
    "df6.loc[df6['Label']=='Web Attack � Brute Force','Label']=1\n",
    "df6.loc[df6['Label']=='Web Attack � XSS','Label']=1\n",
    "df6.loc[df6['Label']=='Web Attack � Sql Injection','Label']=1"
   ]
  },
  {
   "cell_type": "code",
   "execution_count": 7,
   "metadata": {},
   "outputs": [],
   "source": [
    "x = df6.drop([\"Label\"],axis=1)\n",
    "y = df6[\"Label\"]"
   ]
  },
  {
   "cell_type": "code",
   "execution_count": 8,
   "metadata": {},
   "outputs": [
    {
     "output_type": "execute_result",
     "data": {
      "text/plain": [
       "0    0\n",
       "1    0\n",
       "2    0\n",
       "3    0\n",
       "4    0\n",
       "Name: Label, dtype: object"
      ]
     },
     "metadata": {},
     "execution_count": 8
    }
   ],
   "source": [
    "y.head()"
   ]
  },
  {
   "cell_type": "code",
   "execution_count": 9,
   "metadata": {},
   "outputs": [
    {
     "output_type": "execute_result",
     "data": {
      "text/plain": [
       "0    168051\n",
       "1      2180\n",
       "Name: Label, dtype: int64"
      ]
     },
     "metadata": {},
     "execution_count": 9
    }
   ],
   "source": [
    "df6['Label'].value_counts()"
   ]
  },
  {
   "cell_type": "code",
   "execution_count": 10,
   "metadata": {},
   "outputs": [
    {
     "output_type": "stream",
     "name": "stdout",
     "text": [
      "(170231, 26)\n(170231,)\n"
     ]
    }
   ],
   "source": [
    "x_train_ori = np.array(x)\n",
    "y_train_ori=np.array(y.astype(int))\n",
    "\n",
    "print(x_train_ori.shape)\n",
    "print(y_train_ori.shape)"
   ]
  },
  {
   "cell_type": "code",
   "execution_count": 11,
   "metadata": {},
   "outputs": [
    {
     "output_type": "stream",
     "name": "stdout",
     "text": [
      "(170200, 32, 26)\n(170200, 32)\n"
     ]
    }
   ],
   "source": [
    "TIME_STEPS = 32\n",
    "\n",
    "x_train_reshaped = []\n",
    "y_train_reshaped = []\n",
    "\n",
    "for i in range(y_train_ori.shape[0] - TIME_STEPS + 1):\n",
    "    x_train_reshaped.append(x_train_ori[i : i + TIME_STEPS])\n",
    "    y_train_reshaped.append(y_train_ori[i : i + TIME_STEPS])\n",
    "\n",
    "x_train_reshaped = np.array(x_train_reshaped)\n",
    "y_train_reshaped = np.array(y_train_reshaped)\n",
    "\n",
    "print(x_train_reshaped.shape)\n",
    "print(y_train_reshaped.shape)"
   ]
  },
  {
   "cell_type": "code",
   "execution_count": 12,
   "metadata": {},
   "outputs": [],
   "source": [
    "from sklearn.model_selection import train_test_split\n",
    "\n",
    "x_train, x_val, y_train, y_val = train_test_split(\n",
    "    x_train_reshaped, y_train_reshaped, test_size=0.15\n",
    ")"
   ]
  },
  {
   "cell_type": "code",
   "execution_count": 13,
   "metadata": {},
   "outputs": [
    {
     "output_type": "stream",
     "name": "stdout",
     "text": [
      "y_train - True: 59025 | False:85645\ny_val - True: 10735 | False:14795\n"
     ]
    }
   ],
   "source": [
    "print(\n",
    "    f\"y_train - True: {np.count_nonzero(y_train)} | \"\n",
    "    + f\"False:{ len(y_train) - np.count_nonzero(y_train)}\"\n",
    ")\n",
    "print(\n",
    "    f\"y_val - True: {np.count_nonzero(y_val)} | \"\n",
    "    + f\"False:{ len(y_val) - np.count_nonzero(y_val)}\"\n",
    ")"
   ]
  },
  {
   "cell_type": "code",
   "execution_count": 14,
   "metadata": {},
   "outputs": [],
   "source": [
    "input_shape = (None, TIME_STEPS, 26) "
   ]
  },
  {
   "cell_type": "code",
   "execution_count": 15,
   "metadata": {},
   "outputs": [
    {
     "output_type": "stream",
     "name": "stdout",
     "text": [
      "Model: \"sequential\"\n_________________________________________________________________\nLayer (type)                 Output Shape              Param #   \n=================================================================\nbidirectional (Bidirectional multiple                  46592     \n_________________________________________________________________\nbidirectional_1 (Bidirection multiple                  41216     \n_________________________________________________________________\ndense (Dense)                multiple                  8320      \n_________________________________________________________________\ndense_1 (Dense)              multiple                  8256      \n_________________________________________________________________\ndense_2 (Dense)              multiple                  2080      \n=================================================================\nTotal params: 106,464\nTrainable params: 106,464\nNon-trainable params: 0\n_________________________________________________________________\n"
     ]
    }
   ],
   "source": [
    "import tensorflow as tf\n",
    "\n",
    "bi_lstm_model = tf.keras.models.Sequential(\n",
    "    [\n",
    "        tf.keras.layers.Bidirectional(tf.keras.layers.LSTM(64, return_sequences=True)),\n",
    "        tf.keras.layers.Bidirectional(\n",
    "            tf.keras.layers.LSTM(\n",
    "                32,\n",
    "            )\n",
    "        ),\n",
    "        tf.keras.layers.Dense(128, activation=\"relu\"),\n",
    "        tf.keras.layers.Dense(64, activation=\"relu\"),\n",
    "        tf.keras.layers.Dense(TIME_STEPS, activation=\"sigmoid\"),\n",
    "    ]\n",
    ")\n",
    "\n",
    "bi_lstm_model.compile(\n",
    "    loss=\"binary_crossentropy\",\n",
    "    optimizer=\"adam\",\n",
    "    metrics=[\n",
    "        tf.keras.metrics.BinaryAccuracy(),\n",
    "        tf.keras.metrics.Precision(),\n",
    "        tf.keras.metrics.Recall(),\n",
    "        tf.keras.metrics.AUC(),\n",
    "    ],\n",
    ")\n",
    "\n",
    "\n",
    "bi_lstm_model.build(input_shape)\n",
    "bi_lstm_model.summary()"
   ]
  },
  {
   "cell_type": "code",
   "execution_count": 16,
   "metadata": {
    "tags": [
     "outputPrepend"
    ]
   },
   "outputs": [
    {
     "output_type": "stream",
     "name": "stdout",
     "text": [
      "=========>.] - ETA: 0s - loss: 0.0323 - binary_accuracy: 0.9885 - precision: 0.6942 - recall: 0.1716 - auc: 0.9707\n",
      "Epoch 00010: loss improved from 0.03486 to 0.03228, saving model to ./model/bi_lstm_model_32_32.h5\n",
      "2261/2261 [==============================] - 19s 8ms/step - loss: 0.0323 - binary_accuracy: 0.9885 - precision: 0.6941 - recall: 0.1714 - auc: 0.9707 - val_loss: 0.0353 - val_binary_accuracy: 0.9879 - val_precision: 0.7023 - val_recall: 0.1391 - val_auc: 0.9666\n",
      "Epoch 11/50\n",
      "2259/2261 [============================>.] - ETA: 0s - loss: 0.0315 - binary_accuracy: 0.9887 - precision: 0.6994 - recall: 0.1929 - auc: 0.9723\n",
      "Epoch 00011: loss improved from 0.03228 to 0.03146, saving model to ./model/bi_lstm_model_32_32.h5\n",
      "2261/2261 [==============================] - 19s 8ms/step - loss: 0.0315 - binary_accuracy: 0.9887 - precision: 0.6995 - recall: 0.1929 - auc: 0.9723 - val_loss: 0.0321 - val_binary_accuracy: 0.9884 - val_precision: 0.7215 - val_recall: 0.1954 - val_auc: 0.9699\n",
      "Epoch 12/50\n",
      "2256/2261 [============================>.] - ETA: 0s - loss: 0.0296 - binary_accuracy: 0.9890 - precision: 0.7041 - recall: 0.2375 - auc: 0.9766\n",
      "Epoch 00012: loss improved from 0.03146 to 0.02958, saving model to ./model/bi_lstm_model_32_32.h5\n",
      "2261/2261 [==============================] - 19s 8ms/step - loss: 0.0296 - binary_accuracy: 0.9890 - precision: 0.7043 - recall: 0.2376 - auc: 0.9766 - val_loss: 0.0293 - val_binary_accuracy: 0.9891 - val_precision: 0.7370 - val_recall: 0.2600 - val_auc: 0.9761\n",
      "Epoch 13/50\n",
      "2255/2261 [============================>.] - ETA: 0s - loss: 0.0305 - binary_accuracy: 0.9888 - precision: 0.6890 - recall: 0.2232 - auc: 0.9740\n",
      "Epoch 00013: loss did not improve from 0.02958\n",
      "2261/2261 [==============================] - 19s 8ms/step - loss: 0.0305 - binary_accuracy: 0.9888 - precision: 0.6892 - recall: 0.2233 - auc: 0.9740 - val_loss: 0.0309 - val_binary_accuracy: 0.9886 - val_precision: 0.6698 - val_recall: 0.2659 - val_auc: 0.9772\n",
      "Epoch 14/50\n",
      "2255/2261 [============================>.] - ETA: 0s - loss: 0.0297 - binary_accuracy: 0.9890 - precision: 0.6947 - recall: 0.2482 - auc: 0.9752\n",
      "Epoch 00014: loss did not improve from 0.02958\n",
      "2261/2261 [==============================] - 19s 8ms/step - loss: 0.0297 - binary_accuracy: 0.9890 - precision: 0.6947 - recall: 0.2481 - auc: 0.9753 - val_loss: 0.0300 - val_binary_accuracy: 0.9888 - val_precision: 0.7479 - val_recall: 0.2278 - val_auc: 0.9746\n",
      "Epoch 15/50\n",
      "2258/2261 [============================>.] - ETA: 0s - loss: 0.0300 - binary_accuracy: 0.9890 - precision: 0.6958 - recall: 0.2420 - auc: 0.9747\n",
      "Epoch 00015: loss did not improve from 0.02958\n",
      "2261/2261 [==============================] - 18s 8ms/step - loss: 0.0299 - binary_accuracy: 0.9890 - precision: 0.6959 - recall: 0.2421 - auc: 0.9747 - val_loss: 0.0287 - val_binary_accuracy: 0.9893 - val_precision: 0.7172 - val_recall: 0.3021 - val_auc: 0.9777\n",
      "Epoch 16/50\n",
      "2257/2261 [============================>.] - ETA: 0s - loss: 0.0267 - binary_accuracy: 0.9898 - precision: 0.7218 - recall: 0.3296 - auc: 0.9805\n",
      "Epoch 00016: loss improved from 0.02958 to 0.02668, saving model to ./model/bi_lstm_model_32_32.h5\n",
      "2261/2261 [==============================] - 19s 8ms/step - loss: 0.0267 - binary_accuracy: 0.9898 - precision: 0.7219 - recall: 0.3296 - auc: 0.9805 - val_loss: 0.0264 - val_binary_accuracy: 0.9898 - val_precision: 0.7474 - val_recall: 0.3415 - val_auc: 0.9794\n",
      "Epoch 17/50\n",
      "2259/2261 [============================>.] - ETA: 0s - loss: 0.0254 - binary_accuracy: 0.9902 - precision: 0.7280 - recall: 0.3722 - auc: 0.9818\n",
      "Epoch 00017: loss improved from 0.02668 to 0.02538, saving model to ./model/bi_lstm_model_32_32.h5\n",
      "2261/2261 [==============================] - 19s 8ms/step - loss: 0.0254 - binary_accuracy: 0.9902 - precision: 0.7280 - recall: 0.3722 - auc: 0.9818 - val_loss: 0.0283 - val_binary_accuracy: 0.9896 - val_precision: 0.7106 - val_recall: 0.3486 - val_auc: 0.9763\n",
      "Epoch 18/50\n",
      "2261/2261 [==============================] - ETA: 0s - loss: 0.0255 - binary_accuracy: 0.9903 - precision: 0.7329 - recall: 0.3759 - auc: 0.9819\n",
      "Epoch 00018: loss did not improve from 0.02538\n",
      "2261/2261 [==============================] - 19s 9ms/step - loss: 0.0255 - binary_accuracy: 0.9903 - precision: 0.7329 - recall: 0.3759 - auc: 0.9819 - val_loss: 0.0258 - val_binary_accuracy: 0.9902 - val_precision: 0.7265 - val_recall: 0.4083 - val_auc: 0.9839\n",
      "Epoch 19/50\n",
      "2256/2261 [============================>.] - ETA: 0s - loss: 0.0263 - binary_accuracy: 0.9901 - precision: 0.7221 - recall: 0.3606 - auc: 0.9799\n",
      "Epoch 00019: loss did not improve from 0.02538\n",
      "2261/2261 [==============================] - 19s 8ms/step - loss: 0.0263 - binary_accuracy: 0.9901 - precision: 0.7221 - recall: 0.3607 - auc: 0.9799 - val_loss: 0.0279 - val_binary_accuracy: 0.9896 - val_precision: 0.7249 - val_recall: 0.3373 - val_auc: 0.9767\n",
      "Epoch 20/50\n",
      "2257/2261 [============================>.] - ETA: 0s - loss: 0.0236 - binary_accuracy: 0.9909 - precision: 0.7493 - recall: 0.4344 - auc: 0.9844\n",
      "Epoch 00020: loss improved from 0.02538 to 0.02364, saving model to ./model/bi_lstm_model_32_32.h5\n",
      "2261/2261 [==============================] - 19s 8ms/step - loss: 0.0236 - binary_accuracy: 0.9909 - precision: 0.7493 - recall: 0.4345 - auc: 0.9844 - val_loss: 0.0226 - val_binary_accuracy: 0.9913 - val_precision: 0.7481 - val_recall: 0.5115 - val_auc: 0.9864\n",
      "Epoch 21/50\n",
      "2258/2261 [============================>.] - ETA: 0s - loss: 0.0218 - binary_accuracy: 0.9917 - precision: 0.7651 - recall: 0.5046 - auc: 0.9857\n",
      "Epoch 00021: loss improved from 0.02364 to 0.02183, saving model to ./model/bi_lstm_model_32_32.h5\n",
      "2261/2261 [==============================] - 19s 8ms/step - loss: 0.0218 - binary_accuracy: 0.9917 - precision: 0.7652 - recall: 0.5047 - auc: 0.9857 - val_loss: 0.0234 - val_binary_accuracy: 0.9913 - val_precision: 0.7942 - val_recall: 0.4565 - val_auc: 0.9816\n",
      "Epoch 22/50\n",
      "2258/2261 [============================>.] - ETA: 0s - loss: 0.0231 - binary_accuracy: 0.9914 - precision: 0.7575 - recall: 0.4833 - auc: 0.9828\n",
      "Epoch 00022: loss did not improve from 0.02183\n",
      "2261/2261 [==============================] - 19s 8ms/step - loss: 0.0231 - binary_accuracy: 0.9914 - precision: 0.7575 - recall: 0.4832 - auc: 0.9828 - val_loss: 0.0264 - val_binary_accuracy: 0.9906 - val_precision: 0.7527 - val_recall: 0.4279 - val_auc: 0.9738\n",
      "Epoch 23/50\n",
      "2258/2261 [============================>.] - ETA: 0s - loss: 0.0242 - binary_accuracy: 0.9911 - precision: 0.7489 - recall: 0.4587 - auc: 0.9804\n",
      "Epoch 00023: loss did not improve from 0.02183\n",
      "2261/2261 [==============================] - 19s 9ms/step - loss: 0.0243 - binary_accuracy: 0.9911 - precision: 0.7491 - recall: 0.4587 - auc: 0.9803 - val_loss: 0.0222 - val_binary_accuracy: 0.9918 - val_precision: 0.7794 - val_recall: 0.5295 - val_auc: 0.9848\n",
      "Epoch 24/50\n",
      "2259/2261 [============================>.] - ETA: 0s - loss: 0.0209 - binary_accuracy: 0.9924 - precision: 0.7824 - recall: 0.5563 - auc: 0.9840\n",
      "Epoch 00024: loss improved from 0.02183 to 0.02086, saving model to ./model/bi_lstm_model_32_32.h5\n",
      "2261/2261 [==============================] - 20s 9ms/step - loss: 0.0209 - binary_accuracy: 0.9924 - precision: 0.7825 - recall: 0.5563 - auc: 0.9840 - val_loss: 0.0272 - val_binary_accuracy: 0.9902 - val_precision: 0.6939 - val_recall: 0.4613 - val_auc: 0.9748\n",
      "Epoch 25/50\n",
      "2261/2261 [==============================] - ETA: 0s - loss: 0.0236 - binary_accuracy: 0.9915 - precision: 0.7556 - recall: 0.4878 - auc: 0.9804\n",
      "Epoch 00025: loss did not improve from 0.02086\n",
      "2261/2261 [==============================] - 20s 9ms/step - loss: 0.0236 - binary_accuracy: 0.9915 - precision: 0.7556 - recall: 0.4878 - auc: 0.9804 - val_loss: 0.0232 - val_binary_accuracy: 0.9919 - val_precision: 0.7465 - val_recall: 0.5778 - val_auc: 0.9810\n",
      "Epoch 26/50\n",
      "2260/2261 [============================>.] - ETA: 0s - loss: 0.0202 - binary_accuracy: 0.9928 - precision: 0.7965 - recall: 0.5802 - auc: 0.9840\n",
      "Epoch 00026: loss improved from 0.02086 to 0.02016, saving model to ./model/bi_lstm_model_32_32.h5\n",
      "2261/2261 [==============================] - 20s 9ms/step - loss: 0.0202 - binary_accuracy: 0.9928 - precision: 0.7966 - recall: 0.5802 - auc: 0.9840 - val_loss: 0.0198 - val_binary_accuracy: 0.9930 - val_precision: 0.8487 - val_recall: 0.5668 - val_auc: 0.9820\n",
      "Epoch 27/50\n",
      "2260/2261 [============================>.] - ETA: 0s - loss: 0.0181 - binary_accuracy: 0.9935 - precision: 0.8173 - recall: 0.6338 - auc: 0.9866\n",
      "Epoch 00027: loss improved from 0.02016 to 0.01811, saving model to ./model/bi_lstm_model_32_32.h5\n",
      "2261/2261 [==============================] - 20s 9ms/step - loss: 0.0181 - binary_accuracy: 0.9935 - precision: 0.8173 - recall: 0.6338 - auc: 0.9866 - val_loss: 0.0184 - val_binary_accuracy: 0.9934 - val_precision: 0.8219 - val_recall: 0.6337 - val_auc: 0.9863\n",
      "Epoch 28/50\n",
      "2258/2261 [============================>.] - ETA: 0s - loss: 0.0190 - binary_accuracy: 0.9932 - precision: 0.8064 - recall: 0.6114 - auc: 0.9857\n",
      "Epoch 00028: loss did not improve from 0.01811\n",
      "2261/2261 [==============================] - 19s 9ms/step - loss: 0.0190 - binary_accuracy: 0.9932 - precision: 0.8064 - recall: 0.6114 - auc: 0.9857 - val_loss: 0.0181 - val_binary_accuracy: 0.9935 - val_precision: 0.8128 - val_recall: 0.6561 - val_auc: 0.9865\n",
      "Epoch 29/50\n",
      "2260/2261 [============================>.] - ETA: 0s - loss: 0.0173 - binary_accuracy: 0.9937 - precision: 0.8184 - recall: 0.6487 - auc: 0.9882\n",
      "Epoch 00029: loss improved from 0.01811 to 0.01730, saving model to ./model/bi_lstm_model_32_32.h5\n",
      "2261/2261 [==============================] - 19s 9ms/step - loss: 0.0173 - binary_accuracy: 0.9937 - precision: 0.8184 - recall: 0.6487 - auc: 0.9882 - val_loss: 0.0180 - val_binary_accuracy: 0.9934 - val_precision: 0.8367 - val_recall: 0.6209 - val_auc: 0.9872\n",
      "Epoch 30/50\n",
      "2256/2261 [============================>.] - ETA: 0s - loss: 0.0170 - binary_accuracy: 0.9938 - precision: 0.8203 - recall: 0.6552 - auc: 0.9883\n",
      "Epoch 00030: loss improved from 0.01730 to 0.01704, saving model to ./model/bi_lstm_model_32_32.h5\n",
      "2261/2261 [==============================] - 20s 9ms/step - loss: 0.0170 - binary_accuracy: 0.9938 - precision: 0.8202 - recall: 0.6554 - auc: 0.9883 - val_loss: 0.0190 - val_binary_accuracy: 0.9934 - val_precision: 0.8331 - val_recall: 0.6225 - val_auc: 0.9818\n",
      "Epoch 31/50\n",
      "2257/2261 [============================>.] - ETA: 0s - loss: 0.0179 - binary_accuracy: 0.9935 - precision: 0.8097 - recall: 0.6438 - auc: 0.9868\n",
      "Epoch 00031: loss did not improve from 0.01704\n",
      "2261/2261 [==============================] - 19s 9ms/step - loss: 0.0179 - binary_accuracy: 0.9935 - precision: 0.8097 - recall: 0.6438 - auc: 0.9868 - val_loss: 0.0214 - val_binary_accuracy: 0.9921 - val_precision: 0.7717 - val_recall: 0.5715 - val_auc: 0.9809\n",
      "Epoch 32/50\n",
      "2259/2261 [============================>.] - ETA: 0s - loss: 0.0216 - binary_accuracy: 0.9921 - precision: 0.7633 - recall: 0.5527 - auc: 0.9829\n",
      "Epoch 00032: loss did not improve from 0.01704\n",
      "2261/2261 [==============================] - 19s 8ms/step - loss: 0.0216 - binary_accuracy: 0.9921 - precision: 0.7633 - recall: 0.5527 - auc: 0.9829 - val_loss: 0.0192 - val_binary_accuracy: 0.9930 - val_precision: 0.7954 - val_recall: 0.6330 - val_auc: 0.9858\n",
      "Epoch 33/50\n",
      "2255/2261 [============================>.] - ETA: 0s - loss: 0.0207 - binary_accuracy: 0.9924 - precision: 0.7731 - recall: 0.5693 - auc: 0.9845\n",
      "Epoch 00033: loss did not improve from 0.01704\n",
      "2261/2261 [==============================] - 19s 8ms/step - loss: 0.0207 - binary_accuracy: 0.9924 - precision: 0.7731 - recall: 0.5695 - auc: 0.9846 - val_loss: 0.0207 - val_binary_accuracy: 0.9923 - val_precision: 0.8116 - val_recall: 0.5427 - val_auc: 0.9837\n",
      "Epoch 34/50\n",
      "2260/2261 [============================>.] - ETA: 0s - loss: 0.0208 - binary_accuracy: 0.9922 - precision: 0.7646 - recall: 0.5648 - auc: 0.9850\n",
      "Epoch 00034: loss did not improve from 0.01704\n",
      "2261/2261 [==============================] - 19s 9ms/step - loss: 0.0208 - binary_accuracy: 0.9922 - precision: 0.7646 - recall: 0.5649 - auc: 0.9850 - val_loss: 0.0194 - val_binary_accuracy: 0.9928 - val_precision: 0.7716 - val_recall: 0.6403 - val_auc: 0.9880\n",
      "Epoch 35/50\n",
      "2261/2261 [==============================] - ETA: 0s - loss: 0.0188 - binary_accuracy: 0.9930 - precision: 0.7923 - recall: 0.6157 - auc: 0.9868\n",
      "Epoch 00035: loss did not improve from 0.01704\n",
      "2261/2261 [==============================] - 20s 9ms/step - loss: 0.0188 - binary_accuracy: 0.9930 - precision: 0.7923 - recall: 0.6157 - auc: 0.9868 - val_loss: 0.0197 - val_binary_accuracy: 0.9928 - val_precision: 0.8044 - val_recall: 0.6020 - val_auc: 0.9846\n",
      "Epoch 36/50\n",
      "2261/2261 [==============================] - ETA: 0s - loss: 0.0194 - binary_accuracy: 0.9928 - precision: 0.7813 - recall: 0.6023 - auc: 0.9864\n",
      "Epoch 00036: loss did not improve from 0.01704\n",
      "2261/2261 [==============================] - 20s 9ms/step - loss: 0.0194 - binary_accuracy: 0.9928 - precision: 0.7813 - recall: 0.6023 - auc: 0.9864 - val_loss: 0.0212 - val_binary_accuracy: 0.9922 - val_precision: 0.8019 - val_recall: 0.5395 - val_auc: 0.9825\n",
      "Epoch 37/50\n",
      "2259/2261 [============================>.] - ETA: 0s - loss: 0.0179 - binary_accuracy: 0.9933 - precision: 0.7963 - recall: 0.6372 - auc: 0.9890\n",
      "Epoch 00037: loss did not improve from 0.01704\n",
      "2261/2261 [==============================] - 19s 8ms/step - loss: 0.0179 - binary_accuracy: 0.9933 - precision: 0.7964 - recall: 0.6373 - auc: 0.9890 - val_loss: 0.0182 - val_binary_accuracy: 0.9933 - val_precision: 0.8306 - val_recall: 0.6125 - val_auc: 0.9864\n",
      "Epoch 38/50\n",
      "2256/2261 [============================>.] - ETA: 0s - loss: 0.0185 - binary_accuracy: 0.9931 - precision: 0.7890 - recall: 0.6225 - auc: 0.9881\n",
      "Epoch 00038: loss did not improve from 0.01704\n",
      "2261/2261 [==============================] - 19s 8ms/step - loss: 0.0185 - binary_accuracy: 0.9931 - precision: 0.7892 - recall: 0.6225 - auc: 0.9881 - val_loss: 0.0194 - val_binary_accuracy: 0.9926 - val_precision: 0.7624 - val_recall: 0.6350 - val_auc: 0.9885\n",
      "Epoch 39/50\n",
      "2261/2261 [==============================] - ETA: 0s - loss: 0.0170 - binary_accuracy: 0.9936 - precision: 0.8045 - recall: 0.6600 - auc: 0.9898\n",
      "Epoch 00039: loss improved from 0.01704 to 0.01698, saving model to ./model/bi_lstm_model_32_32.h5\n",
      "2261/2261 [==============================] - 19s 8ms/step - loss: 0.0170 - binary_accuracy: 0.9936 - precision: 0.8045 - recall: 0.6600 - auc: 0.9898 - val_loss: 0.0190 - val_binary_accuracy: 0.9929 - val_precision: 0.7824 - val_recall: 0.6409 - val_auc: 0.9865\n",
      "Epoch 40/50\n",
      "2260/2261 [============================>.] - ETA: 0s - loss: 0.0166 - binary_accuracy: 0.9938 - precision: 0.8092 - recall: 0.6688 - auc: 0.9899\n",
      "Epoch 00040: loss improved from 0.01698 to 0.01656, saving model to ./model/bi_lstm_model_32_32.h5\n",
      "2261/2261 [==============================] - 19s 8ms/step - loss: 0.0166 - binary_accuracy: 0.9938 - precision: 0.8092 - recall: 0.6689 - auc: 0.9899 - val_loss: 0.0159 - val_binary_accuracy: 0.9942 - val_precision: 0.8191 - val_recall: 0.7190 - val_auc: 0.9893\n",
      "Epoch 41/50\n",
      "2256/2261 [============================>.] - ETA: 0s - loss: 0.0183 - binary_accuracy: 0.9932 - precision: 0.7971 - recall: 0.6301 - auc: 0.9871\n",
      "Epoch 00041: loss did not improve from 0.01656\n",
      "2261/2261 [==============================] - 19s 9ms/step - loss: 0.0183 - binary_accuracy: 0.9932 - precision: 0.7970 - recall: 0.6299 - auc: 0.9871 - val_loss: 0.0235 - val_binary_accuracy: 0.9911 - val_precision: 0.7388 - val_recall: 0.5030 - val_auc: 0.9817\n",
      "Epoch 42/50\n",
      "2257/2261 [============================>.] - ETA: 0s - loss: 0.0147 - binary_accuracy: 0.9945 - precision: 0.8347 - recall: 0.7064 - auc: 0.9921\n",
      "Epoch 00042: loss improved from 0.01656 to 0.01473, saving model to ./model/bi_lstm_model_32_32.h5\n",
      "2261/2261 [==============================] - 20s 9ms/step - loss: 0.0147 - binary_accuracy: 0.9945 - precision: 0.8347 - recall: 0.7066 - auc: 0.9921 - val_loss: 0.0137 - val_binary_accuracy: 0.9948 - val_precision: 0.8179 - val_recall: 0.7814 - val_auc: 0.9927\n",
      "Epoch 43/50\n",
      "2261/2261 [==============================] - ETA: 0s - loss: 0.0136 - binary_accuracy: 0.9949 - precision: 0.8427 - recall: 0.7390 - auc: 0.9923\n",
      "Epoch 00043: loss improved from 0.01473 to 0.01356, saving model to ./model/bi_lstm_model_32_32.h5\n",
      "2261/2261 [==============================] - 19s 8ms/step - loss: 0.0136 - binary_accuracy: 0.9949 - precision: 0.8427 - recall: 0.7390 - auc: 0.9923 - val_loss: 0.0179 - val_binary_accuracy: 0.9934 - val_precision: 0.8181 - val_recall: 0.6400 - val_auc: 0.9876\n",
      "Epoch 44/50\n",
      "2257/2261 [============================>.] - ETA: 0s - loss: 0.0157 - binary_accuracy: 0.9941 - precision: 0.8147 - recall: 0.6916 - auc: 0.9912\n",
      "Epoch 00044: loss did not improve from 0.01356\n",
      "2261/2261 [==============================] - 20s 9ms/step - loss: 0.0157 - binary_accuracy: 0.9941 - precision: 0.8147 - recall: 0.6917 - auc: 0.9912 - val_loss: 0.0161 - val_binary_accuracy: 0.9940 - val_precision: 0.8187 - val_recall: 0.6955 - val_auc: 0.9904\n",
      "Epoch 45/50\n",
      "2260/2261 [============================>.] - ETA: 0s - loss: 0.0145 - binary_accuracy: 0.9945 - precision: 0.8306 - recall: 0.7187 - auc: 0.9923\n",
      "Epoch 00045: loss did not improve from 0.01356\n",
      "2261/2261 [==============================] - 19s 8ms/step - loss: 0.0145 - binary_accuracy: 0.9945 - precision: 0.8306 - recall: 0.7187 - auc: 0.9923 - val_loss: 0.0132 - val_binary_accuracy: 0.9951 - val_precision: 0.8255 - val_recall: 0.7979 - val_auc: 0.9929\n",
      "Epoch 46/50\n",
      "2257/2261 [============================>.] - ETA: 0s - loss: 0.0151 - binary_accuracy: 0.9943 - precision: 0.8231 - recall: 0.7066 - auc: 0.9911\n",
      "Epoch 00046: loss did not improve from 0.01356\n",
      "2261/2261 [==============================] - 19s 8ms/step - loss: 0.0151 - binary_accuracy: 0.9943 - precision: 0.8232 - recall: 0.7067 - auc: 0.9911 - val_loss: 0.0136 - val_binary_accuracy: 0.9950 - val_precision: 0.8441 - val_recall: 0.7597 - val_auc: 0.9914\n",
      "Epoch 47/50\n",
      "2256/2261 [============================>.] - ETA: 0s - loss: 0.0117 - binary_accuracy: 0.9957 - precision: 0.8700 - recall: 0.7830 - auc: 0.9932\n",
      "Epoch 00047: loss improved from 0.01356 to 0.01170, saving model to ./model/bi_lstm_model_32_32.h5\n",
      "2261/2261 [==============================] - 19s 8ms/step - loss: 0.0117 - binary_accuracy: 0.9957 - precision: 0.8700 - recall: 0.7831 - auc: 0.9932 - val_loss: 0.0127 - val_binary_accuracy: 0.9954 - val_precision: 0.8528 - val_recall: 0.7832 - val_auc: 0.9913\n",
      "Epoch 48/50\n",
      "2259/2261 [============================>.] - ETA: 0s - loss: 0.0116 - binary_accuracy: 0.9957 - precision: 0.8664 - recall: 0.7846 - auc: 0.9941\n",
      "Epoch 00048: loss improved from 0.01170 to 0.01155, saving model to ./model/bi_lstm_model_32_32.h5\n",
      "2261/2261 [==============================] - 19s 8ms/step - loss: 0.0116 - binary_accuracy: 0.9957 - precision: 0.8664 - recall: 0.7846 - auc: 0.9941 - val_loss: 0.0125 - val_binary_accuracy: 0.9953 - val_precision: 0.8658 - val_recall: 0.7579 - val_auc: 0.9921\n",
      "Epoch 49/50\n",
      "2257/2261 [============================>.] - ETA: 0s - loss: 0.0134 - binary_accuracy: 0.9950 - precision: 0.8437 - recall: 0.7441 - auc: 0.9923\n",
      "Epoch 00049: loss did not improve from 0.01155\n",
      "2261/2261 [==============================] - 19s 8ms/step - loss: 0.0134 - binary_accuracy: 0.9950 - precision: 0.8437 - recall: 0.7442 - auc: 0.9923 - val_loss: 0.0139 - val_binary_accuracy: 0.9949 - val_precision: 0.8279 - val_recall: 0.7693 - val_auc: 0.9912\n",
      "Epoch 50/50\n",
      "2261/2261 [==============================] - ETA: 0s - loss: 0.0136 - binary_accuracy: 0.9949 - precision: 0.8403 - recall: 0.7422 - auc: 0.9923\n",
      "Epoch 00050: loss did not improve from 0.01155\n",
      "2261/2261 [==============================] - 19s 9ms/step - loss: 0.0136 - binary_accuracy: 0.9949 - precision: 0.8403 - recall: 0.7422 - auc: 0.9923 - val_loss: 0.0152 - val_binary_accuracy: 0.9945 - val_precision: 0.8626 - val_recall: 0.6931 - val_auc: 0.9884\n"
     ]
    }
   ],
   "source": [
    "import datetime\n",
    "\n",
    "checkpoint = tf.keras.callbacks.ModelCheckpoint(\n",
    "    f\"./model/bi_lstm_model_{TIME_STEPS}_{TIME_STEPS}.h5\",\n",
    "    monitor=\"loss\",\n",
    "    verbose=1,\n",
    "    save_best_only=True,\n",
    "    mode=\"auto\",\n",
    "    period=1,\n",
    ")\n",
    "\n",
    "log_dir = f\"./logs/lstm{TIME_STEPS}seq/\" + datetime.datetime.now().strftime(\n",
    "    \"%Y%m%d-%H%M%S\"\n",
    ")\n",
    "tensorboard_callback = tf.keras.callbacks.TensorBoard(\n",
    "    log_dir=log_dir, histogram_freq=1, profile_batch=0\n",
    ")\n",
    "\n",
    "history = bi_lstm_model.fit(\n",
    "    x_train,\n",
    "    y_train,\n",
    "    batch_size=64,\n",
    "    epochs=50,\n",
    "    validation_data=(x_val, y_val),\n",
    "    callbacks=[checkpoint, tensorboard_callback],\n",
    ")"
   ]
  },
  {
   "cell_type": "code",
   "execution_count": 17,
   "metadata": {},
   "outputs": [],
   "source": [
    "def plot_metrics(history):\n",
    "    metrics = [\"loss\", \"auc\", \"precision\", \"recall\"]\n",
    "\n",
    "    plt.figure(figsize=(20, 10))\n",
    "\n",
    "    for n, metric in enumerate(metrics):\n",
    "        name = metric.replace(\"_\", \" \").capitalize()\n",
    "        plt.subplot(2, 2, n + 1)\n",
    "        plt.plot(history.epoch, history.history[metric], label=\"Train\")\n",
    "        plt.plot(\n",
    "            history.epoch, history.history[\"val_\" + metric], linestyle=\"--\", label=\"Val\"\n",
    "        )\n",
    "        plt.xlabel(\"Epoch\")\n",
    "        plt.ylabel(name)\n",
    "        if metric == \"loss\":\n",
    "            plt.ylim([0, plt.ylim()[1]])\n",
    "        elif metric == \"auc\":\n",
    "            plt.ylim([0.8, 1])\n",
    "        else:\n",
    "            plt.ylim([0, 1])\n",
    "\n",
    "    plt.legend()\n",
    "    plt.show()"
   ]
  },
  {
   "cell_type": "code",
   "execution_count": 18,
   "metadata": {},
   "outputs": [
    {
     "output_type": "stream",
     "name": "stdout",
     "text": [
      "5319/5319 [==============================] - 21s 4ms/step - loss: 0.0135 - binary_accuracy: 0.9950 - precision: 0.8761 - recall: 0.7093 - auc: 0.9916\n",
      "[0.013450812548398972, 0.9949920773506165, 0.8760865926742554, 0.709346354007721, 0.9916014075279236]\n"
     ]
    }
   ],
   "source": [
    "eval_result_training = bi_lstm_model.evaluate(x_train_reshaped, y_train_reshaped)\n",
    "print(eval_result_training)"
   ]
  },
  {
   "cell_type": "code",
   "execution_count": 19,
   "metadata": {},
   "outputs": [],
   "source": [
    "y_train_predicted = bi_lstm_model.predict(x_train_reshaped)"
   ]
  },
  {
   "cell_type": "code",
   "execution_count": 20,
   "metadata": {},
   "outputs": [
    {
     "output_type": "stream",
     "name": "stdout",
     "text": [
      "Grouping same packet\n",
      "170199/170200 | 100 %     \n"
     ]
    }
   ],
   "source": [
    "print(\"Grouping same packet\")\n",
    "y_train_predicted_grouped = {}\n",
    "for i in range(y_train_predicted.shape[0]):\n",
    "    for j in range(y_train_predicted.shape[1]):\n",
    "        if i + j not in y_train_predicted_grouped:\n",
    "            y_train_predicted_grouped[i + j] = []\n",
    "        y_train_predicted_grouped[i + j].append(y_train_predicted[i][j])\n",
    "    print(\n",
    "        f\"{i}/{y_train_predicted.shape[0]} | {i/y_train_predicted.shape[0]*100.0:3.0f} %     \",\n",
    "        end=\"\\r\",\n",
    "    )\n",
    "print(\"\")"
   ]
  },
  {
   "source": [
    "y_train_predicted_mean = []\n",
    "# y_train_predicted_any = []\n",
    "\n",
    "# treshold = 0.5\n",
    "\n",
    "for i in range(len(y_train_predicted_grouped)):\n",
    "    y_train_predicted_mean.append(np.mean(y_train_predicted_grouped[i]))\n",
    "    #     y_train_predicted_any.append(\n",
    "    #         1.0\n",
    "    #         if np.any(np.where(np.array(y_train_predicted_grouped[i]) > treshold))\n",
    "    #         else 0.0\n",
    "    #     )\n",
    "    print(\n",
    "        f\"{i}/{y_train_predicted.shape[0]} | {i/y_train_predicted.shape[0]*100.0:3.0f} %     \",\n",
    "        end=\"\\r\",\n",
    "    )\n",
    "print(\"\")\n",
    "\n",
    "y_train_predicted_mean = np.array(y_train_predicted_mean)"
   ],
   "cell_type": "code",
   "metadata": {},
   "execution_count": 21,
   "outputs": [
    {
     "output_type": "stream",
     "name": "stdout",
     "text": [
      "170230/170200 | 100 %     \n"
     ]
    }
   ]
  },
  {
   "cell_type": "code",
   "execution_count": 22,
   "metadata": {},
   "outputs": [],
   "source": [
    "import sklearn\n",
    "\n",
    "\n",
    "def plot_roc(name, labels, predictions, **kwargs):\n",
    "    fp, tp, _ = sklearn.metrics.roc_curve(labels, predictions)\n",
    "\n",
    "    plt.plot(100 * fp, 100 * tp, label=name, linewidth=2, **kwargs)\n",
    "    plt.xlabel(\"False positives [%]\")\n",
    "    plt.ylabel(\"True positives [%]\")\n",
    "    plt.xlim([-0.5, 20])\n",
    "    plt.ylim([80, 100.5])\n",
    "    plt.grid(True)\n",
    "    ax = plt.gca()\n",
    "    ax.set_aspect(\"equal\")"
   ]
  },
  {
   "cell_type": "code",
   "execution_count": 23,
   "metadata": {},
   "outputs": [
    {
     "output_type": "display_data",
     "data": {
      "text/plain": "<Figure size 432x288 with 1 Axes>",
      "image/svg+xml": "<?xml version=\"1.0\" encoding=\"utf-8\" standalone=\"no\"?>\r\n<!DOCTYPE svg PUBLIC \"-//W3C//DTD SVG 1.1//EN\"\r\n  \"http://www.w3.org/Graphics/SVG/1.1/DTD/svg11.dtd\">\r\n<!-- Created with matplotlib (https://matplotlib.org/) -->\r\n<svg height=\"262.19625pt\" version=\"1.1\" viewBox=\"0 0 287.50875 262.19625\" width=\"287.50875pt\" xmlns=\"http://www.w3.org/2000/svg\" xmlns:xlink=\"http://www.w3.org/1999/xlink\">\r\n <defs>\r\n  <style type=\"text/css\">\r\n*{stroke-linecap:butt;stroke-linejoin:round;}\r\n  </style>\r\n </defs>\r\n <g id=\"figure_1\">\r\n  <g id=\"patch_1\">\r\n   <path d=\"M 0 262.19625 \r\nL 287.50875 262.19625 \r\nL 287.50875 0 \r\nL 0 0 \r\nz\r\n\" style=\"fill:none;\"/>\r\n  </g>\r\n  <g id=\"axes_1\">\r\n   <g id=\"patch_2\">\r\n    <path d=\"M 56.50625 224.64 \r\nL 273.94625 224.64 \r\nL 273.94625 7.2 \r\nL 56.50625 7.2 \r\nz\r\n\" style=\"fill:#ffffff;\"/>\r\n   </g>\r\n   <g id=\"matplotlib.axis_1\">\r\n    <g id=\"xtick_1\">\r\n     <g id=\"line2d_1\">\r\n      <path clip-path=\"url(#p6f1b89372f)\" d=\"M 61.809665 224.64 \r\nL 61.809665 7.2 \r\n\" style=\"fill:none;stroke:#b0b0b0;stroke-linecap:square;stroke-width:0.8;\"/>\r\n     </g>\r\n     <g id=\"line2d_2\">\r\n      <defs>\r\n       <path d=\"M 0 0 \r\nL 0 3.5 \r\n\" id=\"m07e7cbad94\" style=\"stroke:#000000;stroke-width:0.8;\"/>\r\n      </defs>\r\n      <g>\r\n       <use style=\"stroke:#000000;stroke-width:0.8;\" x=\"61.809665\" xlink:href=\"#m07e7cbad94\" y=\"224.64\"/>\r\n      </g>\r\n     </g>\r\n     <g id=\"text_1\">\r\n      <!-- 0 -->\r\n      <defs>\r\n       <path d=\"M 31.78125 66.40625 \r\nQ 24.171875 66.40625 20.328125 58.90625 \r\nQ 16.5 51.421875 16.5 36.375 \r\nQ 16.5 21.390625 20.328125 13.890625 \r\nQ 24.171875 6.390625 31.78125 6.390625 \r\nQ 39.453125 6.390625 43.28125 13.890625 \r\nQ 47.125 21.390625 47.125 36.375 \r\nQ 47.125 51.421875 43.28125 58.90625 \r\nQ 39.453125 66.40625 31.78125 66.40625 \r\nz\r\nM 31.78125 74.21875 \r\nQ 44.046875 74.21875 50.515625 64.515625 \r\nQ 56.984375 54.828125 56.984375 36.375 \r\nQ 56.984375 17.96875 50.515625 8.265625 \r\nQ 44.046875 -1.421875 31.78125 -1.421875 \r\nQ 19.53125 -1.421875 13.0625 8.265625 \r\nQ 6.59375 17.96875 6.59375 36.375 \r\nQ 6.59375 54.828125 13.0625 64.515625 \r\nQ 19.53125 74.21875 31.78125 74.21875 \r\nz\r\n\" id=\"DejaVuSans-48\"/>\r\n      </defs>\r\n      <g transform=\"translate(58.628415 239.238438)scale(0.1 -0.1)\">\r\n       <use xlink:href=\"#DejaVuSans-48\"/>\r\n      </g>\r\n     </g>\r\n    </g>\r\n    <g id=\"xtick_2\">\r\n     <g id=\"line2d_3\">\r\n      <path clip-path=\"url(#p6f1b89372f)\" d=\"M 114.843811 224.64 \r\nL 114.843811 7.2 \r\n\" style=\"fill:none;stroke:#b0b0b0;stroke-linecap:square;stroke-width:0.8;\"/>\r\n     </g>\r\n     <g id=\"line2d_4\">\r\n      <g>\r\n       <use style=\"stroke:#000000;stroke-width:0.8;\" x=\"114.843811\" xlink:href=\"#m07e7cbad94\" y=\"224.64\"/>\r\n      </g>\r\n     </g>\r\n     <g id=\"text_2\">\r\n      <!-- 5 -->\r\n      <defs>\r\n       <path d=\"M 10.796875 72.90625 \r\nL 49.515625 72.90625 \r\nL 49.515625 64.59375 \r\nL 19.828125 64.59375 \r\nL 19.828125 46.734375 \r\nQ 21.96875 47.46875 24.109375 47.828125 \r\nQ 26.265625 48.1875 28.421875 48.1875 \r\nQ 40.625 48.1875 47.75 41.5 \r\nQ 54.890625 34.8125 54.890625 23.390625 \r\nQ 54.890625 11.625 47.5625 5.09375 \r\nQ 40.234375 -1.421875 26.90625 -1.421875 \r\nQ 22.3125 -1.421875 17.546875 -0.640625 \r\nQ 12.796875 0.140625 7.71875 1.703125 \r\nL 7.71875 11.625 \r\nQ 12.109375 9.234375 16.796875 8.0625 \r\nQ 21.484375 6.890625 26.703125 6.890625 \r\nQ 35.15625 6.890625 40.078125 11.328125 \r\nQ 45.015625 15.765625 45.015625 23.390625 \r\nQ 45.015625 31 40.078125 35.4375 \r\nQ 35.15625 39.890625 26.703125 39.890625 \r\nQ 22.75 39.890625 18.8125 39.015625 \r\nQ 14.890625 38.140625 10.796875 36.28125 \r\nz\r\n\" id=\"DejaVuSans-53\"/>\r\n      </defs>\r\n      <g transform=\"translate(111.662561 239.238438)scale(0.1 -0.1)\">\r\n       <use xlink:href=\"#DejaVuSans-53\"/>\r\n      </g>\r\n     </g>\r\n    </g>\r\n    <g id=\"xtick_3\">\r\n     <g id=\"line2d_5\">\r\n      <path clip-path=\"url(#p6f1b89372f)\" d=\"M 167.877957 224.64 \r\nL 167.877957 7.2 \r\n\" style=\"fill:none;stroke:#b0b0b0;stroke-linecap:square;stroke-width:0.8;\"/>\r\n     </g>\r\n     <g id=\"line2d_6\">\r\n      <g>\r\n       <use style=\"stroke:#000000;stroke-width:0.8;\" x=\"167.877957\" xlink:href=\"#m07e7cbad94\" y=\"224.64\"/>\r\n      </g>\r\n     </g>\r\n     <g id=\"text_3\">\r\n      <!-- 10 -->\r\n      <defs>\r\n       <path d=\"M 12.40625 8.296875 \r\nL 28.515625 8.296875 \r\nL 28.515625 63.921875 \r\nL 10.984375 60.40625 \r\nL 10.984375 69.390625 \r\nL 28.421875 72.90625 \r\nL 38.28125 72.90625 \r\nL 38.28125 8.296875 \r\nL 54.390625 8.296875 \r\nL 54.390625 0 \r\nL 12.40625 0 \r\nz\r\n\" id=\"DejaVuSans-49\"/>\r\n      </defs>\r\n      <g transform=\"translate(161.515457 239.238438)scale(0.1 -0.1)\">\r\n       <use xlink:href=\"#DejaVuSans-49\"/>\r\n       <use x=\"63.623047\" xlink:href=\"#DejaVuSans-48\"/>\r\n      </g>\r\n     </g>\r\n    </g>\r\n    <g id=\"xtick_4\">\r\n     <g id=\"line2d_7\">\r\n      <path clip-path=\"url(#p6f1b89372f)\" d=\"M 220.912104 224.64 \r\nL 220.912104 7.2 \r\n\" style=\"fill:none;stroke:#b0b0b0;stroke-linecap:square;stroke-width:0.8;\"/>\r\n     </g>\r\n     <g id=\"line2d_8\">\r\n      <g>\r\n       <use style=\"stroke:#000000;stroke-width:0.8;\" x=\"220.912104\" xlink:href=\"#m07e7cbad94\" y=\"224.64\"/>\r\n      </g>\r\n     </g>\r\n     <g id=\"text_4\">\r\n      <!-- 15 -->\r\n      <g transform=\"translate(214.549604 239.238438)scale(0.1 -0.1)\">\r\n       <use xlink:href=\"#DejaVuSans-49\"/>\r\n       <use x=\"63.623047\" xlink:href=\"#DejaVuSans-53\"/>\r\n      </g>\r\n     </g>\r\n    </g>\r\n    <g id=\"xtick_5\">\r\n     <g id=\"line2d_9\">\r\n      <path clip-path=\"url(#p6f1b89372f)\" d=\"M 273.94625 224.64 \r\nL 273.94625 7.2 \r\n\" style=\"fill:none;stroke:#b0b0b0;stroke-linecap:square;stroke-width:0.8;\"/>\r\n     </g>\r\n     <g id=\"line2d_10\">\r\n      <g>\r\n       <use style=\"stroke:#000000;stroke-width:0.8;\" x=\"273.94625\" xlink:href=\"#m07e7cbad94\" y=\"224.64\"/>\r\n      </g>\r\n     </g>\r\n     <g id=\"text_5\">\r\n      <!-- 20 -->\r\n      <defs>\r\n       <path d=\"M 19.1875 8.296875 \r\nL 53.609375 8.296875 \r\nL 53.609375 0 \r\nL 7.328125 0 \r\nL 7.328125 8.296875 \r\nQ 12.9375 14.109375 22.625 23.890625 \r\nQ 32.328125 33.6875 34.8125 36.53125 \r\nQ 39.546875 41.84375 41.421875 45.53125 \r\nQ 43.3125 49.21875 43.3125 52.78125 \r\nQ 43.3125 58.59375 39.234375 62.25 \r\nQ 35.15625 65.921875 28.609375 65.921875 \r\nQ 23.96875 65.921875 18.8125 64.3125 \r\nQ 13.671875 62.703125 7.8125 59.421875 \r\nL 7.8125 69.390625 \r\nQ 13.765625 71.78125 18.9375 73 \r\nQ 24.125 74.21875 28.421875 74.21875 \r\nQ 39.75 74.21875 46.484375 68.546875 \r\nQ 53.21875 62.890625 53.21875 53.421875 \r\nQ 53.21875 48.921875 51.53125 44.890625 \r\nQ 49.859375 40.875 45.40625 35.40625 \r\nQ 44.1875 33.984375 37.640625 27.21875 \r\nQ 31.109375 20.453125 19.1875 8.296875 \r\nz\r\n\" id=\"DejaVuSans-50\"/>\r\n      </defs>\r\n      <g transform=\"translate(267.58375 239.238438)scale(0.1 -0.1)\">\r\n       <use xlink:href=\"#DejaVuSans-50\"/>\r\n       <use x=\"63.623047\" xlink:href=\"#DejaVuSans-48\"/>\r\n      </g>\r\n     </g>\r\n    </g>\r\n    <g id=\"text_6\">\r\n     <!-- False positives [%] -->\r\n     <defs>\r\n      <path d=\"M 9.8125 72.90625 \r\nL 51.703125 72.90625 \r\nL 51.703125 64.59375 \r\nL 19.671875 64.59375 \r\nL 19.671875 43.109375 \r\nL 48.578125 43.109375 \r\nL 48.578125 34.8125 \r\nL 19.671875 34.8125 \r\nL 19.671875 0 \r\nL 9.8125 0 \r\nz\r\n\" id=\"DejaVuSans-70\"/>\r\n      <path d=\"M 34.28125 27.484375 \r\nQ 23.390625 27.484375 19.1875 25 \r\nQ 14.984375 22.515625 14.984375 16.5 \r\nQ 14.984375 11.71875 18.140625 8.90625 \r\nQ 21.296875 6.109375 26.703125 6.109375 \r\nQ 34.1875 6.109375 38.703125 11.40625 \r\nQ 43.21875 16.703125 43.21875 25.484375 \r\nL 43.21875 27.484375 \r\nz\r\nM 52.203125 31.203125 \r\nL 52.203125 0 \r\nL 43.21875 0 \r\nL 43.21875 8.296875 \r\nQ 40.140625 3.328125 35.546875 0.953125 \r\nQ 30.953125 -1.421875 24.3125 -1.421875 \r\nQ 15.921875 -1.421875 10.953125 3.296875 \r\nQ 6 8.015625 6 15.921875 \r\nQ 6 25.140625 12.171875 29.828125 \r\nQ 18.359375 34.515625 30.609375 34.515625 \r\nL 43.21875 34.515625 \r\nL 43.21875 35.40625 \r\nQ 43.21875 41.609375 39.140625 45 \r\nQ 35.0625 48.390625 27.6875 48.390625 \r\nQ 23 48.390625 18.546875 47.265625 \r\nQ 14.109375 46.140625 10.015625 43.890625 \r\nL 10.015625 52.203125 \r\nQ 14.9375 54.109375 19.578125 55.046875 \r\nQ 24.21875 56 28.609375 56 \r\nQ 40.484375 56 46.34375 49.84375 \r\nQ 52.203125 43.703125 52.203125 31.203125 \r\nz\r\n\" id=\"DejaVuSans-97\"/>\r\n      <path d=\"M 9.421875 75.984375 \r\nL 18.40625 75.984375 \r\nL 18.40625 0 \r\nL 9.421875 0 \r\nz\r\n\" id=\"DejaVuSans-108\"/>\r\n      <path d=\"M 44.28125 53.078125 \r\nL 44.28125 44.578125 \r\nQ 40.484375 46.53125 36.375 47.5 \r\nQ 32.28125 48.484375 27.875 48.484375 \r\nQ 21.1875 48.484375 17.84375 46.4375 \r\nQ 14.5 44.390625 14.5 40.28125 \r\nQ 14.5 37.15625 16.890625 35.375 \r\nQ 19.28125 33.59375 26.515625 31.984375 \r\nL 29.59375 31.296875 \r\nQ 39.15625 29.25 43.1875 25.515625 \r\nQ 47.21875 21.78125 47.21875 15.09375 \r\nQ 47.21875 7.46875 41.1875 3.015625 \r\nQ 35.15625 -1.421875 24.609375 -1.421875 \r\nQ 20.21875 -1.421875 15.453125 -0.5625 \r\nQ 10.6875 0.296875 5.421875 2 \r\nL 5.421875 11.28125 \r\nQ 10.40625 8.6875 15.234375 7.390625 \r\nQ 20.0625 6.109375 24.8125 6.109375 \r\nQ 31.15625 6.109375 34.5625 8.28125 \r\nQ 37.984375 10.453125 37.984375 14.40625 \r\nQ 37.984375 18.0625 35.515625 20.015625 \r\nQ 33.0625 21.96875 24.703125 23.78125 \r\nL 21.578125 24.515625 \r\nQ 13.234375 26.265625 9.515625 29.90625 \r\nQ 5.8125 33.546875 5.8125 39.890625 \r\nQ 5.8125 47.609375 11.28125 51.796875 \r\nQ 16.75 56 26.8125 56 \r\nQ 31.78125 56 36.171875 55.265625 \r\nQ 40.578125 54.546875 44.28125 53.078125 \r\nz\r\n\" id=\"DejaVuSans-115\"/>\r\n      <path d=\"M 56.203125 29.59375 \r\nL 56.203125 25.203125 \r\nL 14.890625 25.203125 \r\nQ 15.484375 15.921875 20.484375 11.0625 \r\nQ 25.484375 6.203125 34.421875 6.203125 \r\nQ 39.59375 6.203125 44.453125 7.46875 \r\nQ 49.3125 8.734375 54.109375 11.28125 \r\nL 54.109375 2.78125 \r\nQ 49.265625 0.734375 44.1875 -0.34375 \r\nQ 39.109375 -1.421875 33.890625 -1.421875 \r\nQ 20.796875 -1.421875 13.15625 6.1875 \r\nQ 5.515625 13.8125 5.515625 26.8125 \r\nQ 5.515625 40.234375 12.765625 48.109375 \r\nQ 20.015625 56 32.328125 56 \r\nQ 43.359375 56 49.78125 48.890625 \r\nQ 56.203125 41.796875 56.203125 29.59375 \r\nz\r\nM 47.21875 32.234375 \r\nQ 47.125 39.59375 43.09375 43.984375 \r\nQ 39.0625 48.390625 32.421875 48.390625 \r\nQ 24.90625 48.390625 20.390625 44.140625 \r\nQ 15.875 39.890625 15.1875 32.171875 \r\nz\r\n\" id=\"DejaVuSans-101\"/>\r\n      <path id=\"DejaVuSans-32\"/>\r\n      <path d=\"M 18.109375 8.203125 \r\nL 18.109375 -20.796875 \r\nL 9.078125 -20.796875 \r\nL 9.078125 54.6875 \r\nL 18.109375 54.6875 \r\nL 18.109375 46.390625 \r\nQ 20.953125 51.265625 25.265625 53.625 \r\nQ 29.59375 56 35.59375 56 \r\nQ 45.5625 56 51.78125 48.09375 \r\nQ 58.015625 40.1875 58.015625 27.296875 \r\nQ 58.015625 14.40625 51.78125 6.484375 \r\nQ 45.5625 -1.421875 35.59375 -1.421875 \r\nQ 29.59375 -1.421875 25.265625 0.953125 \r\nQ 20.953125 3.328125 18.109375 8.203125 \r\nz\r\nM 48.6875 27.296875 \r\nQ 48.6875 37.203125 44.609375 42.84375 \r\nQ 40.53125 48.484375 33.40625 48.484375 \r\nQ 26.265625 48.484375 22.1875 42.84375 \r\nQ 18.109375 37.203125 18.109375 27.296875 \r\nQ 18.109375 17.390625 22.1875 11.75 \r\nQ 26.265625 6.109375 33.40625 6.109375 \r\nQ 40.53125 6.109375 44.609375 11.75 \r\nQ 48.6875 17.390625 48.6875 27.296875 \r\nz\r\n\" id=\"DejaVuSans-112\"/>\r\n      <path d=\"M 30.609375 48.390625 \r\nQ 23.390625 48.390625 19.1875 42.75 \r\nQ 14.984375 37.109375 14.984375 27.296875 \r\nQ 14.984375 17.484375 19.15625 11.84375 \r\nQ 23.34375 6.203125 30.609375 6.203125 \r\nQ 37.796875 6.203125 41.984375 11.859375 \r\nQ 46.1875 17.53125 46.1875 27.296875 \r\nQ 46.1875 37.015625 41.984375 42.703125 \r\nQ 37.796875 48.390625 30.609375 48.390625 \r\nz\r\nM 30.609375 56 \r\nQ 42.328125 56 49.015625 48.375 \r\nQ 55.71875 40.765625 55.71875 27.296875 \r\nQ 55.71875 13.875 49.015625 6.21875 \r\nQ 42.328125 -1.421875 30.609375 -1.421875 \r\nQ 18.84375 -1.421875 12.171875 6.21875 \r\nQ 5.515625 13.875 5.515625 27.296875 \r\nQ 5.515625 40.765625 12.171875 48.375 \r\nQ 18.84375 56 30.609375 56 \r\nz\r\n\" id=\"DejaVuSans-111\"/>\r\n      <path d=\"M 9.421875 54.6875 \r\nL 18.40625 54.6875 \r\nL 18.40625 0 \r\nL 9.421875 0 \r\nz\r\nM 9.421875 75.984375 \r\nL 18.40625 75.984375 \r\nL 18.40625 64.59375 \r\nL 9.421875 64.59375 \r\nz\r\n\" id=\"DejaVuSans-105\"/>\r\n      <path d=\"M 18.3125 70.21875 \r\nL 18.3125 54.6875 \r\nL 36.8125 54.6875 \r\nL 36.8125 47.703125 \r\nL 18.3125 47.703125 \r\nL 18.3125 18.015625 \r\nQ 18.3125 11.328125 20.140625 9.421875 \r\nQ 21.96875 7.515625 27.59375 7.515625 \r\nL 36.8125 7.515625 \r\nL 36.8125 0 \r\nL 27.59375 0 \r\nQ 17.1875 0 13.234375 3.875 \r\nQ 9.28125 7.765625 9.28125 18.015625 \r\nL 9.28125 47.703125 \r\nL 2.6875 47.703125 \r\nL 2.6875 54.6875 \r\nL 9.28125 54.6875 \r\nL 9.28125 70.21875 \r\nz\r\n\" id=\"DejaVuSans-116\"/>\r\n      <path d=\"M 2.984375 54.6875 \r\nL 12.5 54.6875 \r\nL 29.59375 8.796875 \r\nL 46.6875 54.6875 \r\nL 56.203125 54.6875 \r\nL 35.6875 0 \r\nL 23.484375 0 \r\nz\r\n\" id=\"DejaVuSans-118\"/>\r\n      <path d=\"M 8.59375 75.984375 \r\nL 29.296875 75.984375 \r\nL 29.296875 69 \r\nL 17.578125 69 \r\nL 17.578125 -6.203125 \r\nL 29.296875 -6.203125 \r\nL 29.296875 -13.1875 \r\nL 8.59375 -13.1875 \r\nz\r\n\" id=\"DejaVuSans-91\"/>\r\n      <path d=\"M 72.703125 32.078125 \r\nQ 68.453125 32.078125 66.03125 28.46875 \r\nQ 63.625 24.859375 63.625 18.40625 \r\nQ 63.625 12.0625 66.03125 8.421875 \r\nQ 68.453125 4.78125 72.703125 4.78125 \r\nQ 76.859375 4.78125 79.265625 8.421875 \r\nQ 81.6875 12.0625 81.6875 18.40625 \r\nQ 81.6875 24.8125 79.265625 28.4375 \r\nQ 76.859375 32.078125 72.703125 32.078125 \r\nz\r\nM 72.703125 38.28125 \r\nQ 80.421875 38.28125 84.953125 32.90625 \r\nQ 89.5 27.546875 89.5 18.40625 \r\nQ 89.5 9.28125 84.9375 3.921875 \r\nQ 80.375 -1.421875 72.703125 -1.421875 \r\nQ 64.890625 -1.421875 60.34375 3.921875 \r\nQ 55.8125 9.28125 55.8125 18.40625 \r\nQ 55.8125 27.59375 60.375 32.9375 \r\nQ 64.9375 38.28125 72.703125 38.28125 \r\nz\r\nM 22.3125 68.015625 \r\nQ 18.109375 68.015625 15.6875 64.375 \r\nQ 13.28125 60.75 13.28125 54.390625 \r\nQ 13.28125 47.953125 15.671875 44.328125 \r\nQ 18.0625 40.71875 22.3125 40.71875 \r\nQ 26.5625 40.71875 28.96875 44.328125 \r\nQ 31.390625 47.953125 31.390625 54.390625 \r\nQ 31.390625 60.6875 28.953125 64.34375 \r\nQ 26.515625 68.015625 22.3125 68.015625 \r\nz\r\nM 66.40625 74.21875 \r\nL 74.21875 74.21875 \r\nL 28.609375 -1.421875 \r\nL 20.796875 -1.421875 \r\nz\r\nM 22.3125 74.21875 \r\nQ 30.03125 74.21875 34.609375 68.875 \r\nQ 39.203125 63.53125 39.203125 54.390625 \r\nQ 39.203125 45.171875 34.640625 39.84375 \r\nQ 30.078125 34.515625 22.3125 34.515625 \r\nQ 14.546875 34.515625 10.03125 39.859375 \r\nQ 5.515625 45.21875 5.515625 54.390625 \r\nQ 5.515625 63.484375 10.046875 68.84375 \r\nQ 14.59375 74.21875 22.3125 74.21875 \r\nz\r\n\" id=\"DejaVuSans-37\"/>\r\n      <path d=\"M 30.421875 75.984375 \r\nL 30.421875 -13.1875 \r\nL 9.71875 -13.1875 \r\nL 9.71875 -6.203125 \r\nL 21.390625 -6.203125 \r\nL 21.390625 69 \r\nL 9.71875 69 \r\nL 9.71875 75.984375 \r\nz\r\n\" id=\"DejaVuSans-93\"/>\r\n     </defs>\r\n     <g transform=\"translate(118.624687 252.916563)scale(0.1 -0.1)\">\r\n      <use xlink:href=\"#DejaVuSans-70\"/>\r\n      <use x=\"48.394531\" xlink:href=\"#DejaVuSans-97\"/>\r\n      <use x=\"109.673828\" xlink:href=\"#DejaVuSans-108\"/>\r\n      <use x=\"137.457031\" xlink:href=\"#DejaVuSans-115\"/>\r\n      <use x=\"189.556641\" xlink:href=\"#DejaVuSans-101\"/>\r\n      <use x=\"251.080078\" xlink:href=\"#DejaVuSans-32\"/>\r\n      <use x=\"282.867188\" xlink:href=\"#DejaVuSans-112\"/>\r\n      <use x=\"346.34375\" xlink:href=\"#DejaVuSans-111\"/>\r\n      <use x=\"407.525391\" xlink:href=\"#DejaVuSans-115\"/>\r\n      <use x=\"459.625\" xlink:href=\"#DejaVuSans-105\"/>\r\n      <use x=\"487.408203\" xlink:href=\"#DejaVuSans-116\"/>\r\n      <use x=\"526.617188\" xlink:href=\"#DejaVuSans-105\"/>\r\n      <use x=\"554.400391\" xlink:href=\"#DejaVuSans-118\"/>\r\n      <use x=\"613.580078\" xlink:href=\"#DejaVuSans-101\"/>\r\n      <use x=\"675.103516\" xlink:href=\"#DejaVuSans-115\"/>\r\n      <use x=\"727.203125\" xlink:href=\"#DejaVuSans-32\"/>\r\n      <use x=\"758.990234\" xlink:href=\"#DejaVuSans-91\"/>\r\n      <use x=\"798.003906\" xlink:href=\"#DejaVuSans-37\"/>\r\n      <use x=\"893.023438\" xlink:href=\"#DejaVuSans-93\"/>\r\n     </g>\r\n    </g>\r\n   </g>\r\n   <g id=\"matplotlib.axis_2\">\r\n    <g id=\"ytick_1\">\r\n     <g id=\"line2d_11\">\r\n      <path clip-path=\"url(#p6f1b89372f)\" d=\"M 56.50625 224.64 \r\nL 273.94625 224.64 \r\n\" style=\"fill:none;stroke:#b0b0b0;stroke-linecap:square;stroke-width:0.8;\"/>\r\n     </g>\r\n     <g id=\"line2d_12\">\r\n      <defs>\r\n       <path d=\"M 0 0 \r\nL -3.5 0 \r\n\" id=\"m974ee0dae6\" style=\"stroke:#000000;stroke-width:0.8;\"/>\r\n      </defs>\r\n      <g>\r\n       <use style=\"stroke:#000000;stroke-width:0.8;\" x=\"56.50625\" xlink:href=\"#m974ee0dae6\" y=\"224.64\"/>\r\n      </g>\r\n     </g>\r\n     <g id=\"text_7\">\r\n      <!-- 80.0 -->\r\n      <defs>\r\n       <path d=\"M 31.78125 34.625 \r\nQ 24.75 34.625 20.71875 30.859375 \r\nQ 16.703125 27.09375 16.703125 20.515625 \r\nQ 16.703125 13.921875 20.71875 10.15625 \r\nQ 24.75 6.390625 31.78125 6.390625 \r\nQ 38.8125 6.390625 42.859375 10.171875 \r\nQ 46.921875 13.96875 46.921875 20.515625 \r\nQ 46.921875 27.09375 42.890625 30.859375 \r\nQ 38.875 34.625 31.78125 34.625 \r\nz\r\nM 21.921875 38.8125 \r\nQ 15.578125 40.375 12.03125 44.71875 \r\nQ 8.5 49.078125 8.5 55.328125 \r\nQ 8.5 64.0625 14.71875 69.140625 \r\nQ 20.953125 74.21875 31.78125 74.21875 \r\nQ 42.671875 74.21875 48.875 69.140625 \r\nQ 55.078125 64.0625 55.078125 55.328125 \r\nQ 55.078125 49.078125 51.53125 44.71875 \r\nQ 48 40.375 41.703125 38.8125 \r\nQ 48.828125 37.15625 52.796875 32.3125 \r\nQ 56.78125 27.484375 56.78125 20.515625 \r\nQ 56.78125 9.90625 50.3125 4.234375 \r\nQ 43.84375 -1.421875 31.78125 -1.421875 \r\nQ 19.734375 -1.421875 13.25 4.234375 \r\nQ 6.78125 9.90625 6.78125 20.515625 \r\nQ 6.78125 27.484375 10.78125 32.3125 \r\nQ 14.796875 37.15625 21.921875 38.8125 \r\nz\r\nM 18.3125 54.390625 \r\nQ 18.3125 48.734375 21.84375 45.5625 \r\nQ 25.390625 42.390625 31.78125 42.390625 \r\nQ 38.140625 42.390625 41.71875 45.5625 \r\nQ 45.3125 48.734375 45.3125 54.390625 \r\nQ 45.3125 60.0625 41.71875 63.234375 \r\nQ 38.140625 66.40625 31.78125 66.40625 \r\nQ 25.390625 66.40625 21.84375 63.234375 \r\nQ 18.3125 60.0625 18.3125 54.390625 \r\nz\r\n\" id=\"DejaVuSans-56\"/>\r\n       <path d=\"M 10.6875 12.40625 \r\nL 21 12.40625 \r\nL 21 0 \r\nL 10.6875 0 \r\nz\r\n\" id=\"DejaVuSans-46\"/>\r\n      </defs>\r\n      <g transform=\"translate(27.240625 228.439219)scale(0.1 -0.1)\">\r\n       <use xlink:href=\"#DejaVuSans-56\"/>\r\n       <use x=\"63.623047\" xlink:href=\"#DejaVuSans-48\"/>\r\n       <use x=\"127.246094\" xlink:href=\"#DejaVuSans-46\"/>\r\n       <use x=\"159.033203\" xlink:href=\"#DejaVuSans-48\"/>\r\n      </g>\r\n     </g>\r\n    </g>\r\n    <g id=\"ytick_2\">\r\n     <g id=\"line2d_13\">\r\n      <path clip-path=\"url(#p6f1b89372f)\" d=\"M 56.50625 198.122927 \r\nL 273.94625 198.122927 \r\n\" style=\"fill:none;stroke:#b0b0b0;stroke-linecap:square;stroke-width:0.8;\"/>\r\n     </g>\r\n     <g id=\"line2d_14\">\r\n      <g>\r\n       <use style=\"stroke:#000000;stroke-width:0.8;\" x=\"56.50625\" xlink:href=\"#m974ee0dae6\" y=\"198.122927\"/>\r\n      </g>\r\n     </g>\r\n     <g id=\"text_8\">\r\n      <!-- 82.5 -->\r\n      <g transform=\"translate(27.240625 201.922146)scale(0.1 -0.1)\">\r\n       <use xlink:href=\"#DejaVuSans-56\"/>\r\n       <use x=\"63.623047\" xlink:href=\"#DejaVuSans-50\"/>\r\n       <use x=\"127.246094\" xlink:href=\"#DejaVuSans-46\"/>\r\n       <use x=\"159.033203\" xlink:href=\"#DejaVuSans-53\"/>\r\n      </g>\r\n     </g>\r\n    </g>\r\n    <g id=\"ytick_3\">\r\n     <g id=\"line2d_15\">\r\n      <path clip-path=\"url(#p6f1b89372f)\" d=\"M 56.50625 171.605854 \r\nL 273.94625 171.605854 \r\n\" style=\"fill:none;stroke:#b0b0b0;stroke-linecap:square;stroke-width:0.8;\"/>\r\n     </g>\r\n     <g id=\"line2d_16\">\r\n      <g>\r\n       <use style=\"stroke:#000000;stroke-width:0.8;\" x=\"56.50625\" xlink:href=\"#m974ee0dae6\" y=\"171.605854\"/>\r\n      </g>\r\n     </g>\r\n     <g id=\"text_9\">\r\n      <!-- 85.0 -->\r\n      <g transform=\"translate(27.240625 175.405072)scale(0.1 -0.1)\">\r\n       <use xlink:href=\"#DejaVuSans-56\"/>\r\n       <use x=\"63.623047\" xlink:href=\"#DejaVuSans-53\"/>\r\n       <use x=\"127.246094\" xlink:href=\"#DejaVuSans-46\"/>\r\n       <use x=\"159.033203\" xlink:href=\"#DejaVuSans-48\"/>\r\n      </g>\r\n     </g>\r\n    </g>\r\n    <g id=\"ytick_4\">\r\n     <g id=\"line2d_17\">\r\n      <path clip-path=\"url(#p6f1b89372f)\" d=\"M 56.50625 145.08878 \r\nL 273.94625 145.08878 \r\n\" style=\"fill:none;stroke:#b0b0b0;stroke-linecap:square;stroke-width:0.8;\"/>\r\n     </g>\r\n     <g id=\"line2d_18\">\r\n      <g>\r\n       <use style=\"stroke:#000000;stroke-width:0.8;\" x=\"56.50625\" xlink:href=\"#m974ee0dae6\" y=\"145.08878\"/>\r\n      </g>\r\n     </g>\r\n     <g id=\"text_10\">\r\n      <!-- 87.5 -->\r\n      <defs>\r\n       <path d=\"M 8.203125 72.90625 \r\nL 55.078125 72.90625 \r\nL 55.078125 68.703125 \r\nL 28.609375 0 \r\nL 18.3125 0 \r\nL 43.21875 64.59375 \r\nL 8.203125 64.59375 \r\nz\r\n\" id=\"DejaVuSans-55\"/>\r\n      </defs>\r\n      <g transform=\"translate(27.240625 148.887999)scale(0.1 -0.1)\">\r\n       <use xlink:href=\"#DejaVuSans-56\"/>\r\n       <use x=\"63.623047\" xlink:href=\"#DejaVuSans-55\"/>\r\n       <use x=\"127.246094\" xlink:href=\"#DejaVuSans-46\"/>\r\n       <use x=\"159.033203\" xlink:href=\"#DejaVuSans-53\"/>\r\n      </g>\r\n     </g>\r\n    </g>\r\n    <g id=\"ytick_5\">\r\n     <g id=\"line2d_19\">\r\n      <path clip-path=\"url(#p6f1b89372f)\" d=\"M 56.50625 118.571707 \r\nL 273.94625 118.571707 \r\n\" style=\"fill:none;stroke:#b0b0b0;stroke-linecap:square;stroke-width:0.8;\"/>\r\n     </g>\r\n     <g id=\"line2d_20\">\r\n      <g>\r\n       <use style=\"stroke:#000000;stroke-width:0.8;\" x=\"56.50625\" xlink:href=\"#m974ee0dae6\" y=\"118.571707\"/>\r\n      </g>\r\n     </g>\r\n     <g id=\"text_11\">\r\n      <!-- 90.0 -->\r\n      <defs>\r\n       <path d=\"M 10.984375 1.515625 \r\nL 10.984375 10.5 \r\nQ 14.703125 8.734375 18.5 7.8125 \r\nQ 22.3125 6.890625 25.984375 6.890625 \r\nQ 35.75 6.890625 40.890625 13.453125 \r\nQ 46.046875 20.015625 46.78125 33.40625 \r\nQ 43.953125 29.203125 39.59375 26.953125 \r\nQ 35.25 24.703125 29.984375 24.703125 \r\nQ 19.046875 24.703125 12.671875 31.3125 \r\nQ 6.296875 37.9375 6.296875 49.421875 \r\nQ 6.296875 60.640625 12.9375 67.421875 \r\nQ 19.578125 74.21875 30.609375 74.21875 \r\nQ 43.265625 74.21875 49.921875 64.515625 \r\nQ 56.59375 54.828125 56.59375 36.375 \r\nQ 56.59375 19.140625 48.40625 8.859375 \r\nQ 40.234375 -1.421875 26.421875 -1.421875 \r\nQ 22.703125 -1.421875 18.890625 -0.6875 \r\nQ 15.09375 0.046875 10.984375 1.515625 \r\nz\r\nM 30.609375 32.421875 \r\nQ 37.25 32.421875 41.125 36.953125 \r\nQ 45.015625 41.5 45.015625 49.421875 \r\nQ 45.015625 57.28125 41.125 61.84375 \r\nQ 37.25 66.40625 30.609375 66.40625 \r\nQ 23.96875 66.40625 20.09375 61.84375 \r\nQ 16.21875 57.28125 16.21875 49.421875 \r\nQ 16.21875 41.5 20.09375 36.953125 \r\nQ 23.96875 32.421875 30.609375 32.421875 \r\nz\r\n\" id=\"DejaVuSans-57\"/>\r\n      </defs>\r\n      <g transform=\"translate(27.240625 122.370926)scale(0.1 -0.1)\">\r\n       <use xlink:href=\"#DejaVuSans-57\"/>\r\n       <use x=\"63.623047\" xlink:href=\"#DejaVuSans-48\"/>\r\n       <use x=\"127.246094\" xlink:href=\"#DejaVuSans-46\"/>\r\n       <use x=\"159.033203\" xlink:href=\"#DejaVuSans-48\"/>\r\n      </g>\r\n     </g>\r\n    </g>\r\n    <g id=\"ytick_6\">\r\n     <g id=\"line2d_21\">\r\n      <path clip-path=\"url(#p6f1b89372f)\" d=\"M 56.50625 92.054634 \r\nL 273.94625 92.054634 \r\n\" style=\"fill:none;stroke:#b0b0b0;stroke-linecap:square;stroke-width:0.8;\"/>\r\n     </g>\r\n     <g id=\"line2d_22\">\r\n      <g>\r\n       <use style=\"stroke:#000000;stroke-width:0.8;\" x=\"56.50625\" xlink:href=\"#m974ee0dae6\" y=\"92.054634\"/>\r\n      </g>\r\n     </g>\r\n     <g id=\"text_12\">\r\n      <!-- 92.5 -->\r\n      <g transform=\"translate(27.240625 95.853853)scale(0.1 -0.1)\">\r\n       <use xlink:href=\"#DejaVuSans-57\"/>\r\n       <use x=\"63.623047\" xlink:href=\"#DejaVuSans-50\"/>\r\n       <use x=\"127.246094\" xlink:href=\"#DejaVuSans-46\"/>\r\n       <use x=\"159.033203\" xlink:href=\"#DejaVuSans-53\"/>\r\n      </g>\r\n     </g>\r\n    </g>\r\n    <g id=\"ytick_7\">\r\n     <g id=\"line2d_23\">\r\n      <path clip-path=\"url(#p6f1b89372f)\" d=\"M 56.50625 65.537561 \r\nL 273.94625 65.537561 \r\n\" style=\"fill:none;stroke:#b0b0b0;stroke-linecap:square;stroke-width:0.8;\"/>\r\n     </g>\r\n     <g id=\"line2d_24\">\r\n      <g>\r\n       <use style=\"stroke:#000000;stroke-width:0.8;\" x=\"56.50625\" xlink:href=\"#m974ee0dae6\" y=\"65.537561\"/>\r\n      </g>\r\n     </g>\r\n     <g id=\"text_13\">\r\n      <!-- 95.0 -->\r\n      <g transform=\"translate(27.240625 69.33678)scale(0.1 -0.1)\">\r\n       <use xlink:href=\"#DejaVuSans-57\"/>\r\n       <use x=\"63.623047\" xlink:href=\"#DejaVuSans-53\"/>\r\n       <use x=\"127.246094\" xlink:href=\"#DejaVuSans-46\"/>\r\n       <use x=\"159.033203\" xlink:href=\"#DejaVuSans-48\"/>\r\n      </g>\r\n     </g>\r\n    </g>\r\n    <g id=\"ytick_8\">\r\n     <g id=\"line2d_25\">\r\n      <path clip-path=\"url(#p6f1b89372f)\" d=\"M 56.50625 39.020488 \r\nL 273.94625 39.020488 \r\n\" style=\"fill:none;stroke:#b0b0b0;stroke-linecap:square;stroke-width:0.8;\"/>\r\n     </g>\r\n     <g id=\"line2d_26\">\r\n      <g>\r\n       <use style=\"stroke:#000000;stroke-width:0.8;\" x=\"56.50625\" xlink:href=\"#m974ee0dae6\" y=\"39.020488\"/>\r\n      </g>\r\n     </g>\r\n     <g id=\"text_14\">\r\n      <!-- 97.5 -->\r\n      <g transform=\"translate(27.240625 42.819707)scale(0.1 -0.1)\">\r\n       <use xlink:href=\"#DejaVuSans-57\"/>\r\n       <use x=\"63.623047\" xlink:href=\"#DejaVuSans-55\"/>\r\n       <use x=\"127.246094\" xlink:href=\"#DejaVuSans-46\"/>\r\n       <use x=\"159.033203\" xlink:href=\"#DejaVuSans-53\"/>\r\n      </g>\r\n     </g>\r\n    </g>\r\n    <g id=\"ytick_9\">\r\n     <g id=\"line2d_27\">\r\n      <path clip-path=\"url(#p6f1b89372f)\" d=\"M 56.50625 12.503415 \r\nL 273.94625 12.503415 \r\n\" style=\"fill:none;stroke:#b0b0b0;stroke-linecap:square;stroke-width:0.8;\"/>\r\n     </g>\r\n     <g id=\"line2d_28\">\r\n      <g>\r\n       <use style=\"stroke:#000000;stroke-width:0.8;\" x=\"56.50625\" xlink:href=\"#m974ee0dae6\" y=\"12.503415\"/>\r\n      </g>\r\n     </g>\r\n     <g id=\"text_15\">\r\n      <!-- 100.0 -->\r\n      <g transform=\"translate(20.878125 16.302633)scale(0.1 -0.1)\">\r\n       <use xlink:href=\"#DejaVuSans-49\"/>\r\n       <use x=\"63.623047\" xlink:href=\"#DejaVuSans-48\"/>\r\n       <use x=\"127.246094\" xlink:href=\"#DejaVuSans-48\"/>\r\n       <use x=\"190.869141\" xlink:href=\"#DejaVuSans-46\"/>\r\n       <use x=\"222.65625\" xlink:href=\"#DejaVuSans-48\"/>\r\n      </g>\r\n     </g>\r\n    </g>\r\n    <g id=\"text_16\">\r\n     <!-- True positives [%] -->\r\n     <defs>\r\n      <path d=\"M -0.296875 72.90625 \r\nL 61.375 72.90625 \r\nL 61.375 64.59375 \r\nL 35.5 64.59375 \r\nL 35.5 0 \r\nL 25.59375 0 \r\nL 25.59375 64.59375 \r\nL -0.296875 64.59375 \r\nz\r\n\" id=\"DejaVuSans-84\"/>\r\n      <path d=\"M 41.109375 46.296875 \r\nQ 39.59375 47.171875 37.8125 47.578125 \r\nQ 36.03125 48 33.890625 48 \r\nQ 26.265625 48 22.1875 43.046875 \r\nQ 18.109375 38.09375 18.109375 28.8125 \r\nL 18.109375 0 \r\nL 9.078125 0 \r\nL 9.078125 54.6875 \r\nL 18.109375 54.6875 \r\nL 18.109375 46.1875 \r\nQ 20.953125 51.171875 25.484375 53.578125 \r\nQ 30.03125 56 36.53125 56 \r\nQ 37.453125 56 38.578125 55.875 \r\nQ 39.703125 55.765625 41.0625 55.515625 \r\nz\r\n\" id=\"DejaVuSans-114\"/>\r\n      <path d=\"M 8.5 21.578125 \r\nL 8.5 54.6875 \r\nL 17.484375 54.6875 \r\nL 17.484375 21.921875 \r\nQ 17.484375 14.15625 20.5 10.265625 \r\nQ 23.53125 6.390625 29.59375 6.390625 \r\nQ 36.859375 6.390625 41.078125 11.03125 \r\nQ 45.3125 15.671875 45.3125 23.6875 \r\nL 45.3125 54.6875 \r\nL 54.296875 54.6875 \r\nL 54.296875 0 \r\nL 45.3125 0 \r\nL 45.3125 8.40625 \r\nQ 42.046875 3.421875 37.71875 1 \r\nQ 33.40625 -1.421875 27.6875 -1.421875 \r\nQ 18.265625 -1.421875 13.375 4.4375 \r\nQ 8.5 10.296875 8.5 21.578125 \r\nz\r\nM 31.109375 56 \r\nz\r\n\" id=\"DejaVuSans-117\"/>\r\n     </defs>\r\n     <g transform=\"translate(14.798438 160.584844)rotate(-90)scale(0.1 -0.1)\">\r\n      <use xlink:href=\"#DejaVuSans-84\"/>\r\n      <use x=\"46.333984\" xlink:href=\"#DejaVuSans-114\"/>\r\n      <use x=\"87.447266\" xlink:href=\"#DejaVuSans-117\"/>\r\n      <use x=\"150.826172\" xlink:href=\"#DejaVuSans-101\"/>\r\n      <use x=\"212.349609\" xlink:href=\"#DejaVuSans-32\"/>\r\n      <use x=\"244.136719\" xlink:href=\"#DejaVuSans-112\"/>\r\n      <use x=\"307.613281\" xlink:href=\"#DejaVuSans-111\"/>\r\n      <use x=\"368.794922\" xlink:href=\"#DejaVuSans-115\"/>\r\n      <use x=\"420.894531\" xlink:href=\"#DejaVuSans-105\"/>\r\n      <use x=\"448.677734\" xlink:href=\"#DejaVuSans-116\"/>\r\n      <use x=\"487.886719\" xlink:href=\"#DejaVuSans-105\"/>\r\n      <use x=\"515.669922\" xlink:href=\"#DejaVuSans-118\"/>\r\n      <use x=\"574.849609\" xlink:href=\"#DejaVuSans-101\"/>\r\n      <use x=\"636.373047\" xlink:href=\"#DejaVuSans-115\"/>\r\n      <use x=\"688.472656\" xlink:href=\"#DejaVuSans-32\"/>\r\n      <use x=\"720.259766\" xlink:href=\"#DejaVuSans-91\"/>\r\n      <use x=\"759.273438\" xlink:href=\"#DejaVuSans-37\"/>\r\n      <use x=\"854.292969\" xlink:href=\"#DejaVuSans-93\"/>\r\n     </g>\r\n    </g>\r\n   </g>\r\n   <g id=\"line2d_29\">\r\n    <path clip-path=\"url(#p6f1b89372f)\" d=\"M 62.118937 263.19625 \r\nL 62.226235 210.529998 \r\nL 62.232547 210.529998 \r\nL 62.339845 162.847921 \r\nL 62.346157 162.847921 \r\nL 62.440832 141.926194 \r\nL 62.459767 141.926194 \r\nL 62.567065 132.68171 \r\nL 62.586 132.68171 \r\nL 62.655429 122.950674 \r\nL 62.69961 122.950674 \r\nL 62.775351 115.165845 \r\nL 62.813221 115.165845 \r\nL 62.914207 107.867568 \r\nL 62.926831 107.867568 \r\nL 63.034129 101.542394 \r\nL 63.040441 101.542394 \r\nL 63.147739 97.64998 \r\nL 63.154051 97.64998 \r\nL 63.261349 90.838255 \r\nL 63.267661 90.838255 \r\nL 63.368648 84.513081 \r\nL 63.393895 84.513081 \r\nL 63.494881 79.647563 \r\nL 63.513816 79.647563 \r\nL 63.614803 75.755149 \r\nL 63.64005 75.755149 \r\nL 63.741037 73.32239 \r\nL 63.75366 73.32239 \r\nL 63.860958 69.916527 \r\nL 63.898828 69.916527 \r\nL 63.987192 64.564457 \r\nL 64.050308 64.564457 \r\nL 64.138672 62.131698 \r\nL 64.227035 62.131698 \r\nL 64.28384 60.185491 \r\nL 64.441632 60.185491 \r\nL 64.498437 57.26618 \r\nL 64.599424 57.26618 \r\nL 64.687787 54.833421 \r\nL 64.719346 54.833421 \r\nL 64.782463 53.860318 \r\nL 64.845579 53.860318 \r\nL 64.896073 52.887214 \r\nL 64.984436 52.887214 \r\nL 64.984436 52.400662 \r\nL 65.098046 52.400662 \r\nL 65.192721 50.941007 \r\nL 65.293708 50.941007 \r\nL 65.356825 49.967903 \r\nL 65.520928 49.967903 \r\nL 65.552487 48.508248 \r\nL 65.811265 48.508248 \r\nL 65.912252 46.562041 \r\nL 65.937499 46.562041 \r\nL 65.937499 46.075489 \r\nL 66.215212 46.075489 \r\nL 66.215212 45.588937 \r\nL 66.467679 45.588937 \r\nL 66.505549 44.615834 \r\nL 66.644406 44.615834 \r\nL 66.739081 43.156178 \r\nL 66.783263 43.156178 \r\nL 66.821133 41.696523 \r\nL 66.896873 41.696523 \r\nL 66.941055 40.236867 \r\nL 67.124093 40.236867 \r\nL 67.18721 39.263764 \r\nL 67.294508 39.263764 \r\nL 67.357625 37.804108 \r\nL 67.534352 37.804108 \r\nL 67.534352 37.317557 \r\nL 67.698455 37.317557 \r\nL 67.698455 36.344453 \r\nL 67.995104 36.344453 \r\nL 68.089779 35.371349 \r\nL 68.127649 35.371349 \r\nL 68.127649 34.884797 \r\nL 68.575778 34.884797 \r\nL 68.670453 33.425142 \r\nL 68.872427 33.425142 \r\nL 68.897673 31.965487 \r\nL 69.276374 31.965487 \r\nL 69.383672 30.505831 \r\nL 69.692944 30.505831 \r\nL 69.749749 29.532728 \r\nL 69.939099 29.532728 \r\nL 70.008528 28.559624 \r\nL 70.185254 28.559624 \r\nL 70.185254 28.073072 \r\nL 71.441277 28.073072 \r\nL 71.441277 27.58652 \r\nL 72.261795 27.58652 \r\nL 72.261795 27.099969 \r\nL 72.400652 27.099969 \r\nL 72.400652 26.613417 \r\nL 72.779352 26.613417 \r\nL 72.779352 26.126865 \r\nL 73.378961 26.126865 \r\nL 73.378961 25.640313 \r\nL 73.580934 25.640313 \r\nL 73.580934 25.153761 \r\nL 74.079557 25.153761 \r\nL 74.079557 24.66721 \r\nL 74.24366 24.66721 \r\nL 74.24366 24.180658 \r\nL 74.780152 24.180658 \r\nL 74.786464 23.207554 \r\nL 75.076801 23.207554 \r\nL 75.158853 21.747899 \r\nL 76.16872 21.747899 \r\nL 76.16872 21.261347 \r\nL 76.989238 21.261347 \r\nL 76.989238 20.774795 \r\nL 77.393185 20.774795 \r\nL 77.424743 19.801692 \r\nL 79.898919 19.801692 \r\nL 79.898919 19.31514 \r\nL 80.025152 19.31514 \r\nL 80.025152 18.828588 \r\nL 80.605826 18.828588 \r\nL 80.662631 17.855484 \r\nL 80.870917 17.855484 \r\nL 80.870917 17.368933 \r\nL 82.108004 17.368933 \r\nL 82.108004 16.882381 \r\nL 83.180989 16.882381 \r\nL 83.180989 16.395829 \r\nL 84.216103 16.395829 \r\nL 84.216103 15.909277 \r\nL 85.106049 15.909277 \r\nL 85.106049 15.422725 \r\nL 85.90132 15.422725 \r\nL 85.93919 14.449622 \r\nL 86.305267 14.449622 \r\nL 86.305267 13.96307 \r\nL 94.371585 13.96307 \r\nL 94.371585 13.476518 \r\nL 103.479329 13.476518 \r\nL 103.479329 12.989966 \r\nL 104.261976 12.989966 \r\nL 104.261976 12.503415 \r\nL 288.50875 12.503415 \r\nL 288.50875 12.503415 \r\n\" style=\"fill:none;stroke:#1f77b4;stroke-linecap:square;stroke-width:2;\"/>\r\n   </g>\r\n   <g id=\"patch_3\">\r\n    <path d=\"M 56.50625 224.64 \r\nL 56.50625 7.2 \r\n\" style=\"fill:none;stroke:#000000;stroke-linecap:square;stroke-linejoin:miter;stroke-width:0.8;\"/>\r\n   </g>\r\n   <g id=\"patch_4\">\r\n    <path d=\"M 273.94625 224.64 \r\nL 273.94625 7.2 \r\n\" style=\"fill:none;stroke:#000000;stroke-linecap:square;stroke-linejoin:miter;stroke-width:0.8;\"/>\r\n   </g>\r\n   <g id=\"patch_5\">\r\n    <path d=\"M 56.50625 224.64 \r\nL 273.94625 224.64 \r\n\" style=\"fill:none;stroke:#000000;stroke-linecap:square;stroke-linejoin:miter;stroke-width:0.8;\"/>\r\n   </g>\r\n   <g id=\"patch_6\">\r\n    <path d=\"M 56.50625 7.2 \r\nL 273.94625 7.2 \r\n\" style=\"fill:none;stroke:#000000;stroke-linecap:square;stroke-linejoin:miter;stroke-width:0.8;\"/>\r\n   </g>\r\n   <g id=\"legend_1\">\r\n    <g id=\"patch_7\">\r\n     <path d=\"M 164.95875 219.64 \r\nL 266.94625 219.64 \r\nQ 268.94625 219.64 268.94625 217.64 \r\nL 268.94625 203.961875 \r\nQ 268.94625 201.961875 266.94625 201.961875 \r\nL 164.95875 201.961875 \r\nQ 162.95875 201.961875 162.95875 203.961875 \r\nL 162.95875 217.64 \r\nQ 162.95875 219.64 164.95875 219.64 \r\nz\r\n\" style=\"fill:#ffffff;opacity:0.8;stroke:#cccccc;stroke-linejoin:miter;\"/>\r\n    </g>\r\n    <g id=\"line2d_30\">\r\n     <path d=\"M 166.95875 210.060313 \r\nL 186.95875 210.060313 \r\n\" style=\"fill:none;stroke:#1f77b4;stroke-linecap:square;stroke-width:2;\"/>\r\n    </g>\r\n    <g id=\"line2d_31\"/>\r\n    <g id=\"text_17\">\r\n     <!-- All Train Mean -->\r\n     <defs>\r\n      <path d=\"M 34.1875 63.1875 \r\nL 20.796875 26.90625 \r\nL 47.609375 26.90625 \r\nz\r\nM 28.609375 72.90625 \r\nL 39.796875 72.90625 \r\nL 67.578125 0 \r\nL 57.328125 0 \r\nL 50.6875 18.703125 \r\nL 17.828125 18.703125 \r\nL 11.1875 0 \r\nL 0.78125 0 \r\nz\r\n\" id=\"DejaVuSans-65\"/>\r\n      <path d=\"M 54.890625 33.015625 \r\nL 54.890625 0 \r\nL 45.90625 0 \r\nL 45.90625 32.71875 \r\nQ 45.90625 40.484375 42.875 44.328125 \r\nQ 39.84375 48.1875 33.796875 48.1875 \r\nQ 26.515625 48.1875 22.3125 43.546875 \r\nQ 18.109375 38.921875 18.109375 30.90625 \r\nL 18.109375 0 \r\nL 9.078125 0 \r\nL 9.078125 54.6875 \r\nL 18.109375 54.6875 \r\nL 18.109375 46.1875 \r\nQ 21.34375 51.125 25.703125 53.5625 \r\nQ 30.078125 56 35.796875 56 \r\nQ 45.21875 56 50.046875 50.171875 \r\nQ 54.890625 44.34375 54.890625 33.015625 \r\nz\r\n\" id=\"DejaVuSans-110\"/>\r\n      <path d=\"M 9.8125 72.90625 \r\nL 24.515625 72.90625 \r\nL 43.109375 23.296875 \r\nL 61.8125 72.90625 \r\nL 76.515625 72.90625 \r\nL 76.515625 0 \r\nL 66.890625 0 \r\nL 66.890625 64.015625 \r\nL 48.09375 14.015625 \r\nL 38.1875 14.015625 \r\nL 19.390625 64.015625 \r\nL 19.390625 0 \r\nL 9.8125 0 \r\nz\r\n\" id=\"DejaVuSans-77\"/>\r\n     </defs>\r\n     <g transform=\"translate(194.95875 213.560313)scale(0.1 -0.1)\">\r\n      <use xlink:href=\"#DejaVuSans-65\"/>\r\n      <use x=\"68.408203\" xlink:href=\"#DejaVuSans-108\"/>\r\n      <use x=\"96.191406\" xlink:href=\"#DejaVuSans-108\"/>\r\n      <use x=\"123.974609\" xlink:href=\"#DejaVuSans-32\"/>\r\n      <use x=\"155.761719\" xlink:href=\"#DejaVuSans-84\"/>\r\n      <use x=\"202.095703\" xlink:href=\"#DejaVuSans-114\"/>\r\n      <use x=\"243.208984\" xlink:href=\"#DejaVuSans-97\"/>\r\n      <use x=\"304.488281\" xlink:href=\"#DejaVuSans-105\"/>\r\n      <use x=\"332.271484\" xlink:href=\"#DejaVuSans-110\"/>\r\n      <use x=\"395.650391\" xlink:href=\"#DejaVuSans-32\"/>\r\n      <use x=\"427.4375\" xlink:href=\"#DejaVuSans-77\"/>\r\n      <use x=\"513.716797\" xlink:href=\"#DejaVuSans-101\"/>\r\n      <use x=\"575.240234\" xlink:href=\"#DejaVuSans-97\"/>\r\n      <use x=\"636.519531\" xlink:href=\"#DejaVuSans-110\"/>\r\n     </g>\r\n    </g>\r\n   </g>\r\n  </g>\r\n </g>\r\n <defs>\r\n  <clipPath id=\"p6f1b89372f\">\r\n   <rect height=\"217.44\" width=\"217.44\" x=\"56.50625\" y=\"7.2\"/>\r\n  </clipPath>\r\n </defs>\r\n</svg>\r\n",
      "image/png": "[encoded data removed]"
     },
     "metadata": {
      "needs_background": "light"
     }
    }
   ],
   "source": [
    "plot_roc(\"All Train Mean\", y_train_ori, y_train_predicted_mean)\n",
    "# plot_roc(\n",
    "#     \"All Train Any\", y_train_ori, y_train_predicted_any\n",
    "# )\n",
    "\n",
    "plt.legend(loc=\"lower right\")\n",
    "plt.show()"
   ]
  },
  {
   "cell_type": "code",
   "execution_count": 24,
   "metadata": {},
   "outputs": [],
   "source": [
    "from sklearn.metrics import (\n",
    "    accuracy_score,\n",
    "    confusion_matrix,\n",
    "    f1_score,\n",
    "    precision_score,\n",
    "    recall_score,\n",
    "    roc_auc_score,\n",
    ")\n",
    "\n",
    "\n",
    "def plot_cm(labels, predictions, p=0.5):\n",
    "    cm = confusion_matrix(labels, predictions > p)\n",
    "    acc = accuracy_score(labels, predictions > p)\n",
    "    prec = precision_score(labels, predictions > p)\n",
    "    recall = recall_score(labels, predictions > p)\n",
    "    f1 = f1_score(labels, predictions > p)\n",
    "    auc = roc_auc_score(labels, predictions)\n",
    "\n",
    "    plt.figure(figsize=(5, 5))\n",
    "    sns.heatmap(cm, annot=True, fmt=\"d\")\n",
    "    plt.title(\"Confusion matrix @{:.2f}\".format(p))\n",
    "    plt.ylabel(\"Actual label\")\n",
    "    plt.xlabel(\"Predicted label\")\n",
    "\n",
    "    print(\n",
    "        f\"Accuracy: {acc}\\nPrecision: {prec}\\nRecall: {recall}\\nF1: {f1}\\nAUC: {auc}\\n\"\n",
    "    )\n",
    "\n",
    "    print(\"Legitimate Transactions Detected (True Negatives): \", cm[0][0])\n",
    "    print(\"Legitimate Transactions Incorrectly Detected (False Positives): \", cm[0][1])\n",
    "    print(\"Fraudulent Transactions Missed (False Negatives): \", cm[1][0])\n",
    "    print(\"Fraudulent Transactions Detected (True Positives): \", cm[1][1])\n",
    "    print(\"Total Fraudulent Transactions: \", np.sum(cm[1]))"
   ]
  },
  {
   "cell_type": "code",
   "execution_count": 25,
   "metadata": {},
   "outputs": [
    {
     "output_type": "stream",
     "name": "stdout",
     "text": [
      "Accuracy: 0.9970216940510248\nPrecision: 0.9675796534376747\nRecall: 0.7940366972477064\nF1: 0.8722600151171579\nAUC: 0.999412533624158\n\nLegitimate Transactions Detected (True Negatives):  167993\nLegitimate Transactions Incorrectly Detected (False Positives):  58\nFraudulent Transactions Missed (False Negatives):  449\nFraudulent Transactions Detected (True Positives):  1731\nTotal Fraudulent Transactions:  2180\n"
     ]
    },
    {
     "output_type": "display_data",
     "data": {
      "text/plain": "<Figure size 360x360 with 2 Axes>",
      "image/svg+xml": "<?xml version=\"1.0\" encoding=\"utf-8\" standalone=\"no\"?>\r\n<!DOCTYPE svg PUBLIC \"-//W3C//DTD SVG 1.1//EN\"\r\n  \"http://www.w3.org/Graphics/SVG/1.1/DTD/svg11.dtd\">\r\n<!-- Created with matplotlib (https://matplotlib.org/) -->\r\n<svg height=\"331.674375pt\" version=\"1.1\" viewBox=\"0 0 340.67125 331.674375\" width=\"340.67125pt\" xmlns=\"http://www.w3.org/2000/svg\" xmlns:xlink=\"http://www.w3.org/1999/xlink\">\r\n <defs>\r\n  <style type=\"text/css\">\r\n*{stroke-linecap:butt;stroke-linejoin:round;}\r\n  </style>\r\n </defs>\r\n <g id=\"figure_1\">\r\n  <g id=\"patch_1\">\r\n   <path d=\"M 0 331.674375 \r\nL 340.67125 331.674375 \r\nL 340.67125 0 \r\nL 0 0 \r\nz\r\n\" style=\"fill:none;\"/>\r\n  </g>\r\n  <g id=\"axes_1\">\r\n   <g id=\"patch_2\">\r\n    <path d=\"M 37.55625 294.118125 \r\nL 260.75625 294.118125 \r\nL 260.75625 22.318125 \r\nL 37.55625 22.318125 \r\nz\r\n\" style=\"fill:#ffffff;\"/>\r\n   </g>\r\n   <g id=\"QuadMesh_1\">\r\n    <path clip-path=\"url(#p1582caa9c6)\" d=\"M 37.55625 22.318125 \r\nL 149.15625 22.318125 \r\nL 149.15625 158.218125 \r\nL 37.55625 158.218125 \r\nL 37.55625 22.318125 \r\n\" style=\"fill:#faebdd;\"/>\r\n    <path clip-path=\"url(#p1582caa9c6)\" d=\"M 149.15625 22.318125 \r\nL 260.75625 22.318125 \r\nL 260.75625 158.218125 \r\nL 149.15625 158.218125 \r\nL 149.15625 22.318125 \r\n\" style=\"fill:#03051a;\"/>\r\n    <path clip-path=\"url(#p1582caa9c6)\" d=\"M 37.55625 158.218125 \r\nL 149.15625 158.218125 \r\nL 149.15625 294.118125 \r\nL 37.55625 294.118125 \r\nL 37.55625 158.218125 \r\n\" style=\"fill:#03051a;\"/>\r\n    <path clip-path=\"url(#p1582caa9c6)\" d=\"M 149.15625 158.218125 \r\nL 260.75625 158.218125 \r\nL 260.75625 294.118125 \r\nL 149.15625 294.118125 \r\nL 149.15625 158.218125 \r\n\" style=\"fill:#05061b;\"/>\r\n   </g>\r\n   <g id=\"matplotlib.axis_1\">\r\n    <g id=\"xtick_1\">\r\n     <g id=\"line2d_1\">\r\n      <defs>\r\n       <path d=\"M 0 0 \r\nL 0 3.5 \r\n\" id=\"mb9f6952330\" style=\"stroke:#000000;stroke-width:0.8;\"/>\r\n      </defs>\r\n      <g>\r\n       <use style=\"stroke:#000000;stroke-width:0.8;\" x=\"93.35625\" xlink:href=\"#mb9f6952330\" y=\"294.118125\"/>\r\n      </g>\r\n     </g>\r\n     <g id=\"text_1\">\r\n      <!-- 0 -->\r\n      <defs>\r\n       <path d=\"M 31.78125 66.40625 \r\nQ 24.171875 66.40625 20.328125 58.90625 \r\nQ 16.5 51.421875 16.5 36.375 \r\nQ 16.5 21.390625 20.328125 13.890625 \r\nQ 24.171875 6.390625 31.78125 6.390625 \r\nQ 39.453125 6.390625 43.28125 13.890625 \r\nQ 47.125 21.390625 47.125 36.375 \r\nQ 47.125 51.421875 43.28125 58.90625 \r\nQ 39.453125 66.40625 31.78125 66.40625 \r\nz\r\nM 31.78125 74.21875 \r\nQ 44.046875 74.21875 50.515625 64.515625 \r\nQ 56.984375 54.828125 56.984375 36.375 \r\nQ 56.984375 17.96875 50.515625 8.265625 \r\nQ 44.046875 -1.421875 31.78125 -1.421875 \r\nQ 19.53125 -1.421875 13.0625 8.265625 \r\nQ 6.59375 17.96875 6.59375 36.375 \r\nQ 6.59375 54.828125 13.0625 64.515625 \r\nQ 19.53125 74.21875 31.78125 74.21875 \r\nz\r\n\" id=\"DejaVuSans-48\"/>\r\n      </defs>\r\n      <g transform=\"translate(90.175 308.716563)scale(0.1 -0.1)\">\r\n       <use xlink:href=\"#DejaVuSans-48\"/>\r\n      </g>\r\n     </g>\r\n    </g>\r\n    <g id=\"xtick_2\">\r\n     <g id=\"line2d_2\">\r\n      <g>\r\n       <use style=\"stroke:#000000;stroke-width:0.8;\" x=\"204.95625\" xlink:href=\"#mb9f6952330\" y=\"294.118125\"/>\r\n      </g>\r\n     </g>\r\n     <g id=\"text_2\">\r\n      <!-- 1 -->\r\n      <defs>\r\n       <path d=\"M 12.40625 8.296875 \r\nL 28.515625 8.296875 \r\nL 28.515625 63.921875 \r\nL 10.984375 60.40625 \r\nL 10.984375 69.390625 \r\nL 28.421875 72.90625 \r\nL 38.28125 72.90625 \r\nL 38.28125 8.296875 \r\nL 54.390625 8.296875 \r\nL 54.390625 0 \r\nL 12.40625 0 \r\nz\r\n\" id=\"DejaVuSans-49\"/>\r\n      </defs>\r\n      <g transform=\"translate(201.775 308.716563)scale(0.1 -0.1)\">\r\n       <use xlink:href=\"#DejaVuSans-49\"/>\r\n      </g>\r\n     </g>\r\n    </g>\r\n    <g id=\"text_3\">\r\n     <!-- Predicted label -->\r\n     <defs>\r\n      <path d=\"M 19.671875 64.796875 \r\nL 19.671875 37.40625 \r\nL 32.078125 37.40625 \r\nQ 38.96875 37.40625 42.71875 40.96875 \r\nQ 46.484375 44.53125 46.484375 51.125 \r\nQ 46.484375 57.671875 42.71875 61.234375 \r\nQ 38.96875 64.796875 32.078125 64.796875 \r\nz\r\nM 9.8125 72.90625 \r\nL 32.078125 72.90625 \r\nQ 44.34375 72.90625 50.609375 67.359375 \r\nQ 56.890625 61.8125 56.890625 51.125 \r\nQ 56.890625 40.328125 50.609375 34.8125 \r\nQ 44.34375 29.296875 32.078125 29.296875 \r\nL 19.671875 29.296875 \r\nL 19.671875 0 \r\nL 9.8125 0 \r\nz\r\n\" id=\"DejaVuSans-80\"/>\r\n      <path d=\"M 41.109375 46.296875 \r\nQ 39.59375 47.171875 37.8125 47.578125 \r\nQ 36.03125 48 33.890625 48 \r\nQ 26.265625 48 22.1875 43.046875 \r\nQ 18.109375 38.09375 18.109375 28.8125 \r\nL 18.109375 0 \r\nL 9.078125 0 \r\nL 9.078125 54.6875 \r\nL 18.109375 54.6875 \r\nL 18.109375 46.1875 \r\nQ 20.953125 51.171875 25.484375 53.578125 \r\nQ 30.03125 56 36.53125 56 \r\nQ 37.453125 56 38.578125 55.875 \r\nQ 39.703125 55.765625 41.0625 55.515625 \r\nz\r\n\" id=\"DejaVuSans-114\"/>\r\n      <path d=\"M 56.203125 29.59375 \r\nL 56.203125 25.203125 \r\nL 14.890625 25.203125 \r\nQ 15.484375 15.921875 20.484375 11.0625 \r\nQ 25.484375 6.203125 34.421875 6.203125 \r\nQ 39.59375 6.203125 44.453125 7.46875 \r\nQ 49.3125 8.734375 54.109375 11.28125 \r\nL 54.109375 2.78125 \r\nQ 49.265625 0.734375 44.1875 -0.34375 \r\nQ 39.109375 -1.421875 33.890625 -1.421875 \r\nQ 20.796875 -1.421875 13.15625 6.1875 \r\nQ 5.515625 13.8125 5.515625 26.8125 \r\nQ 5.515625 40.234375 12.765625 48.109375 \r\nQ 20.015625 56 32.328125 56 \r\nQ 43.359375 56 49.78125 48.890625 \r\nQ 56.203125 41.796875 56.203125 29.59375 \r\nz\r\nM 47.21875 32.234375 \r\nQ 47.125 39.59375 43.09375 43.984375 \r\nQ 39.0625 48.390625 32.421875 48.390625 \r\nQ 24.90625 48.390625 20.390625 44.140625 \r\nQ 15.875 39.890625 15.1875 32.171875 \r\nz\r\n\" id=\"DejaVuSans-101\"/>\r\n      <path d=\"M 45.40625 46.390625 \r\nL 45.40625 75.984375 \r\nL 54.390625 75.984375 \r\nL 54.390625 0 \r\nL 45.40625 0 \r\nL 45.40625 8.203125 \r\nQ 42.578125 3.328125 38.25 0.953125 \r\nQ 33.9375 -1.421875 27.875 -1.421875 \r\nQ 17.96875 -1.421875 11.734375 6.484375 \r\nQ 5.515625 14.40625 5.515625 27.296875 \r\nQ 5.515625 40.1875 11.734375 48.09375 \r\nQ 17.96875 56 27.875 56 \r\nQ 33.9375 56 38.25 53.625 \r\nQ 42.578125 51.265625 45.40625 46.390625 \r\nz\r\nM 14.796875 27.296875 \r\nQ 14.796875 17.390625 18.875 11.75 \r\nQ 22.953125 6.109375 30.078125 6.109375 \r\nQ 37.203125 6.109375 41.296875 11.75 \r\nQ 45.40625 17.390625 45.40625 27.296875 \r\nQ 45.40625 37.203125 41.296875 42.84375 \r\nQ 37.203125 48.484375 30.078125 48.484375 \r\nQ 22.953125 48.484375 18.875 42.84375 \r\nQ 14.796875 37.203125 14.796875 27.296875 \r\nz\r\n\" id=\"DejaVuSans-100\"/>\r\n      <path d=\"M 9.421875 54.6875 \r\nL 18.40625 54.6875 \r\nL 18.40625 0 \r\nL 9.421875 0 \r\nz\r\nM 9.421875 75.984375 \r\nL 18.40625 75.984375 \r\nL 18.40625 64.59375 \r\nL 9.421875 64.59375 \r\nz\r\n\" id=\"DejaVuSans-105\"/>\r\n      <path d=\"M 48.78125 52.59375 \r\nL 48.78125 44.1875 \r\nQ 44.96875 46.296875 41.140625 47.34375 \r\nQ 37.3125 48.390625 33.40625 48.390625 \r\nQ 24.65625 48.390625 19.8125 42.84375 \r\nQ 14.984375 37.3125 14.984375 27.296875 \r\nQ 14.984375 17.28125 19.8125 11.734375 \r\nQ 24.65625 6.203125 33.40625 6.203125 \r\nQ 37.3125 6.203125 41.140625 7.25 \r\nQ 44.96875 8.296875 48.78125 10.40625 \r\nL 48.78125 2.09375 \r\nQ 45.015625 0.34375 40.984375 -0.53125 \r\nQ 36.96875 -1.421875 32.421875 -1.421875 \r\nQ 20.0625 -1.421875 12.78125 6.34375 \r\nQ 5.515625 14.109375 5.515625 27.296875 \r\nQ 5.515625 40.671875 12.859375 48.328125 \r\nQ 20.21875 56 33.015625 56 \r\nQ 37.15625 56 41.109375 55.140625 \r\nQ 45.0625 54.296875 48.78125 52.59375 \r\nz\r\n\" id=\"DejaVuSans-99\"/>\r\n      <path d=\"M 18.3125 70.21875 \r\nL 18.3125 54.6875 \r\nL 36.8125 54.6875 \r\nL 36.8125 47.703125 \r\nL 18.3125 47.703125 \r\nL 18.3125 18.015625 \r\nQ 18.3125 11.328125 20.140625 9.421875 \r\nQ 21.96875 7.515625 27.59375 7.515625 \r\nL 36.8125 7.515625 \r\nL 36.8125 0 \r\nL 27.59375 0 \r\nQ 17.1875 0 13.234375 3.875 \r\nQ 9.28125 7.765625 9.28125 18.015625 \r\nL 9.28125 47.703125 \r\nL 2.6875 47.703125 \r\nL 2.6875 54.6875 \r\nL 9.28125 54.6875 \r\nL 9.28125 70.21875 \r\nz\r\n\" id=\"DejaVuSans-116\"/>\r\n      <path id=\"DejaVuSans-32\"/>\r\n      <path d=\"M 9.421875 75.984375 \r\nL 18.40625 75.984375 \r\nL 18.40625 0 \r\nL 9.421875 0 \r\nz\r\n\" id=\"DejaVuSans-108\"/>\r\n      <path d=\"M 34.28125 27.484375 \r\nQ 23.390625 27.484375 19.1875 25 \r\nQ 14.984375 22.515625 14.984375 16.5 \r\nQ 14.984375 11.71875 18.140625 8.90625 \r\nQ 21.296875 6.109375 26.703125 6.109375 \r\nQ 34.1875 6.109375 38.703125 11.40625 \r\nQ 43.21875 16.703125 43.21875 25.484375 \r\nL 43.21875 27.484375 \r\nz\r\nM 52.203125 31.203125 \r\nL 52.203125 0 \r\nL 43.21875 0 \r\nL 43.21875 8.296875 \r\nQ 40.140625 3.328125 35.546875 0.953125 \r\nQ 30.953125 -1.421875 24.3125 -1.421875 \r\nQ 15.921875 -1.421875 10.953125 3.296875 \r\nQ 6 8.015625 6 15.921875 \r\nQ 6 25.140625 12.171875 29.828125 \r\nQ 18.359375 34.515625 30.609375 34.515625 \r\nL 43.21875 34.515625 \r\nL 43.21875 35.40625 \r\nQ 43.21875 41.609375 39.140625 45 \r\nQ 35.0625 48.390625 27.6875 48.390625 \r\nQ 23 48.390625 18.546875 47.265625 \r\nQ 14.109375 46.140625 10.015625 43.890625 \r\nL 10.015625 52.203125 \r\nQ 14.9375 54.109375 19.578125 55.046875 \r\nQ 24.21875 56 28.609375 56 \r\nQ 40.484375 56 46.34375 49.84375 \r\nQ 52.203125 43.703125 52.203125 31.203125 \r\nz\r\n\" id=\"DejaVuSans-97\"/>\r\n      <path d=\"M 48.6875 27.296875 \r\nQ 48.6875 37.203125 44.609375 42.84375 \r\nQ 40.53125 48.484375 33.40625 48.484375 \r\nQ 26.265625 48.484375 22.1875 42.84375 \r\nQ 18.109375 37.203125 18.109375 27.296875 \r\nQ 18.109375 17.390625 22.1875 11.75 \r\nQ 26.265625 6.109375 33.40625 6.109375 \r\nQ 40.53125 6.109375 44.609375 11.75 \r\nQ 48.6875 17.390625 48.6875 27.296875 \r\nz\r\nM 18.109375 46.390625 \r\nQ 20.953125 51.265625 25.265625 53.625 \r\nQ 29.59375 56 35.59375 56 \r\nQ 45.5625 56 51.78125 48.09375 \r\nQ 58.015625 40.1875 58.015625 27.296875 \r\nQ 58.015625 14.40625 51.78125 6.484375 \r\nQ 45.5625 -1.421875 35.59375 -1.421875 \r\nQ 29.59375 -1.421875 25.265625 0.953125 \r\nQ 20.953125 3.328125 18.109375 8.203125 \r\nL 18.109375 0 \r\nL 9.078125 0 \r\nL 9.078125 75.984375 \r\nL 18.109375 75.984375 \r\nz\r\n\" id=\"DejaVuSans-98\"/>\r\n     </defs>\r\n     <g transform=\"translate(112.003906 322.394687)scale(0.1 -0.1)\">\r\n      <use xlink:href=\"#DejaVuSans-80\"/>\r\n      <use x=\"58.552734\" xlink:href=\"#DejaVuSans-114\"/>\r\n      <use x=\"97.416016\" xlink:href=\"#DejaVuSans-101\"/>\r\n      <use x=\"158.939453\" xlink:href=\"#DejaVuSans-100\"/>\r\n      <use x=\"222.416016\" xlink:href=\"#DejaVuSans-105\"/>\r\n      <use x=\"250.199219\" xlink:href=\"#DejaVuSans-99\"/>\r\n      <use x=\"305.179688\" xlink:href=\"#DejaVuSans-116\"/>\r\n      <use x=\"344.388672\" xlink:href=\"#DejaVuSans-101\"/>\r\n      <use x=\"405.912109\" xlink:href=\"#DejaVuSans-100\"/>\r\n      <use x=\"469.388672\" xlink:href=\"#DejaVuSans-32\"/>\r\n      <use x=\"501.175781\" xlink:href=\"#DejaVuSans-108\"/>\r\n      <use x=\"528.958984\" xlink:href=\"#DejaVuSans-97\"/>\r\n      <use x=\"590.238281\" xlink:href=\"#DejaVuSans-98\"/>\r\n      <use x=\"653.714844\" xlink:href=\"#DejaVuSans-101\"/>\r\n      <use x=\"715.238281\" xlink:href=\"#DejaVuSans-108\"/>\r\n     </g>\r\n    </g>\r\n   </g>\r\n   <g id=\"matplotlib.axis_2\">\r\n    <g id=\"ytick_1\">\r\n     <g id=\"line2d_3\">\r\n      <defs>\r\n       <path d=\"M 0 0 \r\nL -3.5 0 \r\n\" id=\"mfb4b7b0120\" style=\"stroke:#000000;stroke-width:0.8;\"/>\r\n      </defs>\r\n      <g>\r\n       <use style=\"stroke:#000000;stroke-width:0.8;\" x=\"37.55625\" xlink:href=\"#mfb4b7b0120\" y=\"90.268125\"/>\r\n      </g>\r\n     </g>\r\n     <g id=\"text_4\">\r\n      <!-- 0 -->\r\n      <g transform=\"translate(28.476563 92.831406)rotate(-90)scale(0.1 -0.1)\">\r\n       <use xlink:href=\"#DejaVuSans-48\"/>\r\n      </g>\r\n     </g>\r\n    </g>\r\n    <g id=\"ytick_2\">\r\n     <g id=\"line2d_4\">\r\n      <g>\r\n       <use style=\"stroke:#000000;stroke-width:0.8;\" x=\"37.55625\" xlink:href=\"#mfb4b7b0120\" y=\"226.168125\"/>\r\n      </g>\r\n     </g>\r\n     <g id=\"text_5\">\r\n      <!-- 1 -->\r\n      <g transform=\"translate(28.476563 228.731406)rotate(-90)scale(0.1 -0.1)\">\r\n       <use xlink:href=\"#DejaVuSans-49\"/>\r\n      </g>\r\n     </g>\r\n    </g>\r\n    <g id=\"text_6\">\r\n     <!-- Actual label -->\r\n     <defs>\r\n      <path d=\"M 34.1875 63.1875 \r\nL 20.796875 26.90625 \r\nL 47.609375 26.90625 \r\nz\r\nM 28.609375 72.90625 \r\nL 39.796875 72.90625 \r\nL 67.578125 0 \r\nL 57.328125 0 \r\nL 50.6875 18.703125 \r\nL 17.828125 18.703125 \r\nL 11.1875 0 \r\nL 0.78125 0 \r\nz\r\n\" id=\"DejaVuSans-65\"/>\r\n      <path d=\"M 8.5 21.578125 \r\nL 8.5 54.6875 \r\nL 17.484375 54.6875 \r\nL 17.484375 21.921875 \r\nQ 17.484375 14.15625 20.5 10.265625 \r\nQ 23.53125 6.390625 29.59375 6.390625 \r\nQ 36.859375 6.390625 41.078125 11.03125 \r\nQ 45.3125 15.671875 45.3125 23.6875 \r\nL 45.3125 54.6875 \r\nL 54.296875 54.6875 \r\nL 54.296875 0 \r\nL 45.3125 0 \r\nL 45.3125 8.40625 \r\nQ 42.046875 3.421875 37.71875 1 \r\nQ 33.40625 -1.421875 27.6875 -1.421875 \r\nQ 18.265625 -1.421875 13.375 4.4375 \r\nQ 8.5 10.296875 8.5 21.578125 \r\nz\r\nM 31.109375 56 \r\nz\r\n\" id=\"DejaVuSans-117\"/>\r\n     </defs>\r\n     <g transform=\"translate(14.798438 187.564219)rotate(-90)scale(0.1 -0.1)\">\r\n      <use xlink:href=\"#DejaVuSans-65\"/>\r\n      <use x=\"66.658203\" xlink:href=\"#DejaVuSans-99\"/>\r\n      <use x=\"121.638672\" xlink:href=\"#DejaVuSans-116\"/>\r\n      <use x=\"160.847656\" xlink:href=\"#DejaVuSans-117\"/>\r\n      <use x=\"224.226562\" xlink:href=\"#DejaVuSans-97\"/>\r\n      <use x=\"285.505859\" xlink:href=\"#DejaVuSans-108\"/>\r\n      <use x=\"313.289062\" xlink:href=\"#DejaVuSans-32\"/>\r\n      <use x=\"345.076172\" xlink:href=\"#DejaVuSans-108\"/>\r\n      <use x=\"372.859375\" xlink:href=\"#DejaVuSans-97\"/>\r\n      <use x=\"434.138672\" xlink:href=\"#DejaVuSans-98\"/>\r\n      <use x=\"497.615234\" xlink:href=\"#DejaVuSans-101\"/>\r\n      <use x=\"559.138672\" xlink:href=\"#DejaVuSans-108\"/>\r\n     </g>\r\n    </g>\r\n   </g>\r\n   <g id=\"text_7\">\r\n    <!-- 167993 -->\r\n    <defs>\r\n     <path d=\"M 33.015625 40.375 \r\nQ 26.375 40.375 22.484375 35.828125 \r\nQ 18.609375 31.296875 18.609375 23.390625 \r\nQ 18.609375 15.53125 22.484375 10.953125 \r\nQ 26.375 6.390625 33.015625 6.390625 \r\nQ 39.65625 6.390625 43.53125 10.953125 \r\nQ 47.40625 15.53125 47.40625 23.390625 \r\nQ 47.40625 31.296875 43.53125 35.828125 \r\nQ 39.65625 40.375 33.015625 40.375 \r\nz\r\nM 52.59375 71.296875 \r\nL 52.59375 62.3125 \r\nQ 48.875 64.0625 45.09375 64.984375 \r\nQ 41.3125 65.921875 37.59375 65.921875 \r\nQ 27.828125 65.921875 22.671875 59.328125 \r\nQ 17.53125 52.734375 16.796875 39.40625 \r\nQ 19.671875 43.65625 24.015625 45.921875 \r\nQ 28.375 48.1875 33.59375 48.1875 \r\nQ 44.578125 48.1875 50.953125 41.515625 \r\nQ 57.328125 34.859375 57.328125 23.390625 \r\nQ 57.328125 12.15625 50.6875 5.359375 \r\nQ 44.046875 -1.421875 33.015625 -1.421875 \r\nQ 20.359375 -1.421875 13.671875 8.265625 \r\nQ 6.984375 17.96875 6.984375 36.375 \r\nQ 6.984375 53.65625 15.1875 63.9375 \r\nQ 23.390625 74.21875 37.203125 74.21875 \r\nQ 40.921875 74.21875 44.703125 73.484375 \r\nQ 48.484375 72.75 52.59375 71.296875 \r\nz\r\n\" id=\"DejaVuSans-54\"/>\r\n     <path d=\"M 8.203125 72.90625 \r\nL 55.078125 72.90625 \r\nL 55.078125 68.703125 \r\nL 28.609375 0 \r\nL 18.3125 0 \r\nL 43.21875 64.59375 \r\nL 8.203125 64.59375 \r\nz\r\n\" id=\"DejaVuSans-55\"/>\r\n     <path d=\"M 10.984375 1.515625 \r\nL 10.984375 10.5 \r\nQ 14.703125 8.734375 18.5 7.8125 \r\nQ 22.3125 6.890625 25.984375 6.890625 \r\nQ 35.75 6.890625 40.890625 13.453125 \r\nQ 46.046875 20.015625 46.78125 33.40625 \r\nQ 43.953125 29.203125 39.59375 26.953125 \r\nQ 35.25 24.703125 29.984375 24.703125 \r\nQ 19.046875 24.703125 12.671875 31.3125 \r\nQ 6.296875 37.9375 6.296875 49.421875 \r\nQ 6.296875 60.640625 12.9375 67.421875 \r\nQ 19.578125 74.21875 30.609375 74.21875 \r\nQ 43.265625 74.21875 49.921875 64.515625 \r\nQ 56.59375 54.828125 56.59375 36.375 \r\nQ 56.59375 19.140625 48.40625 8.859375 \r\nQ 40.234375 -1.421875 26.421875 -1.421875 \r\nQ 22.703125 -1.421875 18.890625 -0.6875 \r\nQ 15.09375 0.046875 10.984375 1.515625 \r\nz\r\nM 30.609375 32.421875 \r\nQ 37.25 32.421875 41.125 36.953125 \r\nQ 45.015625 41.5 45.015625 49.421875 \r\nQ 45.015625 57.28125 41.125 61.84375 \r\nQ 37.25 66.40625 30.609375 66.40625 \r\nQ 23.96875 66.40625 20.09375 61.84375 \r\nQ 16.21875 57.28125 16.21875 49.421875 \r\nQ 16.21875 41.5 20.09375 36.953125 \r\nQ 23.96875 32.421875 30.609375 32.421875 \r\nz\r\n\" id=\"DejaVuSans-57\"/>\r\n     <path d=\"M 40.578125 39.3125 \r\nQ 47.65625 37.796875 51.625 33 \r\nQ 55.609375 28.21875 55.609375 21.1875 \r\nQ 55.609375 10.40625 48.1875 4.484375 \r\nQ 40.765625 -1.421875 27.09375 -1.421875 \r\nQ 22.515625 -1.421875 17.65625 -0.515625 \r\nQ 12.796875 0.390625 7.625 2.203125 \r\nL 7.625 11.71875 \r\nQ 11.71875 9.328125 16.59375 8.109375 \r\nQ 21.484375 6.890625 26.8125 6.890625 \r\nQ 36.078125 6.890625 40.9375 10.546875 \r\nQ 45.796875 14.203125 45.796875 21.1875 \r\nQ 45.796875 27.640625 41.28125 31.265625 \r\nQ 36.765625 34.90625 28.71875 34.90625 \r\nL 20.21875 34.90625 \r\nL 20.21875 43.015625 \r\nL 29.109375 43.015625 \r\nQ 36.375 43.015625 40.234375 45.921875 \r\nQ 44.09375 48.828125 44.09375 54.296875 \r\nQ 44.09375 59.90625 40.109375 62.90625 \r\nQ 36.140625 65.921875 28.71875 65.921875 \r\nQ 24.65625 65.921875 20.015625 65.03125 \r\nQ 15.375 64.15625 9.8125 62.3125 \r\nL 9.8125 71.09375 \r\nQ 15.4375 72.65625 20.34375 73.4375 \r\nQ 25.25 74.21875 29.59375 74.21875 \r\nQ 40.828125 74.21875 47.359375 69.109375 \r\nQ 53.90625 64.015625 53.90625 55.328125 \r\nQ 53.90625 49.265625 50.4375 45.09375 \r\nQ 46.96875 40.921875 40.578125 39.3125 \r\nz\r\n\" id=\"DejaVuSans-51\"/>\r\n    </defs>\r\n    <g style=\"fill:#262626;\" transform=\"translate(74.26875 93.0275)scale(0.1 -0.1)\">\r\n     <use xlink:href=\"#DejaVuSans-49\"/>\r\n     <use x=\"63.623047\" xlink:href=\"#DejaVuSans-54\"/>\r\n     <use x=\"127.246094\" xlink:href=\"#DejaVuSans-55\"/>\r\n     <use x=\"190.869141\" xlink:href=\"#DejaVuSans-57\"/>\r\n     <use x=\"254.492188\" xlink:href=\"#DejaVuSans-57\"/>\r\n     <use x=\"318.115234\" xlink:href=\"#DejaVuSans-51\"/>\r\n    </g>\r\n   </g>\r\n   <g id=\"text_8\">\r\n    <!-- 58 -->\r\n    <defs>\r\n     <path d=\"M 10.796875 72.90625 \r\nL 49.515625 72.90625 \r\nL 49.515625 64.59375 \r\nL 19.828125 64.59375 \r\nL 19.828125 46.734375 \r\nQ 21.96875 47.46875 24.109375 47.828125 \r\nQ 26.265625 48.1875 28.421875 48.1875 \r\nQ 40.625 48.1875 47.75 41.5 \r\nQ 54.890625 34.8125 54.890625 23.390625 \r\nQ 54.890625 11.625 47.5625 5.09375 \r\nQ 40.234375 -1.421875 26.90625 -1.421875 \r\nQ 22.3125 -1.421875 17.546875 -0.640625 \r\nQ 12.796875 0.140625 7.71875 1.703125 \r\nL 7.71875 11.625 \r\nQ 12.109375 9.234375 16.796875 8.0625 \r\nQ 21.484375 6.890625 26.703125 6.890625 \r\nQ 35.15625 6.890625 40.078125 11.328125 \r\nQ 45.015625 15.765625 45.015625 23.390625 \r\nQ 45.015625 31 40.078125 35.4375 \r\nQ 35.15625 39.890625 26.703125 39.890625 \r\nQ 22.75 39.890625 18.8125 39.015625 \r\nQ 14.890625 38.140625 10.796875 36.28125 \r\nz\r\n\" id=\"DejaVuSans-53\"/>\r\n     <path d=\"M 31.78125 34.625 \r\nQ 24.75 34.625 20.71875 30.859375 \r\nQ 16.703125 27.09375 16.703125 20.515625 \r\nQ 16.703125 13.921875 20.71875 10.15625 \r\nQ 24.75 6.390625 31.78125 6.390625 \r\nQ 38.8125 6.390625 42.859375 10.171875 \r\nQ 46.921875 13.96875 46.921875 20.515625 \r\nQ 46.921875 27.09375 42.890625 30.859375 \r\nQ 38.875 34.625 31.78125 34.625 \r\nz\r\nM 21.921875 38.8125 \r\nQ 15.578125 40.375 12.03125 44.71875 \r\nQ 8.5 49.078125 8.5 55.328125 \r\nQ 8.5 64.0625 14.71875 69.140625 \r\nQ 20.953125 74.21875 31.78125 74.21875 \r\nQ 42.671875 74.21875 48.875 69.140625 \r\nQ 55.078125 64.0625 55.078125 55.328125 \r\nQ 55.078125 49.078125 51.53125 44.71875 \r\nQ 48 40.375 41.703125 38.8125 \r\nQ 48.828125 37.15625 52.796875 32.3125 \r\nQ 56.78125 27.484375 56.78125 20.515625 \r\nQ 56.78125 9.90625 50.3125 4.234375 \r\nQ 43.84375 -1.421875 31.78125 -1.421875 \r\nQ 19.734375 -1.421875 13.25 4.234375 \r\nQ 6.78125 9.90625 6.78125 20.515625 \r\nQ 6.78125 27.484375 10.78125 32.3125 \r\nQ 14.796875 37.15625 21.921875 38.8125 \r\nz\r\nM 18.3125 54.390625 \r\nQ 18.3125 48.734375 21.84375 45.5625 \r\nQ 25.390625 42.390625 31.78125 42.390625 \r\nQ 38.140625 42.390625 41.71875 45.5625 \r\nQ 45.3125 48.734375 45.3125 54.390625 \r\nQ 45.3125 60.0625 41.71875 63.234375 \r\nQ 38.140625 66.40625 31.78125 66.40625 \r\nQ 25.390625 66.40625 21.84375 63.234375 \r\nQ 18.3125 60.0625 18.3125 54.390625 \r\nz\r\n\" id=\"DejaVuSans-56\"/>\r\n    </defs>\r\n    <g style=\"fill:#ffffff;\" transform=\"translate(198.59375 93.0275)scale(0.1 -0.1)\">\r\n     <use xlink:href=\"#DejaVuSans-53\"/>\r\n     <use x=\"63.623047\" xlink:href=\"#DejaVuSans-56\"/>\r\n    </g>\r\n   </g>\r\n   <g id=\"text_9\">\r\n    <!-- 449 -->\r\n    <defs>\r\n     <path d=\"M 37.796875 64.3125 \r\nL 12.890625 25.390625 \r\nL 37.796875 25.390625 \r\nz\r\nM 35.203125 72.90625 \r\nL 47.609375 72.90625 \r\nL 47.609375 25.390625 \r\nL 58.015625 25.390625 \r\nL 58.015625 17.1875 \r\nL 47.609375 17.1875 \r\nL 47.609375 0 \r\nL 37.796875 0 \r\nL 37.796875 17.1875 \r\nL 4.890625 17.1875 \r\nL 4.890625 26.703125 \r\nz\r\n\" id=\"DejaVuSans-52\"/>\r\n    </defs>\r\n    <g style=\"fill:#ffffff;\" transform=\"translate(83.8125 228.9275)scale(0.1 -0.1)\">\r\n     <use xlink:href=\"#DejaVuSans-52\"/>\r\n     <use x=\"63.623047\" xlink:href=\"#DejaVuSans-52\"/>\r\n     <use x=\"127.246094\" xlink:href=\"#DejaVuSans-57\"/>\r\n    </g>\r\n   </g>\r\n   <g id=\"text_10\">\r\n    <!-- 1731 -->\r\n    <g style=\"fill:#ffffff;\" transform=\"translate(192.23125 228.9275)scale(0.1 -0.1)\">\r\n     <use xlink:href=\"#DejaVuSans-49\"/>\r\n     <use x=\"63.623047\" xlink:href=\"#DejaVuSans-55\"/>\r\n     <use x=\"127.246094\" xlink:href=\"#DejaVuSans-51\"/>\r\n     <use x=\"190.869141\" xlink:href=\"#DejaVuSans-49\"/>\r\n    </g>\r\n   </g>\r\n   <g id=\"text_11\">\r\n    <!-- Confusion matrix @0.50 -->\r\n    <defs>\r\n     <path d=\"M 64.40625 67.28125 \r\nL 64.40625 56.890625 \r\nQ 59.421875 61.53125 53.78125 63.8125 \r\nQ 48.140625 66.109375 41.796875 66.109375 \r\nQ 29.296875 66.109375 22.65625 58.46875 \r\nQ 16.015625 50.828125 16.015625 36.375 \r\nQ 16.015625 21.96875 22.65625 14.328125 \r\nQ 29.296875 6.6875 41.796875 6.6875 \r\nQ 48.140625 6.6875 53.78125 8.984375 \r\nQ 59.421875 11.28125 64.40625 15.921875 \r\nL 64.40625 5.609375 \r\nQ 59.234375 2.09375 53.4375 0.328125 \r\nQ 47.65625 -1.421875 41.21875 -1.421875 \r\nQ 24.65625 -1.421875 15.125 8.703125 \r\nQ 5.609375 18.84375 5.609375 36.375 \r\nQ 5.609375 53.953125 15.125 64.078125 \r\nQ 24.65625 74.21875 41.21875 74.21875 \r\nQ 47.75 74.21875 53.53125 72.484375 \r\nQ 59.328125 70.75 64.40625 67.28125 \r\nz\r\n\" id=\"DejaVuSans-67\"/>\r\n     <path d=\"M 30.609375 48.390625 \r\nQ 23.390625 48.390625 19.1875 42.75 \r\nQ 14.984375 37.109375 14.984375 27.296875 \r\nQ 14.984375 17.484375 19.15625 11.84375 \r\nQ 23.34375 6.203125 30.609375 6.203125 \r\nQ 37.796875 6.203125 41.984375 11.859375 \r\nQ 46.1875 17.53125 46.1875 27.296875 \r\nQ 46.1875 37.015625 41.984375 42.703125 \r\nQ 37.796875 48.390625 30.609375 48.390625 \r\nz\r\nM 30.609375 56 \r\nQ 42.328125 56 49.015625 48.375 \r\nQ 55.71875 40.765625 55.71875 27.296875 \r\nQ 55.71875 13.875 49.015625 6.21875 \r\nQ 42.328125 -1.421875 30.609375 -1.421875 \r\nQ 18.84375 -1.421875 12.171875 6.21875 \r\nQ 5.515625 13.875 5.515625 27.296875 \r\nQ 5.515625 40.765625 12.171875 48.375 \r\nQ 18.84375 56 30.609375 56 \r\nz\r\n\" id=\"DejaVuSans-111\"/>\r\n     <path d=\"M 54.890625 33.015625 \r\nL 54.890625 0 \r\nL 45.90625 0 \r\nL 45.90625 32.71875 \r\nQ 45.90625 40.484375 42.875 44.328125 \r\nQ 39.84375 48.1875 33.796875 48.1875 \r\nQ 26.515625 48.1875 22.3125 43.546875 \r\nQ 18.109375 38.921875 18.109375 30.90625 \r\nL 18.109375 0 \r\nL 9.078125 0 \r\nL 9.078125 54.6875 \r\nL 18.109375 54.6875 \r\nL 18.109375 46.1875 \r\nQ 21.34375 51.125 25.703125 53.5625 \r\nQ 30.078125 56 35.796875 56 \r\nQ 45.21875 56 50.046875 50.171875 \r\nQ 54.890625 44.34375 54.890625 33.015625 \r\nz\r\n\" id=\"DejaVuSans-110\"/>\r\n     <path d=\"M 37.109375 75.984375 \r\nL 37.109375 68.5 \r\nL 28.515625 68.5 \r\nQ 23.6875 68.5 21.796875 66.546875 \r\nQ 19.921875 64.59375 19.921875 59.515625 \r\nL 19.921875 54.6875 \r\nL 34.71875 54.6875 \r\nL 34.71875 47.703125 \r\nL 19.921875 47.703125 \r\nL 19.921875 0 \r\nL 10.890625 0 \r\nL 10.890625 47.703125 \r\nL 2.296875 47.703125 \r\nL 2.296875 54.6875 \r\nL 10.890625 54.6875 \r\nL 10.890625 58.5 \r\nQ 10.890625 67.625 15.140625 71.796875 \r\nQ 19.390625 75.984375 28.609375 75.984375 \r\nz\r\n\" id=\"DejaVuSans-102\"/>\r\n     <path d=\"M 44.28125 53.078125 \r\nL 44.28125 44.578125 \r\nQ 40.484375 46.53125 36.375 47.5 \r\nQ 32.28125 48.484375 27.875 48.484375 \r\nQ 21.1875 48.484375 17.84375 46.4375 \r\nQ 14.5 44.390625 14.5 40.28125 \r\nQ 14.5 37.15625 16.890625 35.375 \r\nQ 19.28125 33.59375 26.515625 31.984375 \r\nL 29.59375 31.296875 \r\nQ 39.15625 29.25 43.1875 25.515625 \r\nQ 47.21875 21.78125 47.21875 15.09375 \r\nQ 47.21875 7.46875 41.1875 3.015625 \r\nQ 35.15625 -1.421875 24.609375 -1.421875 \r\nQ 20.21875 -1.421875 15.453125 -0.5625 \r\nQ 10.6875 0.296875 5.421875 2 \r\nL 5.421875 11.28125 \r\nQ 10.40625 8.6875 15.234375 7.390625 \r\nQ 20.0625 6.109375 24.8125 6.109375 \r\nQ 31.15625 6.109375 34.5625 8.28125 \r\nQ 37.984375 10.453125 37.984375 14.40625 \r\nQ 37.984375 18.0625 35.515625 20.015625 \r\nQ 33.0625 21.96875 24.703125 23.78125 \r\nL 21.578125 24.515625 \r\nQ 13.234375 26.265625 9.515625 29.90625 \r\nQ 5.8125 33.546875 5.8125 39.890625 \r\nQ 5.8125 47.609375 11.28125 51.796875 \r\nQ 16.75 56 26.8125 56 \r\nQ 31.78125 56 36.171875 55.265625 \r\nQ 40.578125 54.546875 44.28125 53.078125 \r\nz\r\n\" id=\"DejaVuSans-115\"/>\r\n     <path d=\"M 52 44.1875 \r\nQ 55.375 50.25 60.0625 53.125 \r\nQ 64.75 56 71.09375 56 \r\nQ 79.640625 56 84.28125 50.015625 \r\nQ 88.921875 44.046875 88.921875 33.015625 \r\nL 88.921875 0 \r\nL 79.890625 0 \r\nL 79.890625 32.71875 \r\nQ 79.890625 40.578125 77.09375 44.375 \r\nQ 74.3125 48.1875 68.609375 48.1875 \r\nQ 61.625 48.1875 57.5625 43.546875 \r\nQ 53.515625 38.921875 53.515625 30.90625 \r\nL 53.515625 0 \r\nL 44.484375 0 \r\nL 44.484375 32.71875 \r\nQ 44.484375 40.625 41.703125 44.40625 \r\nQ 38.921875 48.1875 33.109375 48.1875 \r\nQ 26.21875 48.1875 22.15625 43.53125 \r\nQ 18.109375 38.875 18.109375 30.90625 \r\nL 18.109375 0 \r\nL 9.078125 0 \r\nL 9.078125 54.6875 \r\nL 18.109375 54.6875 \r\nL 18.109375 46.1875 \r\nQ 21.1875 51.21875 25.484375 53.609375 \r\nQ 29.78125 56 35.6875 56 \r\nQ 41.65625 56 45.828125 52.96875 \r\nQ 50 49.953125 52 44.1875 \r\nz\r\n\" id=\"DejaVuSans-109\"/>\r\n     <path d=\"M 54.890625 54.6875 \r\nL 35.109375 28.078125 \r\nL 55.90625 0 \r\nL 45.3125 0 \r\nL 29.390625 21.484375 \r\nL 13.484375 0 \r\nL 2.875 0 \r\nL 24.125 28.609375 \r\nL 4.6875 54.6875 \r\nL 15.28125 54.6875 \r\nL 29.78125 35.203125 \r\nL 44.28125 54.6875 \r\nz\r\n\" id=\"DejaVuSans-120\"/>\r\n     <path d=\"M 37.203125 26.21875 \r\nQ 37.203125 19.234375 40.671875 15.25 \r\nQ 44.140625 11.28125 50.203125 11.28125 \r\nQ 56.203125 11.28125 59.640625 15.28125 \r\nQ 63.09375 19.28125 63.09375 26.21875 \r\nQ 63.09375 33.0625 59.578125 37.078125 \r\nQ 56.0625 41.109375 50.09375 41.109375 \r\nQ 44.1875 41.109375 40.6875 37.109375 \r\nQ 37.203125 33.109375 37.203125 26.21875 \r\nz\r\nM 63.8125 11.625 \r\nQ 60.890625 7.859375 57.109375 6.078125 \r\nQ 53.328125 4.296875 48.296875 4.296875 \r\nQ 39.890625 4.296875 34.640625 10.375 \r\nQ 29.390625 16.453125 29.390625 26.21875 \r\nQ 29.390625 35.984375 34.65625 42.078125 \r\nQ 39.9375 48.1875 48.296875 48.1875 \r\nQ 53.328125 48.1875 57.125 46.359375 \r\nQ 60.9375 44.53125 63.8125 40.828125 \r\nL 63.8125 47.21875 \r\nL 70.796875 47.21875 \r\nL 70.796875 11.28125 \r\nQ 77.9375 12.359375 81.953125 17.796875 \r\nQ 85.984375 23.25 85.984375 31.890625 \r\nQ 85.984375 37.109375 84.4375 41.703125 \r\nQ 82.90625 46.296875 79.78125 50.203125 \r\nQ 74.703125 56.59375 67.40625 59.984375 \r\nQ 60.109375 63.375 51.515625 63.375 \r\nQ 45.515625 63.375 39.984375 61.78125 \r\nQ 34.46875 60.203125 29.78125 57.078125 \r\nQ 22.125 52.09375 17.796875 44.015625 \r\nQ 13.484375 35.9375 13.484375 26.515625 \r\nQ 13.484375 18.75 16.28125 11.953125 \r\nQ 19.09375 5.171875 24.421875 0 \r\nQ 29.546875 -5.078125 36.28125 -7.734375 \r\nQ 43.015625 -10.40625 50.6875 -10.40625 \r\nQ 56.984375 -10.40625 63.0625 -8.28125 \r\nQ 69.140625 -6.15625 74.21875 -2.203125 \r\nL 78.609375 -7.625 \r\nQ 72.515625 -12.359375 65.3125 -14.875 \r\nQ 58.109375 -17.390625 50.6875 -17.390625 \r\nQ 41.65625 -17.390625 33.640625 -14.1875 \r\nQ 25.640625 -10.984375 19.390625 -4.890625 \r\nQ 13.140625 1.21875 9.859375 9.25 \r\nQ 6.59375 17.28125 6.59375 26.515625 \r\nQ 6.59375 35.40625 9.90625 43.453125 \r\nQ 13.234375 51.515625 19.390625 57.625 \r\nQ 25.6875 63.8125 33.9375 67.109375 \r\nQ 42.1875 70.40625 51.421875 70.40625 \r\nQ 61.765625 70.40625 70.625 66.15625 \r\nQ 79.5 61.921875 85.5 54.109375 \r\nQ 89.15625 49.3125 91.078125 43.703125 \r\nQ 93.015625 38.09375 93.015625 32.078125 \r\nQ 93.015625 19.234375 85.25 11.8125 \r\nQ 77.484375 4.390625 63.8125 4.109375 \r\nz\r\n\" id=\"DejaVuSans-64\"/>\r\n     <path d=\"M 10.6875 12.40625 \r\nL 21 12.40625 \r\nL 21 0 \r\nL 10.6875 0 \r\nz\r\n\" id=\"DejaVuSans-46\"/>\r\n    </defs>\r\n    <g transform=\"translate(76.580625 16.318125)scale(0.12 -0.12)\">\r\n     <use xlink:href=\"#DejaVuSans-67\"/>\r\n     <use x=\"69.824219\" xlink:href=\"#DejaVuSans-111\"/>\r\n     <use x=\"131.005859\" xlink:href=\"#DejaVuSans-110\"/>\r\n     <use x=\"194.384766\" xlink:href=\"#DejaVuSans-102\"/>\r\n     <use x=\"229.589844\" xlink:href=\"#DejaVuSans-117\"/>\r\n     <use x=\"292.96875\" xlink:href=\"#DejaVuSans-115\"/>\r\n     <use x=\"345.068359\" xlink:href=\"#DejaVuSans-105\"/>\r\n     <use x=\"372.851562\" xlink:href=\"#DejaVuSans-111\"/>\r\n     <use x=\"434.033203\" xlink:href=\"#DejaVuSans-110\"/>\r\n     <use x=\"497.412109\" xlink:href=\"#DejaVuSans-32\"/>\r\n     <use x=\"529.199219\" xlink:href=\"#DejaVuSans-109\"/>\r\n     <use x=\"626.611328\" xlink:href=\"#DejaVuSans-97\"/>\r\n     <use x=\"687.890625\" xlink:href=\"#DejaVuSans-116\"/>\r\n     <use x=\"727.099609\" xlink:href=\"#DejaVuSans-114\"/>\r\n     <use x=\"768.212891\" xlink:href=\"#DejaVuSans-105\"/>\r\n     <use x=\"795.996094\" xlink:href=\"#DejaVuSans-120\"/>\r\n     <use x=\"855.175781\" xlink:href=\"#DejaVuSans-32\"/>\r\n     <use x=\"886.962891\" xlink:href=\"#DejaVuSans-64\"/>\r\n     <use x=\"986.962891\" xlink:href=\"#DejaVuSans-48\"/>\r\n     <use x=\"1050.585938\" xlink:href=\"#DejaVuSans-46\"/>\r\n     <use x=\"1082.373047\" xlink:href=\"#DejaVuSans-53\"/>\r\n     <use x=\"1145.996094\" xlink:href=\"#DejaVuSans-48\"/>\r\n    </g>\r\n   </g>\r\n  </g>\r\n  <g id=\"axes_2\">\r\n   <g id=\"patch_3\">\r\n    <path clip-path=\"url(#pb3f48e5a5b)\" d=\"M 274.70625 294.118125 \r\nL 274.70625 293.056406 \r\nL 274.70625 23.379844 \r\nL 274.70625 22.318125 \r\nL 288.29625 22.318125 \r\nL 288.29625 23.379844 \r\nL 288.29625 293.056406 \r\nL 288.29625 294.118125 \r\nz\r\n\" style=\"fill:#ffffff;stroke:#ffffff;stroke-linejoin:miter;stroke-width:0.01;\"/>\r\n   </g>\r\n   <image height=\"271\" id=\"image94bcee574a\" transform=\"scale(1 -1)translate(0 -271)\" width=\"13\" x=\"275\" xlink:href=\"data:image/png;base64,\r\niVBORw0KGgoAAAANSUhEUgAAAA0AAAEPCAYAAACZVE7DAAAABHNCSVQICAgIfAhkiAAAAWdJREFUaIHtm8ENwzAMA6U0XaL779l+soCuwIEQ7D9BiSKdOHX7fn++NVx3d08xFFQW02WVd40RhctDQoRLnt0TMuxGISDTPB3xIfQccZgepnSXHyGqcAhRT4jpzOlhYj3N18qezOHOFwuh53JmIy+EYwjdWEwhopnEOVk9qSFETABkxh2AVpY3/pYj94RAXtznC77DkjmZkhPQwp5ay9NKya3y6EFyXl/8DvslPREmaCNL8kZMcyKsnjcnxDQH0U+qACSqB54A90VA8CBJmLye0HBPeQ8T2PjgQRIJAcpT1RtjYHlQiDGGMqWXR5g8R3ghJOWVKIQFIvotZQJfPsKZijBp5bHkmj1ZIPT7k1deXeCiSPqcyOUX0RGW5DCEonoak9aTNtz4ObF9D/WULDl9EpL7e6KNNJBnoyPEPyBPvewQxtvoMHGm7pfEFC6EGUIiebQQpo2yhQgfLvoXxUL1zHfYfZL/ADHDLdv3EpXIAAAAAElFTkSuQmCC\" y=\"-22\"/>\r\n   <g id=\"matplotlib.axis_3\"/>\r\n   <g id=\"matplotlib.axis_4\">\r\n    <g id=\"ytick_3\">\r\n     <g id=\"line2d_5\">\r\n      <defs>\r\n       <path d=\"M 0 0 \r\nL 3.5 0 \r\n\" id=\"m0f15d32b45\" style=\"stroke:#000000;stroke-width:0.8;\"/>\r\n      </defs>\r\n      <g>\r\n       <use style=\"stroke:#000000;stroke-width:0.8;\" x=\"288.29625\" xlink:href=\"#m0f15d32b45\" y=\"261.84233\"/>\r\n      </g>\r\n     </g>\r\n     <g id=\"text_12\">\r\n      <!-- 20000 -->\r\n      <defs>\r\n       <path d=\"M 19.1875 8.296875 \r\nL 53.609375 8.296875 \r\nL 53.609375 0 \r\nL 7.328125 0 \r\nL 7.328125 8.296875 \r\nQ 12.9375 14.109375 22.625 23.890625 \r\nQ 32.328125 33.6875 34.8125 36.53125 \r\nQ 39.546875 41.84375 41.421875 45.53125 \r\nQ 43.3125 49.21875 43.3125 52.78125 \r\nQ 43.3125 58.59375 39.234375 62.25 \r\nQ 35.15625 65.921875 28.609375 65.921875 \r\nQ 23.96875 65.921875 18.8125 64.3125 \r\nQ 13.671875 62.703125 7.8125 59.421875 \r\nL 7.8125 69.390625 \r\nQ 13.765625 71.78125 18.9375 73 \r\nQ 24.125 74.21875 28.421875 74.21875 \r\nQ 39.75 74.21875 46.484375 68.546875 \r\nQ 53.21875 62.890625 53.21875 53.421875 \r\nQ 53.21875 48.921875 51.53125 44.890625 \r\nQ 49.859375 40.875 45.40625 35.40625 \r\nQ 44.1875 33.984375 37.640625 27.21875 \r\nQ 31.109375 20.453125 19.1875 8.296875 \r\nz\r\n\" id=\"DejaVuSans-50\"/>\r\n      </defs>\r\n      <g transform=\"translate(295.29625 265.641549)scale(0.1 -0.1)\">\r\n       <use xlink:href=\"#DejaVuSans-50\"/>\r\n       <use x=\"63.623047\" xlink:href=\"#DejaVuSans-48\"/>\r\n       <use x=\"127.246094\" xlink:href=\"#DejaVuSans-48\"/>\r\n       <use x=\"190.869141\" xlink:href=\"#DejaVuSans-48\"/>\r\n       <use x=\"254.492188\" xlink:href=\"#DejaVuSans-48\"/>\r\n      </g>\r\n     </g>\r\n    </g>\r\n    <g id=\"ytick_4\">\r\n     <g id=\"line2d_6\">\r\n      <g>\r\n       <use style=\"stroke:#000000;stroke-width:0.8;\" x=\"288.29625\" xlink:href=\"#m0f15d32b45\" y=\"229.472663\"/>\r\n      </g>\r\n     </g>\r\n     <g id=\"text_13\">\r\n      <!-- 40000 -->\r\n      <g transform=\"translate(295.29625 233.271882)scale(0.1 -0.1)\">\r\n       <use xlink:href=\"#DejaVuSans-52\"/>\r\n       <use x=\"63.623047\" xlink:href=\"#DejaVuSans-48\"/>\r\n       <use x=\"127.246094\" xlink:href=\"#DejaVuSans-48\"/>\r\n       <use x=\"190.869141\" xlink:href=\"#DejaVuSans-48\"/>\r\n       <use x=\"254.492188\" xlink:href=\"#DejaVuSans-48\"/>\r\n      </g>\r\n     </g>\r\n    </g>\r\n    <g id=\"ytick_5\">\r\n     <g id=\"line2d_7\">\r\n      <g>\r\n       <use style=\"stroke:#000000;stroke-width:0.8;\" x=\"288.29625\" xlink:href=\"#m0f15d32b45\" y=\"197.102997\"/>\r\n      </g>\r\n     </g>\r\n     <g id=\"text_14\">\r\n      <!-- 60000 -->\r\n      <g transform=\"translate(295.29625 200.902215)scale(0.1 -0.1)\">\r\n       <use xlink:href=\"#DejaVuSans-54\"/>\r\n       <use x=\"63.623047\" xlink:href=\"#DejaVuSans-48\"/>\r\n       <use x=\"127.246094\" xlink:href=\"#DejaVuSans-48\"/>\r\n       <use x=\"190.869141\" xlink:href=\"#DejaVuSans-48\"/>\r\n       <use x=\"254.492188\" xlink:href=\"#DejaVuSans-48\"/>\r\n      </g>\r\n     </g>\r\n    </g>\r\n    <g id=\"ytick_6\">\r\n     <g id=\"line2d_8\">\r\n      <g>\r\n       <use style=\"stroke:#000000;stroke-width:0.8;\" x=\"288.29625\" xlink:href=\"#m0f15d32b45\" y=\"164.73333\"/>\r\n      </g>\r\n     </g>\r\n     <g id=\"text_15\">\r\n      <!-- 80000 -->\r\n      <g transform=\"translate(295.29625 168.532548)scale(0.1 -0.1)\">\r\n       <use xlink:href=\"#DejaVuSans-56\"/>\r\n       <use x=\"63.623047\" xlink:href=\"#DejaVuSans-48\"/>\r\n       <use x=\"127.246094\" xlink:href=\"#DejaVuSans-48\"/>\r\n       <use x=\"190.869141\" xlink:href=\"#DejaVuSans-48\"/>\r\n       <use x=\"254.492188\" xlink:href=\"#DejaVuSans-48\"/>\r\n      </g>\r\n     </g>\r\n    </g>\r\n    <g id=\"ytick_7\">\r\n     <g id=\"line2d_9\">\r\n      <g>\r\n       <use style=\"stroke:#000000;stroke-width:0.8;\" x=\"288.29625\" xlink:href=\"#m0f15d32b45\" y=\"132.363663\"/>\r\n      </g>\r\n     </g>\r\n     <g id=\"text_16\">\r\n      <!-- 100000 -->\r\n      <g transform=\"translate(295.29625 136.162882)scale(0.1 -0.1)\">\r\n       <use xlink:href=\"#DejaVuSans-49\"/>\r\n       <use x=\"63.623047\" xlink:href=\"#DejaVuSans-48\"/>\r\n       <use x=\"127.246094\" xlink:href=\"#DejaVuSans-48\"/>\r\n       <use x=\"190.869141\" xlink:href=\"#DejaVuSans-48\"/>\r\n       <use x=\"254.492188\" xlink:href=\"#DejaVuSans-48\"/>\r\n       <use x=\"318.115234\" xlink:href=\"#DejaVuSans-48\"/>\r\n      </g>\r\n     </g>\r\n    </g>\r\n    <g id=\"ytick_8\">\r\n     <g id=\"line2d_10\">\r\n      <g>\r\n       <use style=\"stroke:#000000;stroke-width:0.8;\" x=\"288.29625\" xlink:href=\"#m0f15d32b45\" y=\"99.993996\"/>\r\n      </g>\r\n     </g>\r\n     <g id=\"text_17\">\r\n      <!-- 120000 -->\r\n      <g transform=\"translate(295.29625 103.793215)scale(0.1 -0.1)\">\r\n       <use xlink:href=\"#DejaVuSans-49\"/>\r\n       <use x=\"63.623047\" xlink:href=\"#DejaVuSans-50\"/>\r\n       <use x=\"127.246094\" xlink:href=\"#DejaVuSans-48\"/>\r\n       <use x=\"190.869141\" xlink:href=\"#DejaVuSans-48\"/>\r\n       <use x=\"254.492188\" xlink:href=\"#DejaVuSans-48\"/>\r\n       <use x=\"318.115234\" xlink:href=\"#DejaVuSans-48\"/>\r\n      </g>\r\n     </g>\r\n    </g>\r\n    <g id=\"ytick_9\">\r\n     <g id=\"line2d_11\">\r\n      <g>\r\n       <use style=\"stroke:#000000;stroke-width:0.8;\" x=\"288.29625\" xlink:href=\"#m0f15d32b45\" y=\"67.624329\"/>\r\n      </g>\r\n     </g>\r\n     <g id=\"text_18\">\r\n      <!-- 140000 -->\r\n      <g transform=\"translate(295.29625 71.423548)scale(0.1 -0.1)\">\r\n       <use xlink:href=\"#DejaVuSans-49\"/>\r\n       <use x=\"63.623047\" xlink:href=\"#DejaVuSans-52\"/>\r\n       <use x=\"127.246094\" xlink:href=\"#DejaVuSans-48\"/>\r\n       <use x=\"190.869141\" xlink:href=\"#DejaVuSans-48\"/>\r\n       <use x=\"254.492188\" xlink:href=\"#DejaVuSans-48\"/>\r\n       <use x=\"318.115234\" xlink:href=\"#DejaVuSans-48\"/>\r\n      </g>\r\n     </g>\r\n    </g>\r\n    <g id=\"ytick_10\">\r\n     <g id=\"line2d_12\">\r\n      <g>\r\n       <use style=\"stroke:#000000;stroke-width:0.8;\" x=\"288.29625\" xlink:href=\"#m0f15d32b45\" y=\"35.254662\"/>\r\n      </g>\r\n     </g>\r\n     <g id=\"text_19\">\r\n      <!-- 160000 -->\r\n      <g transform=\"translate(295.29625 39.053881)scale(0.1 -0.1)\">\r\n       <use xlink:href=\"#DejaVuSans-49\"/>\r\n       <use x=\"63.623047\" xlink:href=\"#DejaVuSans-54\"/>\r\n       <use x=\"127.246094\" xlink:href=\"#DejaVuSans-48\"/>\r\n       <use x=\"190.869141\" xlink:href=\"#DejaVuSans-48\"/>\r\n       <use x=\"254.492188\" xlink:href=\"#DejaVuSans-48\"/>\r\n       <use x=\"318.115234\" xlink:href=\"#DejaVuSans-48\"/>\r\n      </g>\r\n     </g>\r\n    </g>\r\n   </g>\r\n   <g id=\"patch_4\">\r\n    <path d=\"M 274.70625 294.118125 \r\nL 274.70625 293.056406 \r\nL 274.70625 23.379844 \r\nL 274.70625 22.318125 \r\nL 288.29625 22.318125 \r\nL 288.29625 23.379844 \r\nL 288.29625 293.056406 \r\nL 288.29625 294.118125 \r\nz\r\n\" style=\"fill:none;\"/>\r\n   </g>\r\n  </g>\r\n </g>\r\n <defs>\r\n  <clipPath id=\"p1582caa9c6\">\r\n   <rect height=\"271.8\" width=\"223.2\" x=\"37.55625\" y=\"22.318125\"/>\r\n  </clipPath>\r\n  <clipPath id=\"pb3f48e5a5b\">\r\n   <rect height=\"271.8\" width=\"13.59\" x=\"274.70625\" y=\"22.318125\"/>\r\n  </clipPath>\r\n </defs>\r\n</svg>\r\n",
      "image/png": "[encoded data removed]"
     },
     "metadata": {
      "needs_background": "light"
     }
    }
   ],
   "source": [
    "plot_cm(y_train_ori[: len(y_train_predicted_mean)], y_train_predicted_mean, p=0.5)"
   ]
  },
  {
   "cell_type": "code",
   "execution_count": null,
   "metadata": {},
   "outputs": [],
   "source": []
  }
 ]
}